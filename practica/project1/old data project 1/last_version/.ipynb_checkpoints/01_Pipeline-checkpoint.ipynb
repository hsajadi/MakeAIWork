{
 "cells": [
  {
   "cell_type": "markdown",
   "id": "3d523452-02b0-49c3-b655-0282119d1874",
   "metadata": {},
   "source": [
    "<H1><B>01 PIPELINE & DATA COLLECTION</B></H1>"
   ]
  },
  {
   "cell_type": "code",
   "execution_count": 1,
   "id": "15875926-08fd-4632-94ac-3a3d0c23a068",
   "metadata": {
    "tags": []
   },
   "outputs": [
    {
     "name": "stdout",
     "output_type": "stream",
     "text": [
      "#!/usr/bin/env python\n",
      "\n",
      "# Imports\n",
      "import logging\n",
      "import pandas as pd\n",
      "import sqlite3\n",
      "\n",
      "# Hardening\n",
      "from pathlib import Path\n",
      "\n",
      "# Global configuration\n",
      "logging.basicConfig(level=logging.DEBUG)\n",
      "dbName = \"rest_server/medisch_centrum_randstad/db.sqlite3\"\n",
      "tableName = \"rest_api_netlify\"\n",
      "\n",
      "# Collecting the data\n",
      "logging.info(\"Load transformed data from database into dataframe\")\n",
      "\n",
      "# DIFFERENT CODE COMPARED TO JEROEN\n",
      "logging.info(f\"Connect to {Path(dbName).name}\")\n",
      "dbConnection = sqlite3.connect(dbName)\n",
      "patient_DF = pd.read_sql_query(f\"SELECT * FROM {tableName}\", dbConnection)\n",
      "logging.debug(patient_DF.head())\n",
      "\n",
      "# Cleaning\n",
      "logging.info(\"Preprocessing : remove rows with missing values\")\n",
      "dfCleanFromDB = patient_DF.dropna()\n",
      "logging.debug(dfCleanFromDB.head())\n",
      "dfCleanFromDB.to_csv(\"data/data_cleaned1.csv\", header=True, index=False)\n",
      "\n",
      "# close Connection\n",
      "dbConnection.close()\n"
     ]
    }
   ],
   "source": [
    "#!/usr/bin/env python\n",
    "\n",
    "# Imports\n",
    "import logging\n",
    "import pandas as pd\n",
    "import sqlite3\n",
    "\n",
    "# Hardening\n",
    "from pathlib import Path\n",
    "\n",
    "# Global configuration\n",
    "logging.basicConfig(level=logging.DEBUG)\n",
    "dbName = \"rest_server/medisch_centrum_randstad/db.sqlite3\"\n",
    "tableName = \"rest_api_netlify\"\n",
    "\n",
    "# Collecting the data\n",
    "logging.info(\"Load transformed data from database into dataframe\")\n",
    "\n",
    "# DIFFERENT CODE COMPARED TO JEROEN\n",
    "logging.info(f\"Connect to {Path(dbName).name}\")\n",
    "dbConnection = sqlite3.connect(dbName)\n",
    "patient_DF = pd.read_sql_query(f\"SELECT * FROM {tableName}\", dbConnection)\n",
    "logging.debug(patient_DF.head())\n",
    "\n",
    "# Cleaning\n",
    "logging.info(\"Preprocessing : remove rows with missing values\")\n",
    "dfCleanFromDB = patient_DF.dropna()\n",
    "logging.debug(dfCleanFromDB.head())\n",
    "dfCleanFromDB.to_csv(\"data/data_cleaned1.csv\", header=True, index=False)\n",
    "\n",
    "# close Connection\n",
    "dbConnection.close()"
   ]
  },
  {
   "cell_type": "code",
   "execution_count": 2,
   "id": "46aebe33-169a-49a3-93db-390adeb51cb8",
   "metadata": {
    "tags": []
   },
   "outputs": [
    {
     "name": "stdout",
     "output_type": "stream",
     "text": [
      "df = pd.read_csv(\"data/data_cleaned1.csv\")\n",
      "display(df)\n",
      "\n",
      "df.columns[1]\n",
      "# display(df[\"genetic\"])   # Age is variable and usable.\n",
      "display(df.genetic)      # \"Hard-Coded: short version of previous. Same output.\n",
      "# type(df[\"genetic\"])        # pandas.core.series.Series\n",
      "\n",
      "# NOTE: This DataFrame uses \"genetic\" for \"age\".\n"
     ]
    }
   ],
   "source": [
    "df = pd.read_csv(\"data/data_cleaned1.csv\")\n",
    "display(df)\n",
    "\n",
    "df.columns[1]\n",
    "# display(df[\"genetic\"])   # Age is variable and usable.\n",
    "display(df.genetic)      # \"Hard-Coded: short version of previous. Same output.\n",
    "# type(df[\"genetic\"])        # pandas.core.series.Series\n",
    "\n",
    "# NOTE: This DataFrame uses \"genetic\" for \"age\"."
   ]
  },
  {
   "cell_type": "code",
   "execution_count": null,
   "id": "73c55cde-e46b-4e36-9fca-8fea3633612a",
   "metadata": {},
   "outputs": [],
   "source": []
  }
 ],
 "metadata": {
  "kernelspec": {
   "display_name": "Python 3 (ipykernel)",
   "language": "python",
   "name": "python3"
  },
  "language_info": {
   "codemirror_mode": {
    "name": "ipython",
    "version": 3
   },
   "file_extension": ".py",
   "mimetype": "text/x-python",
   "name": "python",
   "nbconvert_exporter": "python",
   "pygments_lexer": "ipython3",
   "version": "3.10.9"
  }
 },
 "nbformat": 4,
 "nbformat_minor": 5
}
