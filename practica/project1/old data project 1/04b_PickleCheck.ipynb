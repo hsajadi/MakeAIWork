{
 "cells": [
  {
   "cell_type": "markdown",
   "id": "7fc65928-98d9-40a4-85e0-cff3b5d2a3ff",
   "metadata": {
    "tags": []
   },
   "source": [
    "<H1><B>PICKLE CHECK</B></H1>"
   ]
  },
  {
   "cell_type": "code",
   "execution_count": null,
   "id": "79796f28-9152-4bc2-89b6-0c68ea8c9b2d",
   "metadata": {},
   "outputs": [],
   "source": [
    "with open('model_pkl' , 'rb') as f:\n",
    "    lr = pickle.load(f)"
   ]
  }
 ],
 "metadata": {
  "kernelspec": {
   "display_name": "Python 3 (ipykernel)",
   "language": "python",
   "name": "python3"
  },
  "language_info": {
   "codemirror_mode": {
    "name": "ipython",
    "version": 3
   },
   "file_extension": ".py",
   "mimetype": "text/x-python",
   "name": "python",
   "nbconvert_exporter": "python",
   "pygments_lexer": "ipython3",
   "version": "3.10.9"
  }
 },
 "nbformat": 4,
 "nbformat_minor": 5
}
