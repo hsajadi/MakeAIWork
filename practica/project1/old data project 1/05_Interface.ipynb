{
 "cells": [
  {
   "cell_type": "markdown",
   "id": "aa072e26-ccdf-427e-a88e-3164f37f975b",
   "metadata": {},
   "source": [
    "<H1><B>05 INTERFACE</B></H1>"
   ]
  },
  {
   "cell_type": "code",
   "execution_count": 3,
   "id": "41adee15-a58d-4971-84d1-a15230e514d7",
   "metadata": {},
   "outputs": [
    {
     "ename": "FileNotFoundError",
     "evalue": "[Errno 2] No such file or directory: 'regModel'",
     "output_type": "error",
     "traceback": [
      "\u001b[0;31m---------------------------------------------------------------------------\u001b[0m",
      "\u001b[0;31mFileNotFoundError\u001b[0m                         Traceback (most recent call last)",
      "Cell \u001b[0;32mIn[3], line 3\u001b[0m\n\u001b[1;32m      1\u001b[0m \u001b[38;5;66;03m# Imports\u001b[39;00m\n\u001b[1;32m      2\u001b[0m \u001b[38;5;28;01mimport\u001b[39;00m \u001b[38;5;21;01mpickle\u001b[39;00m\n\u001b[0;32m----> 3\u001b[0m \u001b[38;5;28;01mwith\u001b[39;00m \u001b[38;5;28;43mopen\u001b[39;49m\u001b[43m(\u001b[49m\u001b[38;5;124;43m'\u001b[39;49m\u001b[38;5;124;43mregModel\u001b[39;49m\u001b[38;5;124;43m'\u001b[39;49m\u001b[43m \u001b[49m\u001b[43m,\u001b[49m\u001b[43m \u001b[49m\u001b[38;5;124;43m'\u001b[39;49m\u001b[38;5;124;43mrb\u001b[39;49m\u001b[38;5;124;43m'\u001b[39;49m\u001b[43m)\u001b[49m \u001b[38;5;28;01mas\u001b[39;00m f:\n\u001b[1;32m      4\u001b[0m     lr \u001b[38;5;241m=\u001b[39m pickle\u001b[38;5;241m.\u001b[39mload(f)\n\u001b[1;32m      6\u001b[0m \u001b[38;5;66;03m# Imports Coefficients\u001b[39;00m\n",
      "File \u001b[0;32m~/miniconda3/envs/miw/lib/python3.10/site-packages/IPython/core/interactiveshell.py:282\u001b[0m, in \u001b[0;36m_modified_open\u001b[0;34m(file, *args, **kwargs)\u001b[0m\n\u001b[1;32m    275\u001b[0m \u001b[38;5;28;01mif\u001b[39;00m file \u001b[38;5;129;01min\u001b[39;00m {\u001b[38;5;241m0\u001b[39m, \u001b[38;5;241m1\u001b[39m, \u001b[38;5;241m2\u001b[39m}:\n\u001b[1;32m    276\u001b[0m     \u001b[38;5;28;01mraise\u001b[39;00m \u001b[38;5;167;01mValueError\u001b[39;00m(\n\u001b[1;32m    277\u001b[0m         \u001b[38;5;124mf\u001b[39m\u001b[38;5;124m\"\u001b[39m\u001b[38;5;124mIPython won\u001b[39m\u001b[38;5;124m'\u001b[39m\u001b[38;5;124mt let you open fd=\u001b[39m\u001b[38;5;132;01m{\u001b[39;00mfile\u001b[38;5;132;01m}\u001b[39;00m\u001b[38;5;124m by default \u001b[39m\u001b[38;5;124m\"\u001b[39m\n\u001b[1;32m    278\u001b[0m         \u001b[38;5;124m\"\u001b[39m\u001b[38;5;124mas it is likely to crash IPython. If you know what you are doing, \u001b[39m\u001b[38;5;124m\"\u001b[39m\n\u001b[1;32m    279\u001b[0m         \u001b[38;5;124m\"\u001b[39m\u001b[38;5;124myou can use builtins\u001b[39m\u001b[38;5;124m'\u001b[39m\u001b[38;5;124m open.\u001b[39m\u001b[38;5;124m\"\u001b[39m\n\u001b[1;32m    280\u001b[0m     )\n\u001b[0;32m--> 282\u001b[0m \u001b[38;5;28;01mreturn\u001b[39;00m \u001b[43mio_open\u001b[49m\u001b[43m(\u001b[49m\u001b[43mfile\u001b[49m\u001b[43m,\u001b[49m\u001b[43m \u001b[49m\u001b[38;5;241;43m*\u001b[39;49m\u001b[43margs\u001b[49m\u001b[43m,\u001b[49m\u001b[43m \u001b[49m\u001b[38;5;241;43m*\u001b[39;49m\u001b[38;5;241;43m*\u001b[39;49m\u001b[43mkwargs\u001b[49m\u001b[43m)\u001b[49m\n",
      "\u001b[0;31mFileNotFoundError\u001b[0m: [Errno 2] No such file or directory: 'regModel'"
     ]
    }
   ],
   "source": [
    "# Imports\n",
    "import pickle\n",
    "with open('regModel' , 'rb') as f:\n",
    "    lr = pickle.load(f)\n",
    "    \n",
    "# Imports Coefficients\n",
    "regCoef = lr.coef_\n",
    "regInter = lr.intercept_"
   ]
  },
  {
   "cell_type": "code",
   "execution_count": 4,
   "id": "bd5c7ff7-2342-4994-83fb-680c5ecd9aaf",
   "metadata": {
    "tags": []
   },
   "outputs": [],
   "source": [
    "# Imports for Interface\n",
    "import tkinter\n",
    "from tkinter import *\n",
    "from tkinter import ttk\n",
    "from PIL import ImageTk, Image\n",
    "from tkinter import filedialog\n",
    "import os"
   ]
  },
  {
   "cell_type": "code",
   "execution_count": 5,
   "id": "3098efac-ad48-412d-b7cc-9b9706600550",
   "metadata": {},
   "outputs": [],
   "source": [
    "# Variables- for interface\n",
    "def calculate(*args):\n",
    "    try:\n",
    "        g1 = float(genetic.get())\n",
    "        len1 = float(length.get())\n",
    "        mas1 = float(weigth.get())\n",
    "        ex1 = float(exercise.get())\n",
    "        sm1 = float(smoking.get())\n",
    "        al1 = float(alcohol.get())\n",
    "        su1 = float(sugar.get())\n",
    "        bm1 = (mas1)/((len1/100)**2)\n",
    "        lifespan_advis.set(int((regCoef[0] * g1)+(regCoef[1] * ex1)+(regCoef[2] * sm1)+(regCoef[3] * al1)+(regCoef[4] * su1)+(regCoef[5] * bm1)+regInter))\n",
    "        bmi1.set(int(bm1))\n",
    "    except ValueError:\n",
    "        pass"
   ]
  },
  {
   "cell_type": "code",
   "execution_count": 6,
   "id": "1c8465d7-e039-4dab-a449-dcab1016435d",
   "metadata": {
    "tags": []
   },
   "outputs": [],
   "source": [
    "# Building interface\n",
    "root = Tk()\n",
    "root.title(\"lifespan\")\n",
    "    \n",
    "mainframe = ttk.Frame(root, padding=\"3 3 12 12\")\n",
    "mainframe.grid(column=0, row=0, sticky=(N, W, E, S))\n",
    "root.columnconfigure(0, weight=1)\n",
    "root.rowconfigure(0, weight=1)\n",
    "\n",
    "genetic = StringVar()\n",
    "genetic_entry = ttk.Entry(mainframe, width=22, textvariable=genetic)\n",
    "genetic_entry.grid(column=1, row=2, sticky=(W, E))\n",
    "\n",
    "length = StringVar()\n",
    "length_entry = ttk.Entry(mainframe, width=22, textvariable=length)\n",
    "length_entry.grid(column=2, row=2, sticky=(W, E))\n",
    "\n",
    "weigth = StringVar()\n",
    "weigth_entry = ttk.Entry(mainframe, width=22, textvariable=weigth)\n",
    "weigth_entry.grid(column=3, row=2, sticky=(W, E))\n",
    "\n",
    "exercise = StringVar()\n",
    "exercise_entry = ttk.Entry(mainframe, width=22, textvariable=exercise)\n",
    "exercise_entry.grid(column=4, row=2, sticky=(W, E))\n",
    "\n",
    "smoking = StringVar()\n",
    "smoking_entry = ttk.Entry(mainframe, width=22, textvariable=smoking)\n",
    "smoking_entry.grid(column=5, row=2, sticky=(W, E))\n",
    "\n",
    "alcohol = StringVar()\n",
    "alcohol_entry = ttk.Entry(mainframe, width=22, textvariable=alcohol)\n",
    "alcohol_entry.grid(column=6, row=2, sticky=(W, E))\n",
    "\n",
    "sugar = StringVar()\n",
    "sugar_entry = ttk.Entry(mainframe, width=22, textvariable=sugar)\n",
    "sugar_entry.grid(column=7, row=2, sticky=(W, E))"
   ]
  },
  {
   "cell_type": "code",
   "execution_count": 7,
   "id": "e5efd1e1-9f68-4c97-8d5a-1d84395d1e83",
   "metadata": {
    "tags": []
   },
   "outputs": [],
   "source": [
    "# Building interface Labels and Buttons\n",
    "bmi1 = StringVar()\n",
    "ttk.Label(mainframe, textvariable=bmi1).grid(column=8, row=2, sticky=(W, E))\n",
    "\n",
    "lifespan_advis = StringVar()\n",
    "ttk.Label(mainframe, textvariable=lifespan_advis).grid(column=9, row=2, sticky=(W, E))\n",
    "\n",
    "ttk.Button(mainframe, text=\"Chart\", command=calculate).grid(column=1, row=3, sticky=W)\n",
    "ttk.Button(mainframe, text=\"Chart\", command=calculate).grid(column=2, row=3, sticky=W)\n",
    "ttk.Button(mainframe, text=\"Chart\", command=calculate).grid(column=3, row=3, sticky=W)\n",
    "ttk.Button(mainframe, text=\"Chart\", command=calculate).grid(column=4, row=3, sticky=W)\n",
    "ttk.Button(mainframe, text=\"Chart\", command=calculate).grid(column=5, row=3, sticky=W)\n",
    "ttk.Button(mainframe, text=\"Chart\", command=calculate).grid(column=6, row=3, sticky=W)\n",
    "ttk.Button(mainframe, text=\"Chart\", command=calculate).grid(column=7, row=3, sticky=W)\n",
    "ttk.Button(mainframe, text=\"Chart\", command=calculate).grid(column=8, row=3, sticky=W)\n",
    "ttk.Button(mainframe, text=\"Calculate\", command=calculate).grid(column=10, row=3, sticky=W)\n",
    "\n",
    "ttk.Label(mainframe, text=\"Your genetic in years(64-102\").grid(column=1, row=1, sticky=W)\n",
    "ttk.Label(mainframe, text=\"Your length in cm(154-214)\").grid(column=2, row=1, sticky=W)\n",
    "ttk.Label(mainframe, text=\"Your weigth in kg(50-163.6)\").grid(column=3, row=1, sticky=W)\n",
    "ttk.Label(mainframe, text=\"Hours of exercise per week(0.1-5.5)\").grid(column=4, row=1, sticky=W)\n",
    "ttk.Label(mainframe, text=\"Cigarettes per day(0-22)\").grid(column=5, row=1, sticky=W)\n",
    "ttk.Label(mainframe, text=\"Glasses alcohol per day(0-6)\").grid(column=6, row=1, sticky=W)\n",
    "ttk.Label(mainframe, text=\"Cubes of sugar per day(0.7-13.8)\").grid(column=7, row=1, sticky=W)\n",
    "ttk.Label(mainframe, text=\"Your BMI is\").grid(column=8, row=1, sticky=W)\n",
    "ttk.Label(mainframe, text=\"Your lifespan prognosis\").grid(column=9, row=1, sticky=W)\n",
    "ttk.Label(mainframe, text=\"years\").grid(column=9, row=3, sticky=W)"
   ]
  },
  {
   "cell_type": "code",
   "execution_count": 8,
   "id": "9ead95b2-fdf0-4ffa-9a0e-40cc9c397220",
   "metadata": {
    "tags": []
   },
   "outputs": [],
   "source": [
    "# Interface INPUT loop\n",
    "for child in mainframe.winfo_children():\n",
    "    child.grid_configure(padx=20, pady=20)\n",
    "\n",
    "genetic_entry.focus()\n",
    "length_entry.focus()\n",
    "weigth_entry.focus()\n",
    "exercise_entry.focus()\n",
    "smoking_entry.focus()\n",
    "alcohol_entry.focus()\n",
    "sugar_entry.focus()\n",
    "root.bind(\"<Return>\", calculate)\n",
    "\n",
    "root.mainloop()"
   ]
  },
  {
   "cell_type": "code",
   "execution_count": null,
   "id": "d07b62aa-03c2-4148-8730-f3043465727a",
   "metadata": {},
   "outputs": [],
   "source": []
  }
 ],
 "metadata": {
  "kernelspec": {
   "display_name": "Python 3 (ipykernel)",
   "language": "python",
   "name": "python3"
  },
  "language_info": {
   "codemirror_mode": {
    "name": "ipython",
    "version": 3
   },
   "file_extension": ".py",
   "mimetype": "text/x-python",
   "name": "python",
   "nbconvert_exporter": "python",
   "pygments_lexer": "ipython3",
   "version": "3.10.9"
  }
 },
 "nbformat": 4,
 "nbformat_minor": 5
}
