{
 "cells": [
  {
   "cell_type": "markdown",
   "id": "3d523452-02b0-49c3-b655-0282119d1874",
   "metadata": {},
   "source": [
    "<H1><B>10 PIPELINE</B></H1>"
   ]
  },
  {
   "cell_type": "code",
   "execution_count": 7,
   "id": "c5de04b5-8142-409e-8d79-6963db145ae2",
   "metadata": {
    "tags": []
   },
   "outputs": [],
   "source": [
    "# Imports\n",
    "import os\n",
    "import csv\n",
    "import json"
   ]
  },
  {
   "cell_type": "code",
   "execution_count": 8,
   "id": "15875926-08fd-4632-94ac-3a3d0c23a068",
   "metadata": {
    "tags": []
   },
   "outputs": [
    {
     "name": "stderr",
     "output_type": "stream",
     "text": [
      "INFO:root:Load transformed data from database into dataframe\n",
      "INFO:root:Connect to db.sqlite3\n"
     ]
    },
    {
     "ename": "OperationalError",
     "evalue": "unable to open database file",
     "output_type": "error",
     "traceback": [
      "\u001b[0;31m---------------------------------------------------------------------------\u001b[0m",
      "\u001b[0;31mOperationalError\u001b[0m                          Traceback (most recent call last)",
      "Cell \u001b[0;32mIn[8], line 22\u001b[0m\n\u001b[1;32m     20\u001b[0m logging\u001b[38;5;241m.\u001b[39minfo(\u001b[38;5;124m\"\u001b[39m\u001b[38;5;124mLoad transformed data from database into dataframe\u001b[39m\u001b[38;5;124m\"\u001b[39m)\n\u001b[1;32m     21\u001b[0m logging\u001b[38;5;241m.\u001b[39minfo(\u001b[38;5;124mf\u001b[39m\u001b[38;5;124m\"\u001b[39m\u001b[38;5;124mConnect to \u001b[39m\u001b[38;5;132;01m{\u001b[39;00mPath(dbName)\u001b[38;5;241m.\u001b[39mname\u001b[38;5;132;01m}\u001b[39;00m\u001b[38;5;124m\"\u001b[39m)\n\u001b[0;32m---> 22\u001b[0m dbConnection \u001b[38;5;241m=\u001b[39m \u001b[43msqlite3\u001b[49m\u001b[38;5;241;43m.\u001b[39;49m\u001b[43mconnect\u001b[49m\u001b[43m(\u001b[49m\u001b[43mdbName\u001b[49m\u001b[43m)\u001b[49m\n\u001b[1;32m     23\u001b[0m patient_DF \u001b[38;5;241m=\u001b[39m pd\u001b[38;5;241m.\u001b[39mread_sql_query(\u001b[38;5;124mf\u001b[39m\u001b[38;5;124m\"\u001b[39m\u001b[38;5;124mSELECT * FROM \u001b[39m\u001b[38;5;132;01m{\u001b[39;00mtableName\u001b[38;5;132;01m}\u001b[39;00m\u001b[38;5;124m\"\u001b[39m, dbConnection)\n\u001b[1;32m     24\u001b[0m logging\u001b[38;5;241m.\u001b[39mdebug(patient_DF\u001b[38;5;241m.\u001b[39mhead())\n",
      "\u001b[0;31mOperationalError\u001b[0m: unable to open database file"
     ]
    }
   ],
   "source": [
    "#!/usr/bin/env python\n",
    "\n",
    "# Imports\n",
    "import logging\n",
    "import pandas as pd\n",
    "import sqlite3\n",
    "\n",
    "import numpy as np\n",
    "import scipy as cp\n",
    "\n",
    "# Hardening\n",
    "from pathlib import Path\n",
    "\n",
    "# Global configuration\n",
    "logging.basicConfig(level=logging.DEBUG)\n",
    "dbName = \"rest_server/medisch_centrum_randstad/db.sqlite3\"\n",
    "tableName = \"rest_api_netlify\"\n",
    "\n",
    "# Collecting the data\n",
    "logging.info(\"Load transformed data from database into dataframe\")\n",
    "logging.info(f\"Connect to {Path(dbName).name}\")\n",
    "dbConnection = sqlite3.connect(dbName)\n",
    "patient_DF = pd.read_sql_query(f\"SELECT * FROM {tableName}\", dbConnection)\n",
    "logging.debug(patient_DF.head())\n",
    "\n",
    "# Cleaning empty cells and removing its index\n",
    "logging.info(\"Preprocessing : remove rows with missing values\")\n",
    "dfCleanFromDB = patient_DF.dropna()\n",
    "\n",
    "# Replacing Wrong DataTypes and Replace NaN\n",
    "dfCleanFromDB2 = dfCleanFromDB.apply(pd.to_numeric, errors=\"coerce\")\n",
    "dfCleanFromDB3 = dfCleanFromDB2[dfCleanFromDB.select_dtypes(include=[np.number]).ge(0).all(1)]\n",
    "\n",
    "logging.debug(dfCleanFromDB3.head())\n",
    "dfCleanFromDB3.to_csv(\"data/data_cleaned.csv\", header=True, index=False)\n",
    "\n",
    "# Outliers stay in\n",
    "# Transforming in next step using CSV\n",
    "\n",
    "# print(dfCleanFromDB3.info())\n",
    "# dfCleanFromDB3.shape\n"
   ]
  },
  {
   "cell_type": "code",
   "execution_count": null,
   "id": "86f288be-3689-45ff-ad2f-118e09cd473a",
   "metadata": {
    "tags": []
   },
   "outputs": [],
   "source": [
    "# Adding BMI\n",
    "patient_DF = pd.read_csv(\"data/data_cleaned.csv\")\n",
    "patient_DF[\"BMI\"] = (patient_DF[\"mass\"]/patient_DF[\"length\"]**2)*10000\n",
    "\n",
    "# Saving transformed DataFrame including BMI\n",
    "patient_DF.to_csv(\"data/medisch_centrum_randstad_BMI.csv\", header=True, index=False)\n",
    "# Storing DataFrame as Table inside .sql\n",
    "patient_DF.to_sql(\"medisch_centrum_randstad_BMI\", dbConnection, if_exists=\"replace\", index=False)\n",
    "\n",
    "# close Connection\n",
    "dbConnection.close()"
   ]
  },
  {
   "cell_type": "code",
   "execution_count": null,
   "id": "33d9e281-fd12-4203-bb9c-0eab2f0da5a8",
   "metadata": {},
   "outputs": [],
   "source": [
    "# Imports\n",
    "from sklearn import preprocessing, svm\n",
    "from sklearn.model_selection import train_test_split\n",
    "from sklearn.linear_model import LinearRegression\n",
    "from sklearn.metrics import mean_squared_error, mean_absolute_error"
   ]
  },
  {
   "cell_type": "code",
   "execution_count": null,
   "id": "0d5cff50-ac64-4492-b6f8-54a9e8252d2e",
   "metadata": {
    "tags": []
   },
   "outputs": [],
   "source": [
    "# Regression\n",
    "patient_DF2 = pd.read_csv(\"data/medisch_centrum_randstad_BMI.csv\")\n",
    "X = patient_DF2[[\"genetic\", \"exercise\", \"smoking\", \"alcohol\", \"sugar\", \"BMI\"]]\n",
    "y = patient_DF2[\"lifespan\"]\n",
    "\n",
    "X_train, X_test, y_train, y_test = train_test_split(X, y, test_size = 0.25)\n",
    "\n",
    "regr = LinearRegression()\n",
    "regr.fit(X_train, y_train)\n",
    "\n",
    "# Data scatter of predicted values\n",
    "y_pred = regr.predict(X_test)\n",
    "\n",
    "sq = (mean_squared_error(y_test, y_pred))**0.5\n",
    "mae = round((mean_absolute_error(y_test, y_pred)),2)\n",
    "\n",
    "# Storing Regression Coefficients into Lists\n",
    "regCoef = regr.coef_\n",
    "regInter = regr.intercept_"
   ]
  },
  {
   "cell_type": "code",
   "execution_count": null,
   "id": "54d3221e-c07c-4e89-9f15-dc9188406b95",
   "metadata": {
    "tags": []
   },
   "outputs": [],
   "source": [
    "# This input is limited to \"genetic\", BMI and the daily intake of \"exercise\", \"smoking\", \"alcohol\" and \"sugar\".\n",
    "# gen = float(input(\"Please input your genetic: \"))\n",
    "# bmi = float(input(\"Please input your BMI: \"))\n",
    "# exer = float(input(\"Please input your daily exercise: \"))\n",
    "# smok = float(input(\"Please input your daily smoking habit: \"))\n",
    "# alco = float(input(\"Please input your daily alcohol intake: \"))\n",
    "# sug = float(input(\"Please input your daily sugar intake: \"))\n",
    "\n",
    "# ONE LINE INPUT (Waiting for end-user interface)\n",
    "# lifespan_prog = (regCoef[0]*gen)+(regCoef[1]*exer)+(regCoef[2]*smok)+(regCoef[3]*alco)+(regCoef[4]*sug)+(regCoef[5]*bmi)+regInter\n",
    "# print(f\"Your Lifespan Prognosis: \",lifespan_prog)"
   ]
  },
  {
   "cell_type": "code",
   "execution_count": null,
   "id": "287e9fb7-509c-4d36-8fab-148b622b2d39",
   "metadata": {},
   "outputs": [],
   "source": [
    "from pathlib import Path\n",
    "import stat\n",
    "\n",
    "\n",
    "f = Path(\"projects/old data project 1/10_Gezondheidszorg.ipynb\")\n",
    "f.chmod(f.stat().st_mode | convert.py)"
   ]
  }
 ],
 "metadata": {
  "kernelspec": {
   "display_name": "Python 3 (ipykernel)",
   "language": "python",
   "name": "python3"
  },
  "language_info": {
   "codemirror_mode": {
    "name": "ipython",
    "version": 3
   },
   "file_extension": ".py",
   "mimetype": "text/x-python",
   "name": "python",
   "nbconvert_exporter": "python",
   "pygments_lexer": "ipython3",
   "version": "3.10.9"
  }
 },
 "nbformat": 4,
 "nbformat_minor": 5
}
