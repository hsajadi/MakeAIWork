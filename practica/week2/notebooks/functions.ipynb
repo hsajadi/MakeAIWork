{
 "cells": [
  {
   "cell_type": "markdown",
   "id": "7eb1c299-98e2-45cb-9af8-8247ab78e8a0",
   "metadata": {},
   "source": [
    "<a href=\"https://it-omscholing.nl/locaties/hogeschool-rotterdam/\">\n",
    "<div>\n",
    "<a><img src='../pics/banner.PNG'/></a>\n",
    "</div>\n",
    "<div>\n",
    "<a href=''><img src='../pics/miw.PNG'/></a>\n",
    "<em>Author: Jeroen Boogaard</em>\n",
    "</div>\n",
    "</a>"
   ]
  },
  {
   "cell_type": "markdown",
   "id": "f8c3166e-a33e-466b-80ba-026a1d9b469f",
   "metadata": {},
   "source": [
    "<h1>Functies</h1>"
   ]
  },
  {
   "cell_type": "markdown",
   "id": "c9392295-fc66-4c23-b5a1-bd6e77d04144",
   "metadata": {},
   "source": [
    "<h3>Strings</h3>"
   ]
  },
  {
   "cell_type": "markdown",
   "id": "e93ad462-46c4-4028-ace1-b4b84b45a5da",
   "metadata": {},
   "source": [
    "**Functies kunnen worden aangeroepen zonder argument**"
   ]
  },
  {
   "cell_type": "code",
   "execution_count": 1,
   "id": "610cb44d-3ec8-413e-9e83-8f7602ab1481",
   "metadata": {},
   "outputs": [
    {
     "name": "stdout",
     "output_type": "stream",
     "text": [
      "Because of Mercury's elliptical – egg-shaped – orbit, and sluggish rotation, the Sun appears to rise briefly, set, and rise again from some parts of the planet's surface. The same thing happens in reverse at sunset.\n"
     ]
    }
   ],
   "source": [
    "def printExampleString():\n",
    "    print(\"Because of Mercury's elliptical – egg-shaped – orbit, and sluggish rotation, the Sun appears to rise briefly, set, and rise again from some parts of the planet's surface. The same thing happens in reverse at sunset.\")\n",
    "    \n",
    "printExampleString()"
   ]
  },
  {
   "cell_type": "markdown",
   "id": "864dc06d-4fa5-40ad-b407-a28a34084be1",
   "metadata": {},
   "source": [
    "**Gebruik een <i>docstring</i> om een String over meerdere regels te verdelen**"
   ]
  },
  {
   "cell_type": "code",
   "execution_count": null,
   "id": "10ef19a8-1b77-4c99-a3fd-fe4554daa771",
   "metadata": {},
   "outputs": [],
   "source": [
    "def showDocString():\n",
    "    \"\"\"\n",
    "    De docstring is een beschrijving van een functie, die bedoeld is voor de programmeur. \n",
    "    De Python interpreter negeert deze String\n",
    "    \"\"\"\n",
    "\n",
    "print(showDocString.__doc__)"
   ]
  },
  {
   "cell_type": "markdown",
   "id": "1fa654e3-5c01-4cbb-af3b-dceb2fa7ea5a",
   "metadata": {},
   "source": [
    "<h3>Numbers</h3>"
   ]
  },
  {
   "cell_type": "markdown",
   "id": "e536b14f-3bf5-41d8-a00c-1df335cef63d",
   "metadata": {},
   "source": [
    "**Functies kunnen worden aangeroepen met een variabele als argument**"
   ]
  },
  {
   "cell_type": "code",
   "execution_count": 1,
   "id": "6c24ec9f-d20e-497c-a3d7-3e28be4ee28f",
   "metadata": {
    "tags": []
   },
   "outputs": [
    {
     "name": "stdout",
     "output_type": "stream",
     "text": [
      "The meteoroid entered the atmosphere at over 63720 kilometers per hour.\n"
     ]
    }
   ],
   "source": [
    "def milesToKilometers(distance):\n",
    "    return round(distance * 1.609344, 2)\n",
    "\n",
    "distanceInMiles = 11        \n",
    "print( f\"The meteoroid entered the atmosphere at over {int(milesToKilometers(distanceInMiles)*3600)} kilometers per hour.\" )"
   ]
  },
  {
   "cell_type": "markdown",
   "id": "8764da59-d4eb-4703-a1c2-dfa750aea51c",
   "metadata": {},
   "source": [
    "**Het argument van een functie kan <i>optioneel</i> worden gemaakt met een <i>default</i> waarde**"
   ]
  },
  {
   "cell_type": "code",
   "execution_count": 2,
   "id": "9aa67dcd-cf00-43d0-a9f7-94b03f6daf9d",
   "metadata": {
    "tags": []
   },
   "outputs": [
    {
     "name": "stdout",
     "output_type": "stream",
     "text": [
      "A mile is longer than a kilometer and is equivalent to approximately 1.6 kilometers\n"
     ]
    }
   ],
   "source": [
    "def milesToKilometers(distance=1):\n",
    "    return distance * 1.609344\n",
    "\n",
    "print(f\"A mile is longer than a kilometer and is equivalent to approximately { round(milesToKilometers(),1) } kilometers\")"
   ]
  },
  {
   "cell_type": "markdown",
   "id": "ea21995d-c3eb-4a9f-b73e-78b3e72c75c4",
   "metadata": {},
   "source": [
    "<h3>Exercise 7</h3>\n",
    "<p>Schrijf een functie voor het omzetten van een gewicht in <i>pounds</i> naar een <u>geheel aantal</u> <i>kilo's</i></p>"
   ]
  },
  {
   "cell_type": "code",
   "execution_count": 8,
   "id": "62ae6724-341c-4d15-a3ac-7072746d70e8",
   "metadata": {
    "tags": []
   },
   "outputs": [
    {
     "name": "stdout",
     "output_type": "stream",
     "text": [
      "A pound is lighter than a kilogram and is equivalent to approximately 0.5 kilogram\n"
     ]
    }
   ],
   "source": [
    "# Oplossing\n",
    "def poundtokilogram(mass=1):\n",
    "    return mass * 0.453592\n",
    "\n",
    "print(f\"A pound is lighter than a kilogram and is equivalent to approximately { round(poundtokilogram(),1) } kilogram\")"
   ]
  },
  {
   "cell_type": "code",
   "execution_count": 17,
   "id": "f060b52a-1f16-4b34-ab27-949201bbf178",
   "metadata": {
    "tags": []
   },
   "outputs": [
    {
     "name": "stdout",
     "output_type": "stream",
     "text": [
      "\n",
      "    deze functie berekent de mal van twee getallen:\n",
      "    param1 * param2\n",
      "    \n",
      "1 pound  =  0.453592 kilogram \n"
     ]
    },
    {
     "data": {
      "text/plain": [
       "0.453592"
      ]
     },
     "execution_count": 17,
     "metadata": {},
     "output_type": "execute_result"
    }
   ],
   "source": [
    "# Oplossing\n",
    "def mal(param1, param2):\n",
    "    \"\"\"\n",
    "    deze functie berekent de mal van twee getallen:\n",
    "    param1 * param2\n",
    "    \"\"\"\n",
    "    print(param1, \"pound \", \"= \", param1 * param2, \"kilogram \")\n",
    "\n",
    "    return param1 * param2\n",
    "\n",
    "\n",
    "print(mal.__doc__)\n",
    "mal(1, 0.453592)\n",
    "\n"
   ]
  },
  {
   "cell_type": "markdown",
   "id": "5ac2bd1b-62dd-431c-99a4-f659a5c8599e",
   "metadata": {},
   "source": [
    "<h3>Booleans</h3>"
   ]
  },
  {
   "cell_type": "markdown",
   "id": "23590b8a-c805-4c2a-ad6d-8ba9e7f17f05",
   "metadata": {},
   "source": [
    "Volgens de eerste stelling van DeMorgan kun is de expressie <strong>not (p and q</strong>) <u>equivalent</u> aan <strong>(not p) or (not q)</strong>"
   ]
  },
  {
   "cell_type": "code",
   "execution_count": 9,
   "id": "d62120a0-45df-49f9-9998-41e09c0acb54",
   "metadata": {
    "tags": []
   },
   "outputs": [],
   "source": [
    "def deMorgan1(p, q):\n",
    "    return (not p) or (not q)"
   ]
  },
  {
   "cell_type": "markdown",
   "id": "2ede72d8-2fb4-4387-9202-cd52334721f7",
   "metadata": {},
   "source": [
    "**Gebruik een waarheidstabel voor beschrijven van logische functies**"
   ]
  },
  {
   "cell_type": "code",
   "execution_count": 18,
   "id": "cf2642fa-be01-43bc-ac74-3f50c74add66",
   "metadata": {
    "tags": []
   },
   "outputs": [
    {
     "name": "stdout",
     "output_type": "stream",
     "text": [
      "p\tq\tnot(p and q)\t\u001b[1mdeMorgan1(p, q)\u001b[0m\n",
      "False\tFalse\tTrue\t\t\u001b[1mTrue\u001b[0m\n",
      "False\tTrue\tTrue\t\t\u001b[1mTrue\u001b[0m\n",
      "True\tFalse\tTrue\t\t\u001b[1mTrue\u001b[0m\n",
      "True\tTrue\tFalse\t\t\u001b[1mFalse\u001b[0m\n"
     ]
    }
   ],
   "source": [
    "logTable = [f\"p\\tq\\tnot(p and q)\\t\\033[1mdeMorgan1(p, q)\\033[0m\"]\n",
    "for p in [False, True]:\n",
    "    for q in [False, True]:\n",
    "        logTable.append(f\"{p}\\t{q}\\t{ not (p and q) }\\t\\t\\033[1m{ deMorgan1(p,q) }\\033[0m\")\n",
    "\n",
    "print(\"\\n\".join(logTable))\n"
   ]
  },
  {
   "cell_type": "markdown",
   "id": "ad3b0150-ef9b-4bbe-98d3-808e3c87d932",
   "metadata": {},
   "source": [
    "Volgens de tweede stelling van DeMorgan kun is de expressie <strong>not (p or q</strong>) <u>equivalent</u> aan <strong>(not p) and (not q)</strong>"
   ]
  },
  {
   "cell_type": "markdown",
   "id": "960a380d-cff5-463c-b4ab-ee124f01471b",
   "metadata": {},
   "source": [
    "<h3>Exercise 8</h3>\n",
    "<p>Implementeer de tweede stelling van DeMorgan in een functie <u>bothFalse</u> en toon m.b.v. een waarheidstabel de juiste werking van de functie aan.\n",
    "</p>"
   ]
  },
  {
   "cell_type": "code",
   "execution_count": 23,
   "id": "06311702-5a8f-4840-bb3f-5704d14912f9",
   "metadata": {
    "tags": []
   },
   "outputs": [
    {
     "name": "stdout",
     "output_type": "stream",
     "text": [
      "p\tq\tnot(p or q)\t\u001b[1mdeMorgan2(p, q)\u001b[0m\n",
      "False\tFalse\tTrue\t\t\u001b[1mTrue\u001b[0m\n",
      "False\tTrue\tFalse\t\t\u001b[1mFalse\u001b[0m\n",
      "True\tFalse\tFalse\t\t\u001b[1mFalse\u001b[0m\n",
      "True\tTrue\tFalse\t\t\u001b[1mFalse\u001b[0m\n"
     ]
    }
   ],
   "source": [
    "# Oplossing\n",
    "def deMorgan2(p, q):\n",
    "    return (not p) and (not q)\n",
    "\n",
    "logTable = [f\"p\\tq\\tnot(p or q)\\t\\033[1mdeMorgan2(p, q)\\033[0m\"]\n",
    "for p in [False, True]:\n",
    "    for q in [False, True]:\n",
    "        logTable.append(f\"{p}\\t{q}\\t{ not (p or q) }\\t\\t\\033[1m{ deMorgan2(p,q) }\\033[0m\")\n",
    "\n",
    "print(\"\\n\".join(logTable))"
   ]
  },
  {
   "cell_type": "markdown",
   "id": "5fa081eb-6479-43d5-a46e-0078a54f203b",
   "metadata": {},
   "source": [
    "<h3>Lists</h3>"
   ]
  },
  {
   "cell_type": "code",
   "execution_count": 98,
   "id": "6ea79e2d-704a-413d-a393-81e4298eb11e",
   "metadata": {
    "tags": []
   },
   "outputs": [
    {
     "name": "stdout",
     "output_type": "stream",
     "text": [
      "[0, 3, 6, 9, 12, 15, 18, 21, 24, 27, 30, 33, 36, 39, 42, 45, 48, 51, 54, 57, 60, 63, 66, 69, 72, 75, 78, 81, 84, 87, 90, 93, 96, 99]\n",
      "The lowest value of digits is 0 and 99 is the highest value\n"
     ]
    }
   ],
   "source": [
    "digits = list( range(0,100,3) )\n",
    "print(digits)\n",
    "print(f\"The lowest value of digits is { min(digits) } and { max(digits) } is the highest value\")"
   ]
  },
  {
   "cell_type": "code",
   "execution_count": 26,
   "id": "84dfab1b-d3cb-45c2-a6bd-0738b3d10de6",
   "metadata": {
    "tags": []
   },
   "outputs": [
    {
     "data": {
      "text/plain": [
       "1683"
      ]
     },
     "execution_count": 26,
     "metadata": {},
     "output_type": "execute_result"
    }
   ],
   "source": [
    "sum(digits)"
   ]
  },
  {
   "cell_type": "markdown",
   "id": "b15614fe-c85c-4cdc-a575-f553c734585e",
   "metadata": {},
   "source": [
    "<h3>Exercise 9</h3>\n",
    "<p>\n",
    "    Schrijf een functie <i>averageOfDigits</i> die het <u>gemiddelde</u> van een lijst <u>gehele getallen</u> berekent en teruggeeft als <u>geheel getal</u>\n",
    "    <br>Retourneer <u>0</u> in geval de lijst <u>leeg</u> is\n",
    "</p>"
   ]
  },
  {
   "cell_type": "code",
   "execution_count": 153,
   "id": "c6bf6571-2329-4ef8-b21a-c1f330395f1c",
   "metadata": {
    "collapsed": true,
    "jupyter": {
     "outputs_hidden": true
    },
    "tags": []
   },
   "outputs": [
    {
     "name": "stdout",
     "output_type": "stream",
     "text": [
      "The avrage of list is 49.0 \n"
     ]
    }
   ],
   "source": [
    "# avrage of digit\n",
    "avrage_list = list(range(1, 100, 1))\n",
    "print(f\"The avrage of list is { sum(avrage_list) / len(avrage_list) } \")"
   ]
  },
  {
   "cell_type": "code",
   "execution_count": 5,
   "id": "71ec96bb-08be-4681-affb-7065392b4971",
   "metadata": {
    "tags": []
   },
   "outputs": [
    {
     "name": "stdout",
     "output_type": "stream",
     "text": [
      "32.0\n"
     ]
    },
    {
     "data": {
      "text/plain": [
       "0"
      ]
     },
     "execution_count": 5,
     "metadata": {},
     "output_type": "execute_result"
    }
   ],
   "source": [
    "\n",
    "# returns avrage of numbers way 1\n",
    "def averageOfDigits(*args):\n",
    "    sum_of_digits = 0\n",
    "    for digit in args:\n",
    "        sum_of_digits += digit\n",
    "\n",
    "    if (len(args)==0):\n",
    "        return 0\n",
    "    \n",
    "    return sum_of_digits / len(args)\n",
    "\n",
    "\n",
    "print(averageOfDigits(10, 15, 60, 43))\n",
    "averageOfDigits()\n"
   ]
  },
  {
   "cell_type": "code",
   "execution_count": 178,
   "id": "b1ec2466-0f6d-43ac-824c-2c1a718ecb4b",
   "metadata": {
    "tags": []
   },
   "outputs": [
    {
     "name": "stdout",
     "output_type": "stream",
     "text": [
      "50\n"
     ]
    }
   ],
   "source": [
    "\n",
    "# returns avrage of numbers way 2\n",
    "def average_of_digits(*numbers):\n",
    "    return sum(numbers) / len(numbers)\n",
    "\n",
    "print(int(abs(average_of_digits(10, 25, 258, 1, 0, 14 ,47))))"
   ]
  },
  {
   "cell_type": "code",
   "execution_count": 199,
   "id": "55e4986a-aae5-4447-a579-46ec7746ca44",
   "metadata": {
    "tags": []
   },
   "outputs": [
    {
     "name": "stdin",
     "output_type": "stream",
     "text": [
      "please inter a word or string: jhkjhv\n"
     ]
    },
    {
     "name": "stdout",
     "output_type": "stream",
     "text": [
      "6\n"
     ]
    }
   ],
   "source": [
    "# counting a string\n",
    "\n",
    "def count_characters(string):\n",
    "    \n",
    "    return (len(string))\n",
    "\n",
    "print(count_characters(input(\"please inter a word or string:\"\"\")))\n",
    " "
   ]
  },
  {
   "cell_type": "code",
   "execution_count": 212,
   "id": "233afb55-219a-4a8c-99f8-2a8badb77e30",
   "metadata": {
    "tags": []
   },
   "outputs": [
    {
     "name": "stdin",
     "output_type": "stream",
     "text": [
      "please input your numbers:  21 32\n"
     ]
    },
    {
     "name": "stdout",
     "output_type": "stream",
     "text": [
      "26.5\n"
     ]
    }
   ],
   "source": [
    "\n",
    "# avrage of a unlimated numbers\n",
    "def average_of_numbers(numbers):\n",
    "    if sum(numbers) / len(numbers) == 0:\n",
    "        print(\"the avrage is 0\")\n",
    "    \n",
    "    else:\n",
    "        return sum(numbers) / len(numbers)\n",
    "\n",
    "print(float(abs(average_of_numbers([ int(x) for x in input(\"please input your numbers: \").split()]))))"
   ]
  },
  {
   "cell_type": "markdown",
   "id": "b0fb2297-0024-4ccc-952f-03c3415c18d3",
   "metadata": {},
   "source": [
    "\n"
   ]
  },
  {
   "cell_type": "code",
   "execution_count": 190,
   "id": "6d977649-deb0-4786-a78b-f8baaba7a64d",
   "metadata": {
    "tags": []
   },
   "outputs": [
    {
     "name": "stdin",
     "output_type": "stream",
     "text": [
      "please inter a word or string: mamjo\n"
     ]
    },
    {
     "name": "stdout",
     "output_type": "stream",
     "text": [
      "a\n",
      "o\n",
      "2\n"
     ]
    }
   ],
   "source": [
    "# counting vowels in string\n",
    "\n",
    "def count_vowels(string):\n",
    "    counter = 0\n",
    "    list_of_vowels = [\"a\", \"i\", \"o\",\"u\", \"e\"]\n",
    "    for char in string:\n",
    "        if char in list_of_vowels:\n",
    "            print(char)\n",
    "            counter += 1\n",
    "                \n",
    "    return (counter)\n",
    "\n",
    "print(count_vowels(input(\"please inter a word or string:\"\"\")))"
   ]
  },
  {
   "cell_type": "code",
   "execution_count": 198,
   "id": "f7f5cf79-5990-4eca-a45a-08c21d558385",
   "metadata": {
    "tags": []
   },
   "outputs": [
    {
     "name": "stdin",
     "output_type": "stream",
     "text": [
      "please inter a number:  10\n"
     ]
    },
    {
     "name": "stdout",
     "output_type": "stream",
     "text": [
      "55\n"
     ]
    }
   ],
   "source": [
    "# fibonacci\n",
    "def fibonacci(n):\n",
    "    \n",
    "    if n == 0:\n",
    "        return 0\n",
    "    elif n == 1:\n",
    "        return 1\n",
    "    else:\n",
    "        return fibonacci(n-1) + fibonacci(n-2)\n",
    "\n",
    "print(fibonacci(abs(int(input(\"please inter a number: \")))))"
   ]
  },
  {
   "cell_type": "code",
   "execution_count": 144,
   "id": "76b1b335-89c4-41d2-9836-358be7f6877f",
   "metadata": {
    "tags": []
   },
   "outputs": [
    {
     "name": "stdin",
     "output_type": "stream",
     "text": [
      " 5\n"
     ]
    },
    {
     "name": "stdout",
     "output_type": "stream",
     "text": [
      "120\n"
     ]
    }
   ],
   "source": [
    "#factorial\n",
    "def factorial(n):\n",
    "    if n == 0:\n",
    "        return 1\n",
    "    return n * factorial(n - 1)\n",
    "print(factorial(int(input(\"please inter a number: \"))))\n",
    "      "
   ]
  }
 ],
 "metadata": {
  "kernelspec": {
   "display_name": "Python 3 (ipykernel)",
   "language": "python",
   "name": "python3"
  },
  "language_info": {
   "codemirror_mode": {
    "name": "ipython",
    "version": 3
   },
   "file_extension": ".py",
   "mimetype": "text/x-python",
   "name": "python",
   "nbconvert_exporter": "python",
   "pygments_lexer": "ipython3",
   "version": "3.10.9"
  }
 },
 "nbformat": 4,
 "nbformat_minor": 5
}
