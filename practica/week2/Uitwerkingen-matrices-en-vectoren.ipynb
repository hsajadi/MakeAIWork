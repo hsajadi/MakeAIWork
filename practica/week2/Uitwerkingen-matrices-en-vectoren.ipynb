{
 "cells": [
  {
   "cell_type": "markdown",
   "id": "2ea724be",
   "metadata": {},
   "source": [
    "# Matrices en vectoren"
   ]
  },
  {
   "cell_type": "markdown",
   "id": "b48949db",
   "metadata": {},
   "source": [
    "Er zijn meerdere manieren om een matrix te representeren.\n",
    "\n",
    "Hier kiezen we voor het volgende datamodel:\n",
    "\n",
    "`matrix_2D :: {rows: int, cols: int, data: []}`\n",
    "\n",
    "Implementeer onderstaande opdrachten in Python."
   ]
  },
  {
   "cell_type": "markdown",
   "id": "1897f81b",
   "metadata": {},
   "source": [
    "## Vectoren"
   ]
  },
  {
   "cell_type": "markdown",
   "id": "7036fae7",
   "metadata": {},
   "source": [
    "### 1. Een vector als rij*"
   ]
  },
  {
   "cell_type": "markdown",
   "id": "dd405887",
   "metadata": {},
   "source": [
    "Representeer de onderstaande vector in code:\n",
    "\n",
    "$$\n",
    "  \\begin{pmatrix}\n",
    "    1 & 2 & 3\n",
    "  \\end{pmatrix}\n",
    "$$"
   ]
  },
  {
   "cell_type": "code",
   "execution_count": 2,
   "id": "a2ad51a9",
   "metadata": {},
   "outputs": [
    {
     "name": "stdout",
     "output_type": "stream",
     "text": [
      "The vector has 1 rows and 3 columns\n",
      "The vector has 3 elements\n"
     ]
    }
   ],
   "source": [
    "# How many rows and colums does this vector have?\n",
    "\n",
    "# ...\n",
    "\n",
    "# Use the definition at the top to implement this vector:\n",
    "\n",
    "vec = {'rows': 1, 'cols': 3, 'data': [1,2,3]}\n",
    "\n",
    "# Can you print its dimensions? (rows, cols)\n",
    "\n",
    "print(f\"The vector has {vec['rows']} rows and {vec['cols']} columns\")\n",
    "\n",
    "# Can you print the number of elements?\n",
    "\n",
    "print(f\"The vector has {vec['rows'] * vec['cols']} elements\")"
   ]
  },
  {
   "cell_type": "markdown",
   "id": "f08bd112",
   "metadata": {},
   "source": [
    "### 2. Een vector als kolom*"
   ]
  },
  {
   "cell_type": "markdown",
   "id": "973a9ace",
   "metadata": {},
   "source": [
    "Representeer de onderstaande vector in code:\n",
    "\n",
    "$$\n",
    "  \\begin{pmatrix}\n",
    "    1 \\\\\n",
    "    2 \\\\\n",
    "    3\n",
    "  \\end{pmatrix}\n",
    "$$"
   ]
  },
  {
   "cell_type": "code",
   "execution_count": 3,
   "id": "d0471210",
   "metadata": {},
   "outputs": [
    {
     "name": "stdout",
     "output_type": "stream",
     "text": [
      "The vector has 3 rows and 1 columns\n",
      "The vector has 3 elements\n"
     ]
    }
   ],
   "source": [
    "# How many rows and colums does this vector have?\n",
    "\n",
    "# ...\n",
    "\n",
    "# Use the definition at the top to implement this vector:\n",
    "\n",
    "vec = {'rows': 3, 'cols': 1, 'data': [1,2,3]}\n",
    "\n",
    "# Can you print its dimensions? (rows, cols)\n",
    "\n",
    "print(f\"The vector has {vec['rows']} rows and {vec['cols']} columns\")\n",
    "\n",
    "# Can you print the number of elements?\n",
    "\n",
    "print(f\"The vector has {vec['rows'] * vec['cols']} elements\")"
   ]
  },
  {
   "cell_type": "markdown",
   "id": "0b14f9d2",
   "metadata": {},
   "source": [
    "### 3. Vectoren optellen**"
   ]
  },
  {
   "cell_type": "markdown",
   "id": "b7b8e51c",
   "metadata": {},
   "source": [
    "Tel de onderstaande vectoren bij elkaar op:\n",
    "\n",
    "$$\n",
    "  \\begin{pmatrix}\n",
    "    1 \\\\\n",
    "    2 \\\\\n",
    "    3\n",
    "  \\end{pmatrix}\n",
    "  +\n",
    "    \\begin{pmatrix}\n",
    "    9 \\\\\n",
    "    8 \\\\\n",
    "    7\n",
    "  \\end{pmatrix}\n",
    "  =\n",
    "  ...\n",
    "$$"
   ]
  },
  {
   "cell_type": "code",
   "execution_count": 9,
   "id": "1c5f1d3b",
   "metadata": {},
   "outputs": [
    {
     "name": "stdout",
     "output_type": "stream",
     "text": [
      "Yes, the vectors have the same dimensions so we can add them\n",
      "Vector 3: {'rows': 3, 'cols': 1, 'data': [10, 10, 10]}\n",
      "Vector 4: {'rows': 3, 'cols': 1, 'data': [10, 10, 10]}\n"
     ]
    }
   ],
   "source": [
    "# Implement both vectors:\n",
    "\n",
    "vec1 = {'rows': 3, 'cols': 1, 'data': [1,2,3]}\n",
    "vec2 = {'rows': 3, 'cols': 1, 'data': [9,8,7]}\n",
    "\n",
    "# Can we add them? Check if dimensions are the same:\n",
    "\n",
    "if (vec1['rows'] == vec2['rows']) and (vec1['rows'] == vec2['rows']):\n",
    "    \n",
    "    print(\"Yes, the vectors have the same dimensions so we can add them\")\n",
    "\n",
    "# How do you add these vectors by hand?\n",
    "\n",
    "# vec1 + vec2 = vec3\n",
    "#  1   +  9   =  10\n",
    "#  2   +  8   =  10\n",
    "#  3   +  7   =  10\n",
    "\n",
    "# Now add the vectors in code:\n",
    "\n",
    "# Instantiate a new vector\n",
    "vec3 = {'rows': 3, 'cols': 1, 'data': [0,0,0]}\n",
    "\n",
    "# Let's translate the manual proces to indices:\n",
    "# vec1 [ 1,  2,  3]\n",
    "# vec2 [ 9,  8,  7]\n",
    "# ----------------- +\n",
    "# vec3 [10, 10, 10]\n",
    "\n",
    "# So written per index this becomes:\n",
    "vec3['data'][0] = vec1['data'][0] + vec2['data'][0]\n",
    "vec3['data'][1] = vec1['data'][1] + vec2['data'][1]\n",
    "vec3['data'][2] = vec1['data'][2] + vec2['data'][2]\n",
    "\n",
    "# Let's print the result\n",
    "print(f\"Vector 3: {vec3}\")\n",
    "\n",
    "vec4 = {'rows': 3, 'cols': 1, 'data': [0,0,0]}\n",
    "\n",
    "# Three times the same addition reminds us of a for loop.\n",
    "# So we can write the additions as:\n",
    "for i in range(3):\n",
    "    vec4['data'][i] = vec1['data'][i] + vec2['data'][i]\n",
    "    \n",
    "# Let's print the result\n",
    "print(f\"Vector 4: {vec4}\")"
   ]
  },
  {
   "cell_type": "markdown",
   "id": "21fd605c",
   "metadata": {},
   "source": [
    "Tel de onderstaande vectoren bij elkaar op:\n",
    "\n",
    "$$\n",
    "  \\begin{pmatrix}\n",
    "    1 & 2 & 3\n",
    "  \\end{pmatrix}\n",
    "  +\n",
    "  \\begin{pmatrix}\n",
    "    9 & 8 & 7\n",
    "  \\end{pmatrix}\n",
    "  =\n",
    "  ...\n",
    "$$"
   ]
  },
  {
   "cell_type": "code",
   "execution_count": 17,
   "id": "cc4ead58",
   "metadata": {},
   "outputs": [
    {
     "name": "stdout",
     "output_type": "stream",
     "text": [
      "{'rows': 3, 'cols': 1, 'data': [0, 0, 0]}\n",
      "The matrix has 3 rows and 1 cols and thus 3 elements\n"
     ]
    }
   ],
   "source": [
    "# Implement both vectors:\n",
    "\n",
    "vec1 = {'rows': 1, 'cols': 3, 'data': [1,2,3]}\n",
    "vec2 = {'rows': 1, 'cols': 3, 'data': [9,8,7]}\n",
    "\n",
    "# Can we add them? Check if dimensions are the same:\n",
    "\n",
    "# Similar to the excercise above\n",
    "\n",
    "# How do you add these vectors by hand?\n",
    "\n",
    "# Similar to the excercise above\n",
    "\n",
    "# Now add the vectors in code:\n",
    "\n",
    "# Similar to the excercise above\n",
    "\n",
    "# Extra: let's define a function that creates a vector\n",
    "def createMatrix(rows, cols):\n",
    "    \n",
    "    # Use a list comprehension to initialize the vector to zero\n",
    "    return {'rows': rows, 'cols': cols, 'data': [0 for i in range(0, rows * cols)]}\n",
    "\n",
    "# Let's test it\n",
    "vec = createMatrix(3, 1)\n",
    "\n",
    "print(vec)\n",
    "\n",
    "# Let's also create a utility function to print the vector\n",
    "def printMatrix(mat):\n",
    "    \n",
    "    print(f\"The matrix has {mat['rows']} rows and {mat['cols']} cols and thus {mat['rows'] * mat['cols']} elements\")\n",
    "\n",
    "# Let's test it\n",
    "printMatrix(vec)"
   ]
  },
  {
   "cell_type": "markdown",
   "id": "bc2f57f2",
   "metadata": {},
   "source": [
    "## Matrices"
   ]
  },
  {
   "cell_type": "markdown",
   "id": "54c084fc",
   "metadata": {},
   "source": [
    "### 1. Een 3 x 3 matrix*"
   ]
  },
  {
   "cell_type": "markdown",
   "id": "e828938c",
   "metadata": {},
   "source": [
    "Representeer de onderstaande matrix in code:\n",
    "\n",
    "$$\n",
    "  \\begin{pmatrix}\n",
    "    1 & 2 & 3\\\\\n",
    "    4 & 5 & 6\\\\\n",
    "    7 & 8 & 9\\\\\n",
    "  \\end{pmatrix}\n",
    "$$"
   ]
  },
  {
   "cell_type": "code",
   "execution_count": 18,
   "id": "da23dfd3",
   "metadata": {},
   "outputs": [
    {
     "name": "stdout",
     "output_type": "stream",
     "text": [
      "The matrix has 3 rows and 3 cols and thus 9 elements\n",
      "The matrix has 3 rows and 3 cols and thus 9 elements\n"
     ]
    }
   ],
   "source": [
    "# How many rows and colums does this matrix have?\n",
    "\n",
    "# The matrix above has 3 rows and 3 columns\n",
    "\n",
    "# Use the definition at the top to implement this matrix:\n",
    "\n",
    "mat1 = {'rows': 3, 'cols': 3, 'data': [1,2,3,4,5,6,7,8,9]}\n",
    "\n",
    "# Or, we can use the function createMatrix:\n",
    "mat2 = createMatrix(3, 3)\n",
    "\n",
    "# Not very handy ;)\n",
    "mat2['data'][0] = 1\n",
    "mat2['data'][1] = 2\n",
    "mat2['data'][2] = 3\n",
    "mat2['data'][3] = 4\n",
    "mat2['data'][4] = 5\n",
    "mat2['data'][5] = 6\n",
    "mat2['data'][6] = 7\n",
    "mat2['data'][7] = 8\n",
    "mat2['data'][8] = 9\n",
    "\n",
    "# Can you print its dimensions? (rows, cols)\n",
    "\n",
    "printMatrix(mat1)\n",
    "printMatrix(mat2)\n",
    "\n",
    "# Can you print the number of elements?\n",
    "\n",
    "# See above"
   ]
  },
  {
   "cell_type": "markdown",
   "id": "0f1c2624",
   "metadata": {},
   "source": [
    "### 2. Matrices optellen**"
   ]
  },
  {
   "cell_type": "markdown",
   "id": "c4cd5484",
   "metadata": {},
   "source": [
    "Tel de onderstaande matrices op:\n",
    "\n",
    "$$\n",
    "  \\begin{pmatrix}\n",
    "    1 & 2 & 3\\\\\n",
    "    4 & 5 & 6\\\\\n",
    "    7 & 8 & 9\\\\\n",
    "  \\end{pmatrix}\n",
    "  +\n",
    "    \\begin{pmatrix}\n",
    "    9 & 8 & 7\\\\\n",
    "    6 & 5 & 4\\\\\n",
    "    3 & 2 & 1\\\\\n",
    "  \\end{pmatrix}\n",
    "  =\n",
    "  ...\n",
    "$$"
   ]
  },
  {
   "cell_type": "code",
   "execution_count": 20,
   "id": "df3c8dc0",
   "metadata": {},
   "outputs": [
    {
     "name": "stdout",
     "output_type": "stream",
     "text": [
      "{'rows': 3, 'cols': 3, 'data': [10, 10, 10, 10, 10, 10, 10, 10, 10]}\n"
     ]
    }
   ],
   "source": [
    "# Implement both matrices:\n",
    "\n",
    "mat1 = {'rows': 3, 'cols': 3, 'data': [1,2,3,4,5,6,7,8,9]}\n",
    "mat2 = {'rows': 3, 'cols': 3, 'data': [9,8,7,6,5,4,3,2,1]}\n",
    "\n",
    "# Can we add them? Check if dimensions are the same:\n",
    "\n",
    "# ...\n",
    "\n",
    "# How do you add these matrices by hand?\n",
    "\n",
    "# Let's translate the manual proces to indices:\n",
    "# mat1 [ 1,  2,  3,  3,  4,  5,  6,  7,  8,  9]\n",
    "# mat2 [ 9,  8,  7,  7,  6,  5,  4,  3,  2,  1]\n",
    "# ----------------- +\n",
    "# mat3 [10, 10, 10, 10, 10, 10, 10, 10, 10, 10]\n",
    "\n",
    "# Now add the matrices in code:\n",
    "\n",
    "mat3 = createMatrix(3, 3)\n",
    "\n",
    "# Again: you see that we must add index by index. Let's write it as a for loop:\n",
    "for i in range(9):\n",
    "    \n",
    "    mat3['data'][i] = mat1['data'][i] + mat2['data'][i]\n",
    "\n",
    "# Let's check it:\n",
    "print(mat3)\n",
    "    \n",
    "# In case you didn't: can you generalize this algorithm?\n",
    "\n",
    "# See above"
   ]
  },
  {
   "cell_type": "markdown",
   "id": "c2f1ca4e",
   "metadata": {},
   "source": [
    "### 3. Matrices vermenigvuldigen***"
   ]
  },
  {
   "cell_type": "markdown",
   "id": "039d2cab",
   "metadata": {},
   "source": [
    "Vermenigvuldig de onderstaande matrices:\n",
    "\n",
    "$$\n",
    "  \\begin{pmatrix}\n",
    "    1 & 2 & 3\\\\\n",
    "    4 & 5 & 6\n",
    "  \\end{pmatrix}\n",
    "  *\n",
    "    \\begin{pmatrix}\n",
    "    9 & 8\\\\\n",
    "    6 & 5\\\\\n",
    "    3 & 2\\\\\n",
    "  \\end{pmatrix}\n",
    "  =\n",
    "  ...\n",
    "$$"
   ]
  },
  {
   "cell_type": "code",
   "execution_count": 56,
   "id": "4be9380e",
   "metadata": {},
   "outputs": [
    {
     "name": "stdout",
     "output_type": "stream",
     "text": [
      "Yes, we can multiply them!\n",
      "(0,0)\n",
      "(1,2)\n",
      "(2,4)\n",
      "(0,1)\n",
      "(1,3)\n",
      "(2,5)\n",
      "(3,0)\n",
      "(4,2)\n",
      "(5,4)\n",
      "(3,1)\n",
      "(4,3)\n",
      "(5,5)\n",
      "{'rows': 2, 'cols': 2, 'data': [30, 24, 84, 69]}\n"
     ]
    }
   ],
   "source": [
    "# Implement both matrices:\n",
    "\n",
    "mat1 = {'rows': 2, 'cols': 3, 'data': [1,2,3,4,5,6]}\n",
    "mat2 = {'rows': 3, 'cols': 2, 'data': [9,8,6,5,3,2]}\n",
    "\n",
    "# Can we multiply them? Check if dimensions satisfy the (M by N) * (N by K) = (M by K) rule:\n",
    "\n",
    "if mat1['cols'] == mat2['rows']:\n",
    "    \n",
    "    print(\"Yes, we can multiply them!\")\n",
    "\n",
    "# How do you multiply these matrices by hand?\n",
    "\n",
    "# To see how the multiplication works, write it as:\n",
    "\n",
    "# mat3 = [1*9+2*6+3*3, 1*8+2*5+3*2, 4*9+5*6*6*3, 4*8+5*5+6*2]\n",
    "\n",
    "# Note: we have chosen the indices of mat3 such that rows are appended in the data list\n",
    "\n",
    "# To see the pattern it's more insightfull to express the calculation in terms of the indices of mat1 and mat2:\n",
    "# mat3 = [(0,0)+(1,2)+(2,4), (0,1)+(1,3)+(2,5), (3,0)+(4,2)+(5,4), (3,1)+(4,3)+(5,5)]\n",
    "\n",
    "# Now multiply the matrices in code:\n",
    "\n",
    "# According to the multiplication rule the result must be a 2 by 2 matrix:\n",
    "mat3 = {'rows': 2, 'cols': 2, 'data': [0,0,0,0]}\n",
    "\n",
    "# Define the number of elements of mat3\n",
    "mat3Elements = mat3['rows'] * mat3['cols']\n",
    "\n",
    "# Define the number of multiplications per index of mat3\n",
    "mulPerIndex = mat1['cols'] # or mat2['rows']\n",
    "\n",
    "# We need to touch every element of mat3\n",
    "for i in range(mat3Elements): # i = 0, 1, 2, 3\n",
    "    \n",
    "    # For each mat3 element we need to multiply the col values of mat1 with the row values of mat2\n",
    "    for j in range(mulPerIndex): # j = 0, 1, 2\n",
    "    \n",
    "        # These are the col indices of mat1\n",
    "        colIndex = (i // mat2['cols']) * mat1['cols'] + j\n",
    "        \n",
    "        # These are the row indices of mat2\n",
    "        rowIndex = (i % mat2['cols']) + j * mat2['cols']\n",
    "        \n",
    "        # Let's print the indices to see if they match our manual result above\n",
    "        print(f\"({colIndex},{rowIndex})\")\n",
    "    \n",
    "        mat3['data'][i] += mat1['data'][colIndex] * mat2['data'][rowIndex]\n",
    "\n",
    "# Let's check it\n",
    "print(mat3)\n",
    "        \n",
    "# In case you didn't: can you generalize this algorithm?\n",
    "\n",
    "# See above"
   ]
  }
 ],
 "metadata": {
  "kernelspec": {
   "display_name": "Python 3 (ipykernel)",
   "language": "python",
   "name": "python3"
  },
  "language_info": {
   "codemirror_mode": {
    "name": "ipython",
    "version": 3
   },
   "file_extension": ".py",
   "mimetype": "text/x-python",
   "name": "python",
   "nbconvert_exporter": "python",
   "pygments_lexer": "ipython3",
   "version": "3.10.9"
  }
 },
 "nbformat": 4,
 "nbformat_minor": 5
}
