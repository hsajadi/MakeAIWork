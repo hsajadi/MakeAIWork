{
 "cells": [
  {
   "cell_type": "code",
   "execution_count": 113,
   "id": "7795ed57-8e93-4b84-822e-207495e208e4",
   "metadata": {
    "tags": []
   },
   "outputs": [],
   "source": [
    "import pandas as pd\n",
    "\n",
    "from sklearn import preprocessing, svm\n",
    "from sklearn.model_selection import train_test_split\n",
    "from sklearn.linear_model import LinearRegression\n",
    "from sklearn.metrics import mean_squared_error, mean_absolute_error"
   ]
  },
  {
   "cell_type": "code",
   "execution_count": 114,
   "id": "eda387e0-7196-4a86-a0ca-055d83a95693",
   "metadata": {
    "tags": []
   },
   "outputs": [
    {
     "name": "stdout",
     "output_type": "stream",
     "text": [
      "regr.score(X_test, y_test):  0.9814633022203915\n",
      "y_pred:  [83.18950438 63.88105296 81.32426326 ... 90.3835836  91.01125376\n",
      " 72.30364891]\n",
      "BMI\n",
      "mean_squared_error :  1.1712644020058207\n",
      "Root of mean_squared_error :  1.082249694851341\n",
      "Mean_absolute_error :  0.8089609940401334\n"
     ]
    }
   ],
   "source": [
    "patient_DF = pd.read_csv('./medisch_centrum_randstad_BMI.csv')\n",
    "X = patient_DF[['genetic', 'exercise', 'smoking', 'alcohol', 'sugar', 'BMI']]\n",
    "y = patient_DF['lifespan']\n",
    "\n",
    "X_train, X_test, y_train, y_test = train_test_split(X, y, test_size = 0.25)\n",
    "\n",
    "regr = LinearRegression()\n",
    "regr.fit(X_train, y_train)\n",
    "\n",
    "print('regr.score(X_test, y_test): ', regr.score(X_test, y_test))\n",
    "\n",
    "# Data scatter of predicted values\n",
    "y_pred = regr.predict(X_test)\n",
    "print('y_pred: ', y_pred)\n",
    "\n",
    "sq = (mean_squared_error(y_test, y_pred))**0.5\n",
    "print('BMI')\n",
    "print('mean_squared_error : ', mean_squared_error(y_test, y_pred))\n",
    "print('Root of mean_squared_error : ', sq)\n",
    "print('Mean_absolute_error : ', mean_absolute_error(y_test, y_pred))\n",
    "mae = round((mean_absolute_error(y_test, y_pred)),2)"
   ]
  },
  {
   "cell_type": "code",
   "execution_count": 115,
   "id": "29c5e540-b7a4-48ad-ae4c-b750e03ad253",
   "metadata": {
    "tags": []
   },
   "outputs": [
    {
     "name": "stdout",
     "output_type": "stream",
     "text": [
      "regr.score(X_test, y_test:  0.9778977039889954\n",
      "y_pred:  [85.38778864 74.46974911 79.10047672 ... 76.26489007 60.64634466\n",
      " 84.54788947]\n",
      "ALL\n",
      "mean_squared_error :  1.3456173848491448\n",
      "Root of mean_squared_error :  1.1600074934452556\n",
      "mean_absolute_error :  0.8584018230170012\n"
     ]
    }
   ],
   "source": [
    "patient_DF2 = pd.read_csv('./medisch_centrum_randstad_BMI.csv')\n",
    "X = patient_DF2[['mass', 'length', 'genetic', 'exercise', 'smoking', 'alcohol', 'sugar']]\n",
    "y = patient_DF2['lifespan']\n",
    "\n",
    "X_train, X_test, y_train, y_test = train_test_split(X, y, test_size = 0.25)\n",
    "\n",
    "regr = LinearRegression()\n",
    "regr.fit(X_train, y_train)\n",
    "\n",
    "print('regr.score(X_test, y_test: ', regr.score(X_test, y_test))\n",
    "\n",
    "# Data scatter of predicted values\n",
    "y_pred = regr.predict(X_test)\n",
    "print('y_pred: ', y_pred)\n",
    "\n",
    "sq2 = (mean_squared_error(y_test, y_pred))**0.5\n",
    "print('ALL')\n",
    "print('mean_squared_error : ', mean_squared_error(y_test, y_pred))\n",
    "print('Root of mean_squared_error : ', sq2)\n",
    "print('mean_absolute_error : ', mean_absolute_error(y_test, y_pred))\n",
    "mae2 = round((mean_absolute_error(y_test, y_pred)),2)"
   ]
  },
  {
   "cell_type": "code",
   "execution_count": 116,
   "id": "9e3e2db3-4b58-4e7a-b457-bc82dda160b7",
   "metadata": {
    "tags": []
   },
   "outputs": [
    {
     "name": "stdout",
     "output_type": "stream",
     "text": [
      "regr.score(X_test, y_test:  0.9028407534727397\n",
      "y_pred:  [78.78122437 86.30059783 77.5807918  ... 75.43128497 79.86009205\n",
      " 76.23265224]\n",
      "genetic, alcohol and sugar\n",
      "mean_squared_error :  5.738369317547342\n",
      "Root of mean_squared_error :  2.3954893691159103\n",
      "mean_absolute_error :  1.9041436514520316\n"
     ]
    }
   ],
   "source": [
    "patient_DF3 = pd.read_csv('./medisch_centrum_randstad_BMI.csv')\n",
    "X = patient_DF3[['genetic', 'alcohol', 'sugar']]\n",
    "y = patient_DF3['lifespan']\n",
    "\n",
    "X_train, X_test, y_train, y_test = train_test_split(X, y, test_size = 0.25)\n",
    "\n",
    "regr = LinearRegression()\n",
    "regr.fit(X_train, y_train)\n",
    "\n",
    "print('regr.score(X_test, y_test: ', regr.score(X_test, y_test))\n",
    "\n",
    "# Data scatter of predicted values\n",
    "y_pred = regr.predict(X_test)\n",
    "print('y_pred: ', y_pred)\n",
    "\n",
    "sq3 = (mean_squared_error(y_test, y_pred))**0.5\n",
    "print('genetic, alcohol and sugar')\n",
    "print('mean_squared_error : ', mean_squared_error(y_test, y_pred))\n",
    "print('Root of mean_squared_error : ', sq3)\n",
    "print('mean_absolute_error : ', mean_absolute_error(y_test, y_pred))\n",
    "mae3 = round((mean_absolute_error(y_test, y_pred)),2)"
   ]
  },
  {
   "cell_type": "code",
   "execution_count": 117,
   "id": "8031ca12-9e62-4b8e-9317-2874ad65d537",
   "metadata": {
    "tags": []
   },
   "outputs": [
    {
     "name": "stdout",
     "output_type": "stream",
     "text": [
      "regr.score(X_test, y_test:  0.956682469407102\n",
      "y_pred:  [83.39301609 87.04552878 78.27060199 ... 80.2029254  94.99790485\n",
      " 75.53363526]\n",
      "genetic & smoking\n",
      "mean_squared_error :  2.617418015441109\n",
      "Root of mean_squared_error :  1.6178436313318754\n",
      "mean_absolute_error :  1.2513912616741842\n"
     ]
    }
   ],
   "source": [
    "patient_DF4 = pd.read_csv('./medisch_centrum_randstad_BMI.csv')\n",
    "X = patient_DF4[['genetic', 'smoking']]\n",
    "y = patient_DF4['lifespan']\n",
    "\n",
    "X_train, X_test, y_train, y_test = train_test_split(X, y, test_size = 0.25)\n",
    "\n",
    "regr = LinearRegression()\n",
    "regr.fit(X_train, y_train)\n",
    "\n",
    "print('regr.score(X_test, y_test: ', regr.score(X_test, y_test))\n",
    "\n",
    "# Data scatter of predicted values\n",
    "y_pred = regr.predict(X_test)\n",
    "print('y_pred: ', y_pred)\n",
    "\n",
    "sq4 = (mean_squared_error(y_test, y_pred))**0.5\n",
    "print('genetic & smoking')\n",
    "print('mean_squared_error : ', mean_squared_error(y_test, y_pred))\n",
    "print('Root of mean_squared_error : ', sq4)\n",
    "print('mean_absolute_error : ', mean_absolute_error(y_test, y_pred))\n",
    "mae4 = round((mean_absolute_error(y_test, y_pred)),2)"
   ]
  },
  {
   "cell_type": "code",
   "execution_count": 118,
   "id": "72432177-427d-46cf-9abb-1c64c4695e6c",
   "metadata": {
    "tags": []
   },
   "outputs": [
    {
     "name": "stdout",
     "output_type": "stream",
     "text": [
      "regr.score(X_test, y_test:  0.9103671418360463\n",
      "y_pred:  [80.49437139 89.3961856  77.05294223 ... 77.41308706 97.22494722\n",
      " 97.41838848]\n",
      "genetic & exercise\n",
      "mean_squared_error :  5.393145068653282\n",
      "Root of mean_squared_error :  2.32231459295533\n",
      "mean_absolute_error :  1.8881674298358304\n"
     ]
    }
   ],
   "source": [
    "patient_DF5 = pd.read_csv('./medisch_centrum_randstad_BMI.csv')\n",
    "X = patient_DF5[['genetic', 'exercise']]\n",
    "y = patient_DF5['lifespan']\n",
    "\n",
    "X_train, X_test, y_train, y_test = train_test_split(X, y, test_size = 0.25)\n",
    "\n",
    "regr = LinearRegression()\n",
    "regr.fit(X_train, y_train)\n",
    "\n",
    "print('regr.score(X_test, y_test: ', regr.score(X_test, y_test))\n",
    "\n",
    "# Data scatter of predicted values\n",
    "y_pred = regr.predict(X_test)\n",
    "print('y_pred: ', y_pred)\n",
    "\n",
    "sq5 = (mean_squared_error(y_test, y_pred))**0.5\n",
    "print('genetic & exercise')\n",
    "print('mean_squared_error : ', mean_squared_error(y_test, y_pred))\n",
    "print('Root of mean_squared_error : ', sq5)\n",
    "print('mean_absolute_error : ', mean_absolute_error(y_test, y_pred))\n",
    "mae5 = round((mean_absolute_error(y_test, y_pred)),2)"
   ]
  },
  {
   "cell_type": "code",
   "execution_count": 119,
   "id": "42690055-4727-44df-86cd-c6cb792d2cfd",
   "metadata": {
    "tags": []
   },
   "outputs": [
    {
     "name": "stdout",
     "output_type": "stream",
     "text": [
      "regr.score(X_test, y_test:  0.897382231763745\n",
      "y_pred:  [76.92673199 81.9239511  85.2221157  ... 82.82345053 80.82456289\n",
      " 79.92506345]\n",
      "genetic\n",
      "mean_squared_error :  6.253383859641026\n",
      "Root of mean_squared_error :  2.5006766803489464\n",
      "mean_absolute_error :  2.042449215145061\n"
     ]
    }
   ],
   "source": [
    "patient_DF6 = pd.read_csv('./medisch_centrum_randstad_BMI.csv')\n",
    "X = patient_DF6[['genetic']]\n",
    "y = patient_DF6['lifespan']\n",
    "\n",
    "X_train, X_test, y_train, y_test = train_test_split(X, y, test_size = 0.25)\n",
    "\n",
    "regr = LinearRegression()\n",
    "regr.fit(X_train, y_train)\n",
    "\n",
    "print('regr.score(X_test, y_test: ', regr.score(X_test, y_test))\n",
    "\n",
    "# Data scatter of predicted values\n",
    "y_pred = regr.predict(X_test)\n",
    "print('y_pred: ', y_pred)\n",
    "\n",
    "sq6 = (mean_squared_error(y_test, y_pred))**0.5\n",
    "print('genetic')\n",
    "print('mean_squared_error : ', mean_squared_error(y_test, y_pred))\n",
    "print('Root of mean_squared_error : ', sq6)\n",
    "print('mean_absolute_error : ', mean_absolute_error(y_test, y_pred))\n",
    "mae6 = round((mean_absolute_error(y_test, y_pred)),2)"
   ]
  },
  {
   "cell_type": "code",
   "execution_count": 120,
   "id": "e049b3ca-dc35-4a2f-9820-6dddca855112",
   "metadata": {
    "tags": []
   },
   "outputs": [
    {
     "name": "stdout",
     "output_type": "stream",
     "text": [
      "regr.score(X_test, y_test:  0.8967507286364891\n",
      "y_pred:  [77.13682517 73.13105607 76.90782131 ... 78.5612977  81.22063355\n",
      " 82.77930534]\n",
      "genetic & sugar\n",
      "mean_squared_error :  6.158453860385978\n",
      "Root of mean_squared_error :  2.481623230949045\n",
      "mean_absolute_error :  1.978289548531942\n"
     ]
    }
   ],
   "source": [
    "patient_DF7 = pd.read_csv('./medisch_centrum_randstad_BMI.csv')\n",
    "X = patient_DF7[['genetic', 'sugar']]\n",
    "y = patient_DF7['lifespan']\n",
    "\n",
    "X_train, X_test, y_train, y_test = train_test_split(X, y, test_size = 0.25)\n",
    "\n",
    "regr = LinearRegression()\n",
    "regr.fit(X_train, y_train)\n",
    "\n",
    "print('regr.score(X_test, y_test: ', regr.score(X_test, y_test))\n",
    "\n",
    "# Data scatter of predicted values\n",
    "y_pred = regr.predict(X_test)\n",
    "print('y_pred: ', y_pred)\n",
    "\n",
    "sq7 = (mean_squared_error(y_test, y_pred))**0.5\n",
    "print('genetic & sugar')\n",
    "print('mean_squared_error : ', mean_squared_error(y_test, y_pred))\n",
    "print('Root of mean_squared_error : ', sq7)\n",
    "print('mean_absolute_error : ', mean_absolute_error(y_test, y_pred))\n",
    "mae7 = round((mean_absolute_error(y_test, y_pred)),2)"
   ]
  },
  {
   "cell_type": "code",
   "execution_count": 121,
   "id": "15978047-e574-4313-b3ff-bba291cd2eb7",
   "metadata": {
    "tags": []
   },
   "outputs": [
    {
     "name": "stdout",
     "output_type": "stream",
     "text": [
      "\n",
      "BMI: \t\t\t\t mean error 0.81\n",
      "ALL without BMI:\t\t mean error 0.86\n",
      "Genetic, alcohol and sugar: \t mean error 1.9\n",
      "Genetic & smoking: \t\t mean error 1.25\n",
      "Genetic & exercise: \t\t mean error 1.89\n",
      "Genetic: \t\t\t mean error 2.04\n",
      "Genetic & sugar: \t\t mean error 1.98\n"
     ]
    }
   ],
   "source": [
    "print()\n",
    "print('BMI: \\t\\t\\t\\t mean error', mae)\n",
    "print('ALL without BMI:\\t\\t mean error', mae2)\n",
    "print('Genetic, alcohol and sugar: \\t mean error', mae3)\n",
    "print('Genetic & smoking: \\t\\t mean error', mae4)\n",
    "print('Genetic & exercise: \\t\\t mean error', mae5)\n",
    "print('Genetic: \\t\\t\\t mean error', mae6)\n",
    "print('Genetic & sugar: \\t\\t mean error', mae7)"
   ]
  },
  {
   "cell_type": "code",
   "execution_count": 122,
   "id": "768e0ca2-87b1-46f2-98f8-897f858ceafb",
   "metadata": {
    "tags": []
   },
   "outputs": [
    {
     "name": "stdout",
     "output_type": "stream",
     "text": [
      "regr.score(X_test, y_test:  0.9796086466682338\n"
     ]
    }
   ],
   "source": [
    "patient_DF7 = pd.read_csv('./medisch_centrum_randstad_BMI.csv')\n",
    "X = patient_DF7[['genetic', 'exercise', 'smoking', 'alcohol', 'sugar', 'BMI']]\n",
    "y = patient_DF7['lifespan']\n",
    "\n",
    "X_train, X_test, y_train, y_test = train_test_split(X, y, test_size = 0.25)\n",
    "\n",
    "regr = LinearRegression()\n",
    "regr.fit(X_train, y_train)\n",
    "\n",
    "print('regr.score(X_test, y_test: ', regr.score(X_test, y_test))\n",
    "\n",
    "# Data scatter of predicted values\n",
    "y_pred = regr.predict(X_test)\n",
    "# print('y_pred: ', y_pred)\n",
    "\n",
    "sq8 = (mean_squared_error(y_test, y_pred))**0.5\n",
    "# print('genetic & sugar')\n",
    "# print('mean_squared_error : ', mean_squared_error(y_test, y_pred))\n",
    "# print('Root of mean_squared_error : ', sq8)\n",
    "# print('mean_absolute_error : ', mean_absolute_error(y_test, y_pred))\n",
    "mae8 = round((mean_absolute_error(y_test, y_pred)),2)\n",
    "# print()\n",
    "\n",
    "# print('Regression coefficient: ', regr.coef_)\n",
    "# print('Regression Intercept: ', regr.intercept_)\n",
    "\n",
    "regCoef = regr.coef_\n",
    "regInter = regr.intercept_\n",
    "\n",
    "# g1 = float(input(\"please input your genetic: \"))\n",
    "# bmi1 = float(input(\"please input your BMI: \"))\n",
    "# ex1 = float(input(\"please input your exercise: \"))\n",
    "# sm1 = float(input(\"please input your smoking: \"))\n",
    "# al1 = float(input(\"please input your alcohol: \"))\n",
    "# su1 = float(input(\"please input your sugar: \"))\n",
    "\n",
    "# lifespan_advis = (regCoef[0]*g1)+(regCoef[1]*ex1)+(regCoef[2]*sm1)+(regCoef[3]*al1)+(regCoef[4]*su1)+(regCoef[5]*bmi1)+regInter\n",
    "# print(lifespan_advis)\n",
    "\n",
    "import pickle\n",
    "with open('model_pkl', 'wb') as files:\n",
    "    pickle.dump(regr, files)"
   ]
  },
  {
   "cell_type": "code",
   "execution_count": 123,
   "id": "ff34e333-3ae0-4a1f-b5b1-36e5a5544e1f",
   "metadata": {
    "tags": []
   },
   "outputs": [],
   "source": [
    "min_genetic = patient_DF.describe().transpose()['min']['genetic']\n",
    "min_length = patient_DF.describe().transpose()['min']['length']\n",
    "min_weigth = patient_DF.describe().transpose()['min']['mass']\n",
    "min_exercise = patient_DF.describe().transpose()['min']['exercise']\n",
    "min_smoking = patient_DF.describe().transpose()['min']['smoking']\n",
    "min_alkohol = patient_DF.describe().transpose()['min']['alcohol']\n",
    "min_sugar = patient_DF.describe().transpose()['min']['sugar']\n",
    "\n",
    "max_genetic = patient_DF.describe().transpose()['max']['genetic']\n",
    "max_length = patient_DF.describe().transpose()['max']['length']\n",
    "max_weigth = patient_DF.describe().transpose()['max']['mass']\n",
    "max_exercise = patient_DF.describe().transpose()['max']['exercise']\n",
    "max_smoking = patient_DF.describe().transpose()['max']['smoking']\n",
    "max_alcohol = patient_DF.describe().transpose()['max']['alcohol']\n",
    "max_sugar = patient_DF.describe().transpose()['max']['sugar']"
   ]
  },
  {
   "cell_type": "code",
   "execution_count": 124,
   "id": "dcec9c9f-8e92-40a7-b9d9-9c9ef5925587",
   "metadata": {
    "tags": []
   },
   "outputs": [],
   "source": [
    "import tkinter\n",
    "from tkinter import *\n",
    "from tkinter import ttk, messagebox, Toplevel\n",
    "from PIL import ImageTk, Image\n",
    "from tkinter import filedialog\n",
    "import tkinter.font as tkFont\n",
    "import os\n",
    "\n",
    "def show_error(error_message):\n",
    "    messagebox.showerror('Input Error', f'Error: {error_message}')\n",
    "\n",
    "def calculate(*args):\n",
    "    try:\n",
    "        g1 = float(genetic.get())\n",
    "        if not min_genetic <= g1 <= max_genetic:\n",
    "            show_error(f'Genetic have to be between {min_genetic} to {max_genetic} years')\n",
    "            return\n",
    "        len1 = float(length.get())\n",
    "        if not min_length <= len1 <= max_length:\n",
    "            show_error(f'Heigth have to be between {min_length} to {max_length} Cm')\n",
    "            return\n",
    "        mas1 = float(weigth.get())\n",
    "        if not min_weigth <= mas1 <= max_weigth:\n",
    "            show_error(f'Weigth have to be between {min_weigth} to {max_weigth} Kg')\n",
    "            return\n",
    "        ex1 = float(exercise.get())\n",
    "        if not min_exercise <= ex1 <= max_exercise:\n",
    "            show_error(f'Exercise have to be between {min_exercise} to {max_exercise} hours')\n",
    "            return\n",
    "        sm1 = float(smoking.get())\n",
    "        if not min_smoking <= sm1 <= max_smoking:\n",
    "            show_error(f'Cigarets have to be between {min_smoking} to {max_smoking}')\n",
    "            return\n",
    "        al1 = float(alcohol.get())\n",
    "        if not min_alkohol <= al1 <= max_alcohol:\n",
    "            show_error(f'Alcohol have to be between {min_alkohol} to {max_alcohol}')\n",
    "            return\n",
    "        su1 = float(sugar.get())\n",
    "        if not min_sugar <= su1 <= max_sugar:\n",
    "            show_error(f'Sugar have to be between {min_sugar} to {max_sugar}')\n",
    "            return\n",
    "        bm1 = (mas1)/((len1/100)**2)\n",
    "        lifespan_advis.set(int((regCoef[0] * g1)+(regCoef[1] * ex1)+(regCoef[2] * sm1)+(regCoef[3] * al1)+(regCoef[4] * su1)+(regCoef[5] * bm1)+regInter))\n",
    "        bmi1.set(int(bm1))\n",
    "    except ValueError:\n",
    "        pass    \n",
    "\n",
    "root = Tk()\n",
    "root.title(\"lifespan\")\n",
    "\n",
    "s = ttk.Style()\n",
    "s.configure('.', font=('Ariel Nova', 22))\n",
    "\n",
    "mainframe = ttk.Frame(root, padding=\"3 3 12 12\")\n",
    "mainframe.grid(column=0, row=0, sticky=(N, W, E, S))\n",
    "root.columnconfigure(0, weight=1)  \n",
    "root.rowconfigure(0, weight=1)\n",
    "\n",
    "genetic = StringVar()\n",
    "genetic_entry = ttk.Entry(mainframe, width=10, font=('Moreno', 22),  textvariable=genetic)\n",
    "genetic_entry.grid(column=2, row=1, sticky=(W, E))\n",
    "\n",
    "\n",
    "length = StringVar()\n",
    "length_entry = ttk.Entry(mainframe, width=13, font=('Moreno', 22), textvariable=length)\n",
    "length_entry.grid(column=2, row=2, sticky=(W, E))\n",
    "\n",
    "weigth = StringVar()\n",
    "weigth_entry = ttk.Entry(mainframe, width=13, font=('Moreno', 22), textvariable=weigth)\n",
    "weigth_entry.grid(column=2, row=3, sticky=(W, E))\n",
    "\n",
    "exercise = StringVar()\n",
    "exercise_entry = ttk.Entry(mainframe, width=13, font=('Moreno', 22), textvariable=exercise)\n",
    "exercise_entry.grid(column=2, row=4, sticky=(W, E))\n",
    "\n",
    "smoking = StringVar()\n",
    "smoking_entry = ttk.Entry(mainframe, width=13, font=('Moreno', 22), textvariable=smoking)\n",
    "smoking_entry.grid(column=2, row=5, sticky=(W, E))\n",
    "\n",
    "alcohol = StringVar()\n",
    "alcohol_entry = ttk.Entry(mainframe, width=13, font=('Moreno', 22), textvariable=alcohol)\n",
    "alcohol_entry.grid(column=2, row=6, sticky=(W, E))\n",
    "\n",
    "sugar = StringVar()\n",
    "sugar_entry = ttk.Entry(mainframe, width=13, font=('Moreno', 22), textvariable=sugar)\n",
    "sugar_entry.grid(column=2, row=7, sticky=(W, E))\n",
    "\n",
    "bmi1 = StringVar()\n",
    "ttk.Label(mainframe, textvariable=bmi1).grid(column=2, row=8, sticky=(W, E))\n",
    "\n",
    "\n",
    "lifespan_advis = StringVar()\n",
    "ttk.Label(mainframe, textvariable=lifespan_advis).grid(column=2, row=9, sticky=(W, E))\n",
    "\n",
    "def on_click():\n",
    "    global my_img\n",
    "    top = Toplevel()\n",
    "    top.title(\"cat photo\")\n",
    "    my_img = ImageTk.PhotoImage(Image.open(r'./mars.jpg'))\n",
    "    Label(top, image=my_img).pack()\n",
    "\n",
    "\n",
    "ttk.Button(mainframe, text=\"Chart\", command=on_click).grid(column=3, row=1, sticky=W)\n",
    "ttk.Button(mainframe, text=\"Chart\", command=on_click).grid(column=3, row=2, sticky=W)\n",
    "ttk.Button(mainframe, text=\"Chart\", command=on_click).grid(column=3, row=3, sticky=W)\n",
    "ttk.Button(mainframe, text=\"Chart\", command=on_click).grid(column=3, row=4, sticky=W)\n",
    "ttk.Button(mainframe, text=\"Chart\", command=on_click).grid(column=3, row=5, sticky=W)\n",
    "ttk.Button(mainframe, text=\"Chart\", command=on_click).grid(column=3, row=6, sticky=W)\n",
    "ttk.Button(mainframe, text=\"Chart\", command=on_click).grid(column=3, row=7, sticky=W)\n",
    "ttk.Button(mainframe, text=\"Chart\", command=on_click).grid(column=3, row=8, sticky=W)\n",
    "ttk.Button(mainframe, text=\"Calculate\", command=calculate).grid(column=3, row=10, sticky=W)\n",
    "\n",
    "\n",
    "ttk.Label(mainframe, text=\"Your genetic\").grid(column=1, row=1,  sticky=W)\n",
    "ttk.Label(mainframe, text=\"Your length\").grid(column=1, row=2, sticky=W)\n",
    "ttk.Label(mainframe, text=\"Your weigth\").grid(column=1, row=3, sticky=W)\n",
    "ttk.Label(mainframe, text=\"Exercise per week\").grid(column=1, row=4, sticky=W)\n",
    "ttk.Label(mainframe, text=\"Cigarettes per day\").grid(column=1, row=5, sticky=W)\n",
    "ttk.Label(mainframe, text=\"Glasses alcohol per day\").grid(column=1, row=6, sticky=W)\n",
    "ttk.Label(mainframe, text=\"Qubes of sugar per day\").grid(column=1, row=7, sticky=W)\n",
    "ttk.Label(mainframe, text=\"Your BMI is\").grid(column=1, row=8, sticky=W)\n",
    "ttk.Label(mainframe, text=\"Your lifespan prognosis\").grid(column=1, row=9, sticky=W)\n",
    "ttk.Label(mainframe, text=\"years\").grid(column=3, row=9, sticky=W)\n",
    "\n",
    "\n",
    "for child in mainframe.winfo_children(): \n",
    "    child.grid_configure(padx=30, pady=20)\n",
    "\n",
    "genetic_entry.focus()\n",
    "length_entry.focus()\n",
    "weigth_entry.focus()\n",
    "exercise_entry.focus()\n",
    "smoking_entry.focus()\n",
    "alcohol_entry.focus()\n",
    "sugar_entry.focus()\n",
    "root.bind(\"<Return>\", calculate)\n",
    "\n",
    "root.mainloop()"
   ]
  },
  {
   "cell_type": "code",
   "execution_count": 125,
   "id": "7705f3f6-152b-4baf-a164-51cca9f2fdb6",
   "metadata": {
    "tags": []
   },
   "outputs": [],
   "source": [
    "import tkinter\n",
    "from tkinter import *\n",
    "from tkinter import ttk\n",
    "from PIL import ImageTk, Image\n",
    "from tkinter import filedialog\n",
    "import os\n",
    "\n",
    "\n",
    "def calculate(*args):\n",
    "    try:\n",
    "        g1 = float(genetic.get())\n",
    "        ex1 = float(exercise.get())\n",
    "        sm1 = float(smoking.get())\n",
    "        al1 = float(alcohol.get())\n",
    "        su1 = float(sugar.get())\n",
    "        bmi1 = float(BMI.get())\n",
    "        lifespan_advis.set(int((regCoef[0] * g1)+(regCoef[1] * ex1)+(regCoef[2] * sm1)+(regCoef[3] * al1)+(regCoef[4] * su1)+(regCoef[5] * bmi1)+regInter))\n",
    "    except ValueError:\n",
    "        pass\n",
    "    \n",
    "root = Tk()\n",
    "root.title(\"lifespan\")\n",
    "root.resizable(width=True, height=True)\n",
    "   \n",
    "mainframe = ttk.Frame(root, padding=\"3 3 12 12\")\n",
    "mainframe.grid(column=0, row=0, sticky=(N, W, E, S))\n",
    "# root.columnconfigure(0, weight=1)\n",
    "# root.rowconfigure(0, weight=1)\n",
    "\n",
    "genetic = StringVar()\n",
    "genetic_entry = ttk.Entry(mainframe, width=13, textvariable=genetic)\n",
    "genetic_entry.grid(column=2, row=1, sticky=(W, E))\n",
    "\n",
    "exercise = StringVar()\n",
    "exercise_entry = ttk.Entry(mainframe, width=13, textvariable=exercise)\n",
    "exercise_entry.grid(column=2, row=2, sticky=(W, E))\n",
    "\n",
    "smoking = StringVar()\n",
    "smoking_entry = ttk.Entry(mainframe, width=13, textvariable=smoking)\n",
    "smoking_entry.grid(column=2, row=3, sticky=(W, E))\n",
    "\n",
    "alcohol = StringVar()\n",
    "alcohol_entry = ttk.Entry(mainframe, width=13, textvariable=alcohol)\n",
    "alcohol_entry.grid(column=2, row=4, sticky=(W, E))\n",
    "\n",
    "sugar = StringVar()\n",
    "sugar_entry = ttk.Entry(mainframe, width=13, textvariable=sugar)\n",
    "sugar_entry.grid(column=2, row=5, sticky=(W, E))\n",
    "\n",
    "BMI = StringVar()\n",
    "BMI_entry = ttk.Entry(mainframe, width=13, textvariable=BMI)\n",
    "BMI_entry.grid(column=2, row=6, sticky=(W, E))\n",
    "\n",
    "\n",
    "lifespan_advis = StringVar()\n",
    "ttk.Label(mainframe, textvariable=lifespan_advis).grid(column=2, row=7, sticky=(W, E))\n",
    "\n",
    "ttk.Button(mainframe, text=\"Chart\", command=calculate).grid(column=3, row=1, sticky=W)\n",
    "ttk.Button(mainframe, text=\"Chart\", command=calculate).grid(column=3, row=2, sticky=W)\n",
    "ttk.Button(mainframe, text=\"Chart\", command=calculate).grid(column=3, row=3, sticky=W)\n",
    "ttk.Button(mainframe, text=\"Chart\", command=calculate).grid(column=3, row=4, sticky=W)\n",
    "ttk.Button(mainframe, text=\"Chart\", command=calculate).grid(column=3, row=5, sticky=W)\n",
    "ttk.Button(mainframe, text=\"Calculate\", command=calculate).grid(column=7, row=4, sticky=W)\n",
    "\n",
    "ttk.Label(mainframe, text=\"your genetic\").grid(column=1, row=1, sticky=W)\n",
    "ttk.Label(mainframe, text=\"exercise per week\").grid(column=2, row=1, sticky=W)\n",
    "ttk.Label(mainframe, text=\"cigarettes per day\").grid(column=3, row=1, sticky=W)\n",
    "ttk.Label(mainframe, text=\"Glasses alcohol per day\").grid(column=4, row=1, sticky=W)\n",
    "ttk.Label(mainframe, text=\"spoons sugar per day\").grid(column=5, row=1, sticky=W)\n",
    "ttk.Label(mainframe, text=\"BMI\").grid(column=6, row=1, sticky=W)\n",
    "ttk.Label(mainframe, text=\"your lifespan prognosis\").grid(column=7, row=1, sticky=W)\n",
    "ttk.Label(mainframe, text=\"years\").grid(column=7, row=3, sticky=W)\n",
    "\n",
    "\n",
    "for child in mainframe.winfo_children(): \n",
    "    child.grid_configure(padx=30, pady=32)\n",
    "\n",
    "genetic_entry.focus()\n",
    "exercise_entry.focus()\n",
    "smoking_entry.focus()\n",
    "alcohol_entry.focus()\n",
    "sugar_entry.focus()\n",
    "BMI_entry.focus()\n",
    "root.bind(\"<Return>\", calculate)\n",
    "\n",
    "root.mainloop()"
   ]
  },
  {
   "cell_type": "code",
   "execution_count": 126,
   "id": "93f22c7e-eb85-449d-9bc8-fa0a39cd47fd",
   "metadata": {
    "tags": []
   },
   "outputs": [
    {
     "data": {
      "text/plain": [
       "80.24988575500001"
      ]
     },
     "execution_count": 126,
     "metadata": {},
     "output_type": "execute_result"
    }
   ],
   "source": [
    "(1.00283988*82.8)+ (0.80241889*4.7)+ (-0.2604397*11.8)+ (-0.22482835*1) +(-0.0798187*2.9)+ (-0.07311918*41.4)"
   ]
  },
  {
   "cell_type": "code",
   "execution_count": 127,
   "id": "549a834b-c978-4e8b-aa98-7378e69fd681",
   "metadata": {
    "tags": []
   },
   "outputs": [
    {
     "name": "stdin",
     "output_type": "stream",
     "text": [
      "please input your genetic:  1\n",
      "please input your BMI:  1\n",
      "please input your exercise:  1\n",
      "please input your smoking:  1\n",
      "please input your alcohol:  1\n",
      "please input your sugar:  1\n"
     ]
    },
    {
     "name": "stdout",
     "output_type": "stream",
     "text": [
      "1.16705284\n"
     ]
    }
   ],
   "source": [
    "g1 = float(input(\"please input your genetic: \"))\n",
    "bmi1 = float(input(\"please input your BMI: \"))\n",
    "ex1 = float(input(\"please input your exercise: \"))\n",
    "sm1 = float(input(\"please input your smoking: \"))\n",
    "al1 = float(input(\"please input your alcohol: \"))\n",
    "su1 = float(input(\"please input your sugar: \"))\n",
    "\n",
    " \n",
    "\n",
    "lifespan_advis = float( (1.00283988*g1)+(-0.07311918*bmi1)+(0.80241889*ex1)+(-0.2604397*sm1)+(-0.22482835*al1)+(-0.0798187*su1))\n",
    "print(lifespan_advis)"
   ]
  },
  {
   "cell_type": "code",
   "execution_count": 132,
   "id": "2ed6f9dc-e68f-40ba-b2c0-7fe61af964ea",
   "metadata": {},
   "outputs": [
    {
     "ename": "FileNotFoundError",
     "evalue": "[Errno 2] No such file or directory: '04_SKLearn.ipynb1'",
     "output_type": "error",
     "traceback": [
      "\u001b[0;31m---------------------------------------------------------------------------\u001b[0m",
      "\u001b[0;31mFileNotFoundError\u001b[0m                         Traceback (most recent call last)",
      "Cell \u001b[0;32mIn[132], line 6\u001b[0m\n\u001b[1;32m      2\u001b[0m \u001b[38;5;28;01mimport\u001b[39;00m \u001b[38;5;21;01mstat\u001b[39;00m\n\u001b[1;32m      5\u001b[0m f \u001b[38;5;241m=\u001b[39m Path(\u001b[38;5;124m\"\u001b[39m\u001b[38;5;124m./04_SKLearn.ipynb1\u001b[39m\u001b[38;5;124m\"\u001b[39m)\n\u001b[0;32m----> 6\u001b[0m f\u001b[38;5;241m.\u001b[39mchmod(\u001b[43mf\u001b[49m\u001b[38;5;241;43m.\u001b[39;49m\u001b[43mstat\u001b[49m\u001b[43m(\u001b[49m\u001b[43m)\u001b[49m\u001b[38;5;241m.\u001b[39mst_mode \u001b[38;5;241m|\u001b[39m convert\u001b[38;5;241m.\u001b[39mpy)\n",
      "File \u001b[0;32m~/miniconda3/envs/miw/lib/python3.10/pathlib.py:1097\u001b[0m, in \u001b[0;36mPath.stat\u001b[0;34m(self, follow_symlinks)\u001b[0m\n\u001b[1;32m   1092\u001b[0m \u001b[38;5;28;01mdef\u001b[39;00m \u001b[38;5;21mstat\u001b[39m(\u001b[38;5;28mself\u001b[39m, \u001b[38;5;241m*\u001b[39m, follow_symlinks\u001b[38;5;241m=\u001b[39m\u001b[38;5;28;01mTrue\u001b[39;00m):\n\u001b[1;32m   1093\u001b[0m \u001b[38;5;250m    \u001b[39m\u001b[38;5;124;03m\"\"\"\u001b[39;00m\n\u001b[1;32m   1094\u001b[0m \u001b[38;5;124;03m    Return the result of the stat() system call on this path, like\u001b[39;00m\n\u001b[1;32m   1095\u001b[0m \u001b[38;5;124;03m    os.stat() does.\u001b[39;00m\n\u001b[1;32m   1096\u001b[0m \u001b[38;5;124;03m    \"\"\"\u001b[39;00m\n\u001b[0;32m-> 1097\u001b[0m     \u001b[38;5;28;01mreturn\u001b[39;00m \u001b[38;5;28;43mself\u001b[39;49m\u001b[38;5;241;43m.\u001b[39;49m\u001b[43m_accessor\u001b[49m\u001b[38;5;241;43m.\u001b[39;49m\u001b[43mstat\u001b[49m\u001b[43m(\u001b[49m\u001b[38;5;28;43mself\u001b[39;49m\u001b[43m,\u001b[49m\u001b[43m \u001b[49m\u001b[43mfollow_symlinks\u001b[49m\u001b[38;5;241;43m=\u001b[39;49m\u001b[43mfollow_symlinks\u001b[49m\u001b[43m)\u001b[49m\n",
      "\u001b[0;31mFileNotFoundError\u001b[0m: [Errno 2] No such file or directory: '04_SKLearn.ipynb1'"
     ]
    }
   ],
   "source": [
    "from pathlib import Path\n",
    "import stat\n",
    "\n",
    "\n",
    "f = Path(\"./04_SKLearn.ipynb1\")\n",
    "f.chmod(f.stat().st_mode | convert.py)"
   ]
  },
  {
   "cell_type": "code",
   "execution_count": null,
   "id": "386686d0-e594-4ffa-a545-d48e448fbef0",
   "metadata": {},
   "outputs": [],
   "source": []
  }
 ],
 "metadata": {
  "kernelspec": {
   "display_name": "Python 3 (ipykernel)",
   "language": "python",
   "name": "python3"
  },
  "language_info": {
   "codemirror_mode": {
    "name": "ipython",
    "version": 3
   },
   "file_extension": ".py",
   "mimetype": "text/x-python",
   "name": "python",
   "nbconvert_exporter": "python",
   "pygments_lexer": "ipython3",
   "version": "3.10.9"
  }
 },
 "nbformat": 4,
 "nbformat_minor": 5
}
