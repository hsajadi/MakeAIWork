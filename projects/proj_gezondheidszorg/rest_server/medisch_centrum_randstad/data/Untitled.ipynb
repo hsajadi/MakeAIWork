{
 "cells": [
  {
   "cell_type": "code",
   "execution_count": 11,
   "id": "c9c37f88-fa12-4c64-bb74-e3c1d93568da",
   "metadata": {
    "tags": []
   },
   "outputs": [],
   "source": [
    "import pandas as pd\n",
    "import sqlite3\n",
    "import json"
   ]
  },
  {
   "cell_type": "code",
   "execution_count": 13,
   "id": "ab921c7c-43f6-4051-be0d-e86c1d70f259",
   "metadata": {},
   "outputs": [],
   "source": [
    "path_to_file = './rest_api_netlify.csv'\n",
    "health = pd.read_csv(path_to_file)"
   ]
  },
  {
   "cell_type": "code",
   "execution_count": 14,
   "id": "a493ab41-fdc7-41f4-8f85-1b1342bc6caf",
   "metadata": {
    "tags": []
   },
   "outputs": [
    {
     "data": {
      "text/plain": [
       "(8192, 9)"
      ]
     },
     "execution_count": 14,
     "metadata": {},
     "output_type": "execute_result"
    }
   ],
   "source": [
    "health.shape"
   ]
  },
  {
   "cell_type": "code",
   "execution_count": 15,
   "id": "0f178a03-f880-4390-914a-4611b8989c0a",
   "metadata": {
    "tags": []
   },
   "outputs": [
    {
     "data": {
      "text/plain": [
       "Index(['id', 'genetic', 'length', 'mass', 'exercise', 'smoking', 'alcohol',\n",
       "       'sugar', 'lifespan'],\n",
       "      dtype='object')"
      ]
     },
     "execution_count": 15,
     "metadata": {},
     "output_type": "execute_result"
    }
   ],
   "source": [
    "health.columns"
   ]
  },
  {
   "cell_type": "code",
   "execution_count": 18,
   "id": "2de2323a-32f2-443a-8225-ced493acb2bc",
   "metadata": {
    "tags": []
   },
   "outputs": [
    {
     "data": {
      "text/plain": [
       "<Axes: >"
      ]
     },
     "execution_count": 18,
     "metadata": {},
     "output_type": "execute_result"
    },
    {
     "data": {
      "image/png": "[encoded data removed]",
      "text/plain": [
       "<Figure size 640x480 with 1 Axes>"
      ]
     },
     "metadata": {},
     "output_type": "display_data"
    }
   ],
   "source": [
    "health['smoking'].hist()"
   ]
  },
  {
   "cell_type": "code",
   "execution_count": 17,
   "id": "180703ea-485c-42cd-86ae-45546df6918d",
   "metadata": {
    "tags": []
   },
   "outputs": [
    {
     "data": {
      "text/html": [
       "<div>\n",
       "<style scoped>\n",
       "    .dataframe tbody tr th:only-of-type {\n",
       "        vertical-align: middle;\n",
       "    }\n",
       "\n",
       "    .dataframe tbody tr th {\n",
       "        vertical-align: top;\n",
       "    }\n",
       "\n",
       "    .dataframe thead th {\n",
       "        text-align: right;\n",
       "    }\n",
       "</style>\n",
       "<table border=\"1\" class=\"dataframe\">\n",
       "  <thead>\n",
       "    <tr style=\"text-align: right;\">\n",
       "      <th></th>\n",
       "      <th>count</th>\n",
       "      <th>mean</th>\n",
       "      <th>std</th>\n",
       "      <th>min</th>\n",
       "      <th>25%</th>\n",
       "      <th>50%</th>\n",
       "      <th>75%</th>\n",
       "      <th>max</th>\n",
       "    </tr>\n",
       "  </thead>\n",
       "  <tbody>\n",
       "    <tr>\n",
       "      <th>id</th>\n",
       "      <td>8192.0</td>\n",
       "      <td>4096.500000</td>\n",
       "      <td>2364.971036</td>\n",
       "      <td>1.0</td>\n",
       "      <td>2048.75</td>\n",
       "      <td>4096.5</td>\n",
       "      <td>6144.25</td>\n",
       "      <td>8192.0</td>\n",
       "    </tr>\n",
       "    <tr>\n",
       "      <th>genetic</th>\n",
       "      <td>8191.0</td>\n",
       "      <td>79.967770</td>\n",
       "      <td>1.634992</td>\n",
       "      <td>76.0</td>\n",
       "      <td>79.00</td>\n",
       "      <td>80.0</td>\n",
       "      <td>81.00</td>\n",
       "      <td>84.0</td>\n",
       "    </tr>\n",
       "    <tr>\n",
       "      <th>length</th>\n",
       "      <td>8190.0</td>\n",
       "      <td>183.642735</td>\n",
       "      <td>12.600441</td>\n",
       "      <td>154.0</td>\n",
       "      <td>174.00</td>\n",
       "      <td>183.0</td>\n",
       "      <td>193.00</td>\n",
       "      <td>214.0</td>\n",
       "    </tr>\n",
       "    <tr>\n",
       "      <th>mass</th>\n",
       "      <td>8191.0</td>\n",
       "      <td>79.794286</td>\n",
       "      <td>12.076801</td>\n",
       "      <td>60.0</td>\n",
       "      <td>70.00</td>\n",
       "      <td>79.0</td>\n",
       "      <td>88.00</td>\n",
       "      <td>112.0</td>\n",
       "    </tr>\n",
       "    <tr>\n",
       "      <th>exercise</th>\n",
       "      <td>8191.0</td>\n",
       "      <td>1.617141</td>\n",
       "      <td>0.830975</td>\n",
       "      <td>0.0</td>\n",
       "      <td>1.00</td>\n",
       "      <td>1.0</td>\n",
       "      <td>2.00</td>\n",
       "      <td>4.0</td>\n",
       "    </tr>\n",
       "    <tr>\n",
       "      <th>smoking</th>\n",
       "      <td>8191.0</td>\n",
       "      <td>9.773776</td>\n",
       "      <td>6.967164</td>\n",
       "      <td>0.0</td>\n",
       "      <td>3.00</td>\n",
       "      <td>10.0</td>\n",
       "      <td>16.00</td>\n",
       "      <td>22.0</td>\n",
       "    </tr>\n",
       "    <tr>\n",
       "      <th>alcohol</th>\n",
       "      <td>8191.0</td>\n",
       "      <td>5.748260</td>\n",
       "      <td>2.664489</td>\n",
       "      <td>0.0</td>\n",
       "      <td>4.00</td>\n",
       "      <td>6.0</td>\n",
       "      <td>8.00</td>\n",
       "      <td>10.0</td>\n",
       "    </tr>\n",
       "    <tr>\n",
       "      <th>sugar</th>\n",
       "      <td>8192.0</td>\n",
       "      <td>2.423340</td>\n",
       "      <td>0.950095</td>\n",
       "      <td>1.0</td>\n",
       "      <td>2.00</td>\n",
       "      <td>2.0</td>\n",
       "      <td>3.00</td>\n",
       "      <td>5.0</td>\n",
       "    </tr>\n",
       "    <tr>\n",
       "      <th>lifespan</th>\n",
       "      <td>8192.0</td>\n",
       "      <td>76.096069</td>\n",
       "      <td>10.918167</td>\n",
       "      <td>40.0</td>\n",
       "      <td>68.00</td>\n",
       "      <td>76.0</td>\n",
       "      <td>83.00</td>\n",
       "      <td>113.0</td>\n",
       "    </tr>\n",
       "  </tbody>\n",
       "</table>\n",
       "</div>"
      ],
      "text/plain": [
       "           count         mean          std    min      25%     50%      75%  \\\n",
       "id        8192.0  4096.500000  2364.971036    1.0  2048.75  4096.5  6144.25   \n",
       "genetic   8191.0    79.967770     1.634992   76.0    79.00    80.0    81.00   \n",
       "length    8190.0   183.642735    12.600441  154.0   174.00   183.0   193.00   \n",
       "mass      8191.0    79.794286    12.076801   60.0    70.00    79.0    88.00   \n",
       "exercise  8191.0     1.617141     0.830975    0.0     1.00     1.0     2.00   \n",
       "smoking   8191.0     9.773776     6.967164    0.0     3.00    10.0    16.00   \n",
       "alcohol   8191.0     5.748260     2.664489    0.0     4.00     6.0     8.00   \n",
       "sugar     8192.0     2.423340     0.950095    1.0     2.00     2.0     3.00   \n",
       "lifespan  8192.0    76.096069    10.918167   40.0    68.00    76.0    83.00   \n",
       "\n",
       "             max  \n",
       "id        8192.0  \n",
       "genetic     84.0  \n",
       "length     214.0  \n",
       "mass       112.0  \n",
       "exercise     4.0  \n",
       "smoking     22.0  \n",
       "alcohol     10.0  \n",
       "sugar        5.0  \n",
       "lifespan   113.0  "
      ]
     },
     "execution_count": 17,
     "metadata": {},
     "output_type": "execute_result"
    }
   ],
   "source": [
    "health.describe().transpose()"
   ]
  },
  {
   "cell_type": "code",
   "execution_count": null,
   "id": "3c69cc42-6833-45ba-94cb-e3c264bf2fac",
   "metadata": {},
   "outputs": [],
   "source": [
    "SELECT * FROM rest_api_netlify\n",
    "where genetic == lifespan\n"
   ]
  }
 ],
 "metadata": {
  "kernelspec": {
   "display_name": "Python 3 (ipykernel)",
   "language": "python",
   "name": "python3"
  },
  "language_info": {
   "codemirror_mode": {
    "name": "ipython",
    "version": 3
   },
   "file_extension": ".py",
   "mimetype": "text/x-python",
   "name": "python",
   "nbconvert_exporter": "python",
   "pygments_lexer": "ipython3",
   "version": "3.10.9"
  }
 },
 "nbformat": 4,
 "nbformat_minor": 5
}
