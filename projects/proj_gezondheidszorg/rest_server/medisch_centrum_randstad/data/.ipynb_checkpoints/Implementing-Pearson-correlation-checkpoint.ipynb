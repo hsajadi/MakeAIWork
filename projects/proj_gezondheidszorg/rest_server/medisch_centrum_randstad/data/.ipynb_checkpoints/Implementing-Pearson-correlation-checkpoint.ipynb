{
 "cells": [
  {
   "cell_type": "markdown",
   "id": "d4334e7a",
   "metadata": {},
   "source": [
    "# Bron\n",
    "\n",
    "https://en.wikipedia.org/wiki/Correlation"
   ]
  },
  {
   "cell_type": "code",
   "execution_count": 1,
   "id": "ff9ebb2d",
   "metadata": {
    "tags": []
   },
   "outputs": [],
   "source": [
    "import numpy as np\n",
    "import pandas as pd\n",
    "import math"
   ]
  },
  {
   "cell_type": "code",
   "execution_count": 2,
   "id": "d0490f02",
   "metadata": {
    "tags": []
   },
   "outputs": [],
   "source": [
    "# According to the formula we need:\n",
    "\n",
    "# 1. Compute the average of X (avgX)\n",
    "# 2. Compute the average of Y (avgY)\n",
    "# 3. Compute the variation of X (stdX)\n",
    "# 4. Compute the variation of Y (stdY)\n",
    "\n",
    "# Once we have computed the ingredients above\n",
    "# we must compute the sum of (Xi - avgX) * (Yi - avgY) and divide by stdX * stdY"
   ]
  },
  {
   "cell_type": "code",
   "execution_count": 4,
   "id": "fdd9c6a7",
   "metadata": {
    "tags": []
   },
   "outputs": [],
   "source": [
    "# Let's define our linear dataset\n",
    "X = [0, 1, 2, 3, 4]\n",
    "Y = [1, 2, 3, 4, 5]"
   ]
  },
  {
   "cell_type": "code",
   "execution_count": 5,
   "id": "73ccfb49-4450-4eee-adb6-1ba6ff9c761c",
   "metadata": {
    "tags": []
   },
   "outputs": [],
   "source": [
    "def average(N):\n",
    "    total = 0\n",
    "    for n in N:\n",
    "        total += n\n",
    "    return total / len(N)  "
   ]
  },
  {
   "cell_type": "code",
   "execution_count": 7,
   "id": "9acff2f8",
   "metadata": {
    "tags": []
   },
   "outputs": [
    {
     "data": {
      "text/plain": [
       "2.0"
      ]
     },
     "metadata": {},
     "output_type": "display_data"
    },
    {
     "data": {
      "text/plain": [
       "3.0"
      ]
     },
     "metadata": {},
     "output_type": "display_data"
    }
   ],
   "source": [
    "# 1. Compute the average of X (avgX)\n",
    "avgX = average(X)\n",
    "\n",
    "display(avgX)\n",
    "\n",
    "# 2. Compute the average of Y (avgY)\n",
    "avgY = average(Y)\n",
    "\n",
    "display(avgY)\n"
   ]
  },
  {
   "cell_type": "code",
   "execution_count": 14,
   "id": "6d96f9ee-cce2-4055-8979-f51ef47af620",
   "metadata": {
    "tags": []
   },
   "outputs": [],
   "source": [
    "def variation1(N, avgN):\n",
    "    total = 0\n",
    "    for n in N:\n",
    "        total += (n - avgN)**2\n",
    "    return math.squrt(total / len(N))\n",
    "\n",
    "def variation2(N):\n",
    "    total = 0\n",
    "    avgN = average(N)\n",
    "    for n in N:\n",
    "        total += (n - avgN)**2\n",
    "    return math.squrt(total / len(N))\n"
   ]
  },
  {
   "cell_type": "code",
   "execution_count": 15,
   "id": "6028b2a9",
   "metadata": {
    "tags": []
   },
   "outputs": [
    {
     "ename": "AttributeError",
     "evalue": "module 'math' has no attribute 'squrt'",
     "output_type": "error",
     "traceback": [
      "\u001b[0;31m---------------------------------------------------------------------------\u001b[0m",
      "\u001b[0;31mAttributeError\u001b[0m                            Traceback (most recent call last)",
      "Cell \u001b[0;32mIn[15], line 2\u001b[0m\n\u001b[1;32m      1\u001b[0m \u001b[38;5;66;03m# 3. Compute the variation of X (stdX)\u001b[39;00m\n\u001b[0;32m----> 2\u001b[0m stdX \u001b[38;5;241m=\u001b[39m \u001b[43mvariation1\u001b[49m\u001b[43m(\u001b[49m\u001b[43mX\u001b[49m\u001b[43m,\u001b[49m\u001b[43m \u001b[49m\u001b[43mavgX\u001b[49m\u001b[43m)\u001b[49m\n\u001b[1;32m      4\u001b[0m display(stdX)\n\u001b[1;32m      5\u001b[0m \u001b[38;5;66;03m# 4. Compute the variation of Y (stdY)\u001b[39;00m\n\u001b[1;32m      6\u001b[0m \u001b[38;5;66;03m# ...\u001b[39;00m\n",
      "Cell \u001b[0;32mIn[14], line 5\u001b[0m, in \u001b[0;36mvariation1\u001b[0;34m(N, avgN)\u001b[0m\n\u001b[1;32m      3\u001b[0m \u001b[38;5;28;01mfor\u001b[39;00m n \u001b[38;5;129;01min\u001b[39;00m N:\n\u001b[1;32m      4\u001b[0m     total \u001b[38;5;241m+\u001b[39m\u001b[38;5;241m=\u001b[39m (n \u001b[38;5;241m-\u001b[39m avgN)\u001b[38;5;241m*\u001b[39m\u001b[38;5;241m*\u001b[39m\u001b[38;5;241m2\u001b[39m\n\u001b[0;32m----> 5\u001b[0m \u001b[38;5;28;01mreturn\u001b[39;00m \u001b[43mmath\u001b[49m\u001b[38;5;241;43m.\u001b[39;49m\u001b[43msqurt\u001b[49m(total \u001b[38;5;241m/\u001b[39m \u001b[38;5;28mlen\u001b[39m(N))\n",
      "\u001b[0;31mAttributeError\u001b[0m: module 'math' has no attribute 'squrt'"
     ]
    }
   ],
   "source": [
    "# 3. Compute the variation of X (stdX)\n",
    "stdX = variation1(X, avgX)\n",
    "\n",
    "display(stdX)\n",
    "# 4. Compute the variation of Y (stdY)\n",
    "# ..."
   ]
  },
  {
   "cell_type": "code",
   "execution_count": null,
   "id": "3d2a24f1",
   "metadata": {},
   "outputs": [],
   "source": [
    "# Once we have computed the ingredients above\n",
    "# we must compute the sum of (Xi - avgX) * (Yi - avgY) and divide by stdX * stdY\n",
    "# ..."
   ]
  },
  {
   "cell_type": "code",
   "execution_count": null,
   "id": "2ff0774b",
   "metadata": {},
   "outputs": [],
   "source": [
    "# Let's define the pearson correlation as a function\n",
    "# ..."
   ]
  },
  {
   "cell_type": "code",
   "execution_count": null,
   "id": "ce3d731f",
   "metadata": {},
   "outputs": [],
   "source": [
    "# Let's use the dataset of project 1\n",
    "# ..."
   ]
  },
  {
   "cell_type": "code",
   "execution_count": null,
   "id": "624b17b7",
   "metadata": {},
   "outputs": [],
   "source": [
    "# Look at the correlations\n",
    "# ..."
   ]
  },
  {
   "cell_type": "code",
   "execution_count": null,
   "id": "f413b160",
   "metadata": {},
   "outputs": [],
   "source": [
    "# Let's check\n",
    "# ..."
   ]
  },
  {
   "cell_type": "code",
   "execution_count": null,
   "id": "b1831cd8",
   "metadata": {},
   "outputs": [],
   "source": [
    "# Let's double check\n",
    "# ..."
   ]
  }
 ],
 "metadata": {
  "kernelspec": {
   "display_name": "Python 3 (ipykernel)",
   "language": "python",
   "name": "python3"
  },
  "language_info": {
   "codemirror_mode": {
    "name": "ipython",
    "version": 3
   },
   "file_extension": ".py",
   "mimetype": "text/x-python",
   "name": "python",
   "nbconvert_exporter": "python",
   "pygments_lexer": "ipython3",
   "version": "3.10.9"
  }
 },
 "nbformat": 4,
 "nbformat_minor": 5
}
