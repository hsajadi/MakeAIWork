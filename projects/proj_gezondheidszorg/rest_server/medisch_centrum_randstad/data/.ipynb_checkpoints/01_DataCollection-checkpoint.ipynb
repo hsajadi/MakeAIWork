{
 "cells": [
  {
   "cell_type": "markdown",
   "id": "f9b4d485-2c23-4141-af7a-a268f83b3802",
   "metadata": {},
   "source": [
    "<H1><B>01 Data Collection</B></H1>"
   ]
  },
  {
   "cell_type": "markdown",
   "id": "2d5752bf-4d92-490a-b898-eede59202cdc",
   "metadata": {
    "tags": []
   },
   "source": [
    "<H3><B>Step 1</B>&nbsp;&nbsp;&nbsp;Connect to website, find data</H3>\n",
    "Inormation given by professor Jeroen: Op een fictieve site van het Medisch Centrum Randstad vinden jullie de data van gegenereerde\n",
    "gegevens betreffende levensstijl en levensverwachting. Aan jullie de taak om deze data te scrapen.<br>&nbsp; <i>This paragraph still needs attention and explanation how we obtained data in which way.</i>"
   ]
  },
  {
   "cell_type": "markdown",
   "id": "b070df6f-bb8a-4cc0-bbb5-31d3ad7e3cc4",
   "metadata": {
    "tags": []
   },
   "source": [
    "<H3><B>Step 2</B>&nbsp;&nbsp;&nbsp;Save DATA to suitable location.</H3><i>With advice from Jeroen we understood temporary data is stored locally on your drive after analyzing DataFrame online.</i><br>Find temporary DATA in '\\Project\\rest_server\\medisch_centrum_randstad\\db.sqlite3' (depending on your USER location).<br>&nbsp;"
   ]
  },
  {
   "cell_type": "markdown",
   "id": "06ee93b8-146e-4efd-9de7-c9790c18f32f",
   "metadata": {},
   "source": [
    "<H3><B>Step 3</B>&nbsp;&nbsp;&nbsp;Import data into SQLite and EXPORT DATA as CSV</H3>\n",
    "Import <B>scraped data (file 'db.sqlite3')</B> into DB Browser for SQLite. <br>Find data from 'Tables/rest_api_netlify' and EXPORT DATA as CSV.<br>&nbsp;"
   ]
  },
  {
   "cell_type": "code",
   "execution_count": 1,
   "id": "b060dba0-aa3b-4fa6-993b-c0464350650e",
   "metadata": {
    "tags": []
   },
   "outputs": [],
   "source": [
    "from PIL import Image\n",
    "import csv\n",
    "import json\n",
    "import os\n",
    "\n",
    "import pandas as pd\n",
    "import sqlite3\n",
    "\n",
    "import matplotlib.pyplot as plt\n",
    "import numpy as np\n",
    "import scipy as cp"
   ]
  },
  {
   "cell_type": "code",
   "execution_count": 9,
   "id": "8b112690-3ec4-473d-a305-fafd2dd89745",
   "metadata": {
    "tags": []
   },
   "outputs": [
    {
     "data": {
      "text/html": [
       "<div>\n",
       "<style scoped>\n",
       "    .dataframe tbody tr th:only-of-type {\n",
       "        vertical-align: middle;\n",
       "    }\n",
       "\n",
       "    .dataframe tbody tr th {\n",
       "        vertical-align: top;\n",
       "    }\n",
       "\n",
       "    .dataframe thead th {\n",
       "        text-align: right;\n",
       "    }\n",
       "</style>\n",
       "<table border=\"1\" class=\"dataframe\">\n",
       "  <thead>\n",
       "    <tr style=\"text-align: right;\">\n",
       "      <th></th>\n",
       "      <th>id</th>\n",
       "      <th>genetic</th>\n",
       "      <th>length</th>\n",
       "      <th>mass</th>\n",
       "      <th>exercise</th>\n",
       "      <th>smoking</th>\n",
       "      <th>alcohol</th>\n",
       "      <th>sugar</th>\n",
       "      <th>lifespan</th>\n",
       "    </tr>\n",
       "  </thead>\n",
       "  <tbody>\n",
       "    <tr>\n",
       "      <th>0</th>\n",
       "      <td>1</td>\n",
       "      <td>84.0</td>\n",
       "      <td>180.0</td>\n",
       "      <td>90.0</td>\n",
       "      <td>2.0</td>\n",
       "      <td>9.0</td>\n",
       "      <td>1.0</td>\n",
       "      <td>2</td>\n",
       "      <td>86</td>\n",
       "    </tr>\n",
       "    <tr>\n",
       "      <th>1</th>\n",
       "      <td>2</td>\n",
       "      <td>84.0</td>\n",
       "      <td>204.0</td>\n",
       "      <td>79.0</td>\n",
       "      <td>3.0</td>\n",
       "      <td>2.0</td>\n",
       "      <td>7.0</td>\n",
       "      <td>3</td>\n",
       "      <td>100</td>\n",
       "    </tr>\n",
       "    <tr>\n",
       "      <th>2</th>\n",
       "      <td>3</td>\n",
       "      <td>84.0</td>\n",
       "      <td>174.0</td>\n",
       "      <td>74.0</td>\n",
       "      <td>3.0</td>\n",
       "      <td>20.0</td>\n",
       "      <td>3.0</td>\n",
       "      <td>2</td>\n",
       "      <td>87</td>\n",
       "    </tr>\n",
       "    <tr>\n",
       "      <th>3</th>\n",
       "      <td>4</td>\n",
       "      <td>84.0</td>\n",
       "      <td>187.0</td>\n",
       "      <td>78.0</td>\n",
       "      <td>2.0</td>\n",
       "      <td>6.0</td>\n",
       "      <td>5.0</td>\n",
       "      <td>3</td>\n",
       "      <td>91</td>\n",
       "    </tr>\n",
       "    <tr>\n",
       "      <th>4</th>\n",
       "      <td>5</td>\n",
       "      <td>84.0</td>\n",
       "      <td>187.0</td>\n",
       "      <td>89.0</td>\n",
       "      <td>2.0</td>\n",
       "      <td>12.0</td>\n",
       "      <td>0.0</td>\n",
       "      <td>2</td>\n",
       "      <td>83</td>\n",
       "    </tr>\n",
       "    <tr>\n",
       "      <th>...</th>\n",
       "      <td>...</td>\n",
       "      <td>...</td>\n",
       "      <td>...</td>\n",
       "      <td>...</td>\n",
       "      <td>...</td>\n",
       "      <td>...</td>\n",
       "      <td>...</td>\n",
       "      <td>...</td>\n",
       "      <td>...</td>\n",
       "    </tr>\n",
       "    <tr>\n",
       "      <th>8187</th>\n",
       "      <td>8188</td>\n",
       "      <td>82.0</td>\n",
       "      <td>185.0</td>\n",
       "      <td>67.0</td>\n",
       "      <td>3.0</td>\n",
       "      <td>11.0</td>\n",
       "      <td>8.0</td>\n",
       "      <td>2</td>\n",
       "      <td>90</td>\n",
       "    </tr>\n",
       "    <tr>\n",
       "      <th>8188</th>\n",
       "      <td>8189</td>\n",
       "      <td>82.0</td>\n",
       "      <td>183.0</td>\n",
       "      <td>72.0</td>\n",
       "      <td>2.0</td>\n",
       "      <td>1.0</td>\n",
       "      <td>5.0</td>\n",
       "      <td>4</td>\n",
       "      <td>88</td>\n",
       "    </tr>\n",
       "    <tr>\n",
       "      <th>8189</th>\n",
       "      <td>8190</td>\n",
       "      <td>83.0</td>\n",
       "      <td>192.0</td>\n",
       "      <td>92.0</td>\n",
       "      <td>1.0</td>\n",
       "      <td>22.0</td>\n",
       "      <td>2.0</td>\n",
       "      <td>4</td>\n",
       "      <td>62</td>\n",
       "    </tr>\n",
       "    <tr>\n",
       "      <th>8190</th>\n",
       "      <td>8191</td>\n",
       "      <td>81.0</td>\n",
       "      <td>175.0</td>\n",
       "      <td>60.0</td>\n",
       "      <td>3.0</td>\n",
       "      <td>13.0</td>\n",
       "      <td>7.0</td>\n",
       "      <td>2</td>\n",
       "      <td>93</td>\n",
       "    </tr>\n",
       "    <tr>\n",
       "      <th>8191</th>\n",
       "      <td>8192</td>\n",
       "      <td>83.0</td>\n",
       "      <td>204.0</td>\n",
       "      <td>76.0</td>\n",
       "      <td>3.0</td>\n",
       "      <td>8.0</td>\n",
       "      <td>8.0</td>\n",
       "      <td>1</td>\n",
       "      <td>96</td>\n",
       "    </tr>\n",
       "  </tbody>\n",
       "</table>\n",
       "<p>8192 rows × 9 columns</p>\n",
       "</div>"
      ],
      "text/plain": [
       "        id  genetic  length  mass  exercise  smoking  alcohol  sugar  lifespan\n",
       "0        1     84.0   180.0  90.0       2.0      9.0      1.0      2        86\n",
       "1        2     84.0   204.0  79.0       3.0      2.0      7.0      3       100\n",
       "2        3     84.0   174.0  74.0       3.0     20.0      3.0      2        87\n",
       "3        4     84.0   187.0  78.0       2.0      6.0      5.0      3        91\n",
       "4        5     84.0   187.0  89.0       2.0     12.0      0.0      2        83\n",
       "...    ...      ...     ...   ...       ...      ...      ...    ...       ...\n",
       "8187  8188     82.0   185.0  67.0       3.0     11.0      8.0      2        90\n",
       "8188  8189     82.0   183.0  72.0       2.0      1.0      5.0      4        88\n",
       "8189  8190     83.0   192.0  92.0       1.0     22.0      2.0      4        62\n",
       "8190  8191     81.0   175.0  60.0       3.0     13.0      7.0      2        93\n",
       "8191  8192     83.0   204.0  76.0       3.0      8.0      8.0      1        96\n",
       "\n",
       "[8192 rows x 9 columns]"
      ]
     },
     "metadata": {},
     "output_type": "display_data"
    },
    {
     "data": {
      "text/plain": [
       "0       84.0\n",
       "1       84.0\n",
       "2       84.0\n",
       "3       84.0\n",
       "4       84.0\n",
       "        ... \n",
       "8187    82.0\n",
       "8188    82.0\n",
       "8189    83.0\n",
       "8190    81.0\n",
       "8191    83.0\n",
       "Name: genetic, Length: 8192, dtype: float64"
      ]
     },
     "metadata": {},
     "output_type": "display_data"
    }
   ],
   "source": [
    "import pandas as pd\n",
    "# df = pd.DataFrame()\n",
    "# Data inlezen\n",
    "df = pd.read_csv('csv/medisch_centrum_randstad.csv')\n",
    "display(df)\n",
    "\n",
    "df.columns[1]\n",
    "# display(df['genetic'])   # Age is variable and usable.\n",
    "display(df.genetic)      # 'Hard-Coded: short version of previous. Same output.\n",
    "# type(df['genetic'])        # pandas.core.series.Series\n",
    "\n",
    "# NOTE: This DataFrame uses 'genetic' for 'age'."
   ]
  },
  {
   "cell_type": "code",
   "execution_count": 2,
   "id": "a432ebc2-2335-4288-bffc-12578e985e9d",
   "metadata": {
    "tags": []
   },
   "outputs": [
    {
     "ename": "NameError",
     "evalue": "name 'df' is not defined",
     "output_type": "error",
     "traceback": [
      "\u001b[0;31m---------------------------------------------------------------------------\u001b[0m",
      "\u001b[0;31mNameError\u001b[0m                                 Traceback (most recent call last)",
      "Cell \u001b[0;32mIn[2], line 1\u001b[0m\n\u001b[0;32m----> 1\u001b[0m BMI \u001b[38;5;241m=\u001b[39m \u001b[38;5;28mint\u001b[39m(\u001b[43mdf\u001b[49m\u001b[38;5;241m.\u001b[39mmass\u001b[38;5;241m/\u001b[39m(df\u001b[38;5;241m.\u001b[39mlength\u001b[38;5;241m/\u001b[39m\u001b[38;5;241m100\u001b[39m)\u001b[38;5;241m*\u001b[39m\u001b[38;5;241m*\u001b[39m\u001b[38;5;241m2\u001b[39m)\n",
      "\u001b[0;31mNameError\u001b[0m: name 'df' is not defined"
     ]
    }
   ],
   "source": [
    "BMI = int(df.mass/(df.length/100)**2)"
   ]
  },
  {
   "cell_type": "markdown",
   "id": "378e3e4b-0e47-48b4-b99b-163138a83b65",
   "metadata": {},
   "source": [
    "&nbsp;<br><H3><B>Step 3</B>   Think about process to automate the above.</H3><i>This paragraph still needs attention and explanation.</i>"
   ]
  }
 ],
 "metadata": {
  "kernelspec": {
   "display_name": "Python 3 (ipykernel)",
   "language": "python",
   "name": "python3"
  },
  "language_info": {
   "codemirror_mode": {
    "name": "ipython",
    "version": 3
   },
   "file_extension": ".py",
   "mimetype": "text/x-python",
   "name": "python",
   "nbconvert_exporter": "python",
   "pygments_lexer": "ipython3",
   "version": "3.10.9"
  }
 },
 "nbformat": 4,
 "nbformat_minor": 5
}
