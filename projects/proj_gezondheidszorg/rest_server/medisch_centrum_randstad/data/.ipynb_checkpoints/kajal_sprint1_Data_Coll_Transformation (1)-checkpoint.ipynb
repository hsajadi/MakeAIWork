{
 "cells": [
  {
   "cell_type": "code",
   "execution_count": null,
   "id": "dbc2c602-e0cb-46f2-a917-87cc76729e57",
   "metadata": {},
   "outputs": [],
   "source": [
    "import os\n",
    "from matplotlib import pyplot as plt\n",
    "from matplotlib_venn import venn2, venn3\n",
    "from PIL import Image\n",
    "import pandas as pd\n",
    "import sqlite3\n",
    "import json\n",
    "import numpy as np\n",
    "import seaborn as sns\n",
    "import statsmodels.api as sm\n",
    "import statsmodels.formula.api as smf"
   ]
  },
  {
   "cell_type": "code",
   "execution_count": null,
   "id": "4f23993e-01a9-44fa-86d3-8c4d64d26b9c",
   "metadata": {},
   "outputs": [],
   "source": [
    "!pwd\n",
    "patient_DF = pd.read_csv('../Project1/staticdata.csv',',')\n",
    "display(patient_DF)"
   ]
  },
  {
   "cell_type": "code",
   "execution_count": null,
   "id": "e006d8a1-c446-4f49-84cd-39510affc87d",
   "metadata": {},
   "outputs": [],
   "source": [
    "patient_DF.info()"
   ]
  },
  {
   "cell_type": "code",
   "execution_count": null,
   "id": "c0a12310-2606-4ce8-9a2f-dd2944824c53",
   "metadata": {},
   "outputs": [],
   "source": [
    "patient_DF = patient_DF.dropna()\n",
    "\n",
    "patient_DF.info()\n",
    "patient_data_sort=patient_DF.transform(np.sort)\n",
    "display(patient_data_sort)\n",
    "\n"
   ]
  },
  {
   "cell_type": "code",
   "execution_count": null,
   "id": "342a5736-2f10-4ede-910a-c39510f44635",
   "metadata": {},
   "outputs": [],
   "source": [
    "#To find duplicate values\n",
    "\n",
    "patient_DF = patient_DF[patient_DF.duplicated( keep =False)]\n",
    "display(patient_DF)"
   ]
  },
  {
   "cell_type": "code",
   "execution_count": null,
   "id": "c6134f02-69fb-4892-85d1-265ada2f4fa0",
   "metadata": {},
   "outputs": [],
   "source": [
    "patient_DF1 = patient_DF.apply(pd.to_numeric, errors='coerce')\n",
    "display(patient_DF1)\n",
    "#patient_DF.to_csv('cleaned_data.csv',header = True, index =False)\n",
    "patient_DF2 = patient_DF1[patient_DF1.select_dtypes(include=[np.number]).ge(0).all(1)]\n",
    "display(patient_DF2)\n",
    "patient_DF2.to_csv('cleaned_data.csv',header = True, index =False)"
   ]
  },
  {
   "cell_type": "code",
   "execution_count": null,
   "id": "be305b13-1136-4277-9127-6bf489e3d715",
   "metadata": {},
   "outputs": [],
   "source": [
    "patient_DF2 = pd.read_csv('../Project1/cleaned_data.csv',',')\n",
    "display(patient_DF2)"
   ]
  },
  {
   "cell_type": "code",
   "execution_count": null,
   "id": "f64f17a9-61e9-4deb-ab94-7a2df2fd03a2",
   "metadata": {},
   "outputs": [],
   "source": [
    "patient_DF2[\"BMI\"] = (patient_DF2[\"mass\"]/patient_DF2[\"length\"]**2)*10000\n",
    "\n",
    "display(patient_DF2)"
   ]
  },
  {
   "cell_type": "code",
   "execution_count": null,
   "id": "b390c437-f4f7-4515-a390-9101cd1fa90e",
   "metadata": {},
   "outputs": [],
   "source": [
    "patient_DF2.describe()"
   ]
  },
  {
   "cell_type": "code",
   "execution_count": null,
   "id": "48652956-e01f-4398-93f6-12641a634111",
   "metadata": {},
   "outputs": [],
   "source": [
    "patient_DF2_hist = patient_DF2.hist( figsize=(20,10), grid = False, bins = 50, color = \"green\", ec = \"white\")"
   ]
  },
  {
   "cell_type": "code",
   "execution_count": null,
   "id": "2284c876-2f01-4602-ac19-eab2de12a8ed",
   "metadata": {},
   "outputs": [],
   "source": [
    "display(patient_DF2)"
   ]
  },
  {
   "cell_type": "code",
   "execution_count": null,
   "id": "94f975e5-964f-4de3-81a8-4a5641cbf09b",
   "metadata": {},
   "outputs": [],
   "source": [
    "fig = plt.figure(figsize=(8,7))\n",
    "sns.heatmap(patient_DF2.corr(), annot = True)\n"
   ]
  },
  {
   "cell_type": "code",
   "execution_count": null,
   "id": "cc1e0eaf-7c60-4d10-9768-653a9cc037d6",
   "metadata": {},
   "outputs": [],
   "source": []
  }
 ],
 "metadata": {
  "kernelspec": {
   "display_name": "Python 3 (ipykernel)",
   "language": "python",
   "name": "python3"
  },
  "language_info": {
   "codemirror_mode": {
    "name": "ipython",
    "version": 3
   },
   "file_extension": ".py",
   "mimetype": "text/x-python",
   "name": "python",
   "nbconvert_exporter": "python",
   "pygments_lexer": "ipython3",
   "version": "3.10.9"
  }
 },
 "nbformat": 4,
 "nbformat_minor": 5
}
