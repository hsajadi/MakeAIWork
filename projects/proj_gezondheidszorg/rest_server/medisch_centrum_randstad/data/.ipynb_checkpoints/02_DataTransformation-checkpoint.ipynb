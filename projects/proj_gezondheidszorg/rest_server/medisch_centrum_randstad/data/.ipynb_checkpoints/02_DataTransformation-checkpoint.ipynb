{
 "cells": [
  {
   "cell_type": "markdown",
   "id": "dbef7ad4-981d-43e4-9fd1-cc8fc41aa499",
   "metadata": {
    "tags": []
   },
   "source": [
    "<H1><B>02 Data Transformation</B></H1>"
   ]
  },
  {
   "cell_type": "markdown",
   "id": "cfdb0cd6-0596-41b7-92e9-ad1ae5575e34",
   "metadata": {},
   "source": [
    "<H3><B>Step 1</B>&nbsp;&nbsp;&nbsp; Use different techniques to identify mistakes and omissions</H3>\n",
    "<a href=\"https://www.w3schools.com/python/pandas/pandas_analyzing.asp\">Pandas - Analyzing Data: w3schools.com</a>\n",
    "<br>&nbsp;"
   ]
  },
  {
   "cell_type": "code",
   "execution_count": 9,
   "id": "428c3619-5248-4e21-9933-13c523492faf",
   "metadata": {
    "tags": []
   },
   "outputs": [],
   "source": [
    "from PIL import Image              # Using these lines as template for whole file.\n",
    "import csv\n",
    "import json\n",
    "import os\n",
    "\n",
    "import pandas as pd\n",
    "import sqlite3\n",
    "\n",
    "import matplotlib.pyplot as plt\n",
    "import numpy as np\n",
    "import scipy as cp"
   ]
  },
  {
   "cell_type": "code",
   "execution_count": 10,
   "id": "599e0b20-5861-4679-855a-1918ab45b09b",
   "metadata": {
    "tags": []
   },
   "outputs": [
    {
     "name": "stdout",
     "output_type": "stream",
     "text": [
      "   id  genetic  length  mass  exercise  smoking  alcohol  sugar  lifespan\n",
      "0   1     84.0   180.0  90.0       2.0      9.0      1.0      2        86\n",
      "1   2     84.0   204.0  79.0       3.0      2.0      7.0      3       100\n",
      "2   3     84.0   174.0  74.0       3.0     20.0      3.0      2        87\n",
      "3   4     84.0   187.0  78.0       2.0      6.0      5.0      3        91\n",
      "4   5     84.0   187.0  89.0       2.0     12.0      0.0      2        83\n",
      "5   6     84.0   175.0  74.0       2.0      2.0      3.0      3        89\n",
      "6   7     84.0   196.0  68.0       2.0     14.0      8.0      1        80\n",
      "7   8     84.0   182.0  83.0       1.0      1.0      8.0      3        77\n",
      "8   9     84.0   176.0  91.0       1.0     17.0      1.0      2        73\n",
      "9  10     84.0   180.0  74.0       1.0      5.0      9.0      2        73\n"
     ]
    }
   ],
   "source": [
    "# 1. Analyzing DataFrames and Viewing the Data.\n",
    "# One of the most used method for getting a quick overview of the DataFrame, is the head() method.\n",
    "# The head() method returns the headers and a specified number of rows, starting from the top.\n",
    "# Get a quick overview by printing the first 10 rows of the DataFrame:\n",
    "\n",
    "df = pd.read_csv('csv/medisch_centrum_randstad.csv')\n",
    "print(df.head(10))"
   ]
  },
  {
   "cell_type": "code",
   "execution_count": 11,
   "id": "ee32ae18-b0a7-43b2-8fd7-4c909ca6b7ff",
   "metadata": {
    "tags": []
   },
   "outputs": [
    {
     "name": "stdout",
     "output_type": "stream",
     "text": [
      "<class 'pandas.core.frame.DataFrame'>\n",
      "RangeIndex: 8192 entries, 0 to 8191\n",
      "Data columns (total 9 columns):\n",
      " #   Column    Non-Null Count  Dtype  \n",
      "---  ------    --------------  -----  \n",
      " 0   id        8192 non-null   int64  \n",
      " 1   genetic   8191 non-null   float64\n",
      " 2   length    8190 non-null   float64\n",
      " 3   mass      8191 non-null   float64\n",
      " 4   exercise  8191 non-null   float64\n",
      " 5   smoking   8191 non-null   float64\n",
      " 6   alcohol   8191 non-null   float64\n",
      " 7   sugar     8192 non-null   int64  \n",
      " 8   lifespan  8192 non-null   int64  \n",
      "dtypes: float64(6), int64(3)\n",
      "memory usage: 576.1 KB\n",
      "None\n"
     ]
    }
   ],
   "source": [
    "# 2. Info About the Data\n",
    "# The DataFrames object has a method called info(), that gives you more information about the data set.\n",
    "\n",
    "df = pd.read_csv('csv/medisch_centrum_randstad.csv')\n",
    "print(df.info())\n",
    "\n",
    "# Result explained in short:\n",
    "# The result tells us there are 8192 rows and 9 columns with the names of each column and their data type.\n",
    "# The info() method also tells us how many Non-Null values there are present in each column:\n",
    "# Column 'genetic' has 1 'null value'\n",
    "# Column 'length' has 2 'null values'\n",
    "# Column 'mass' has 1 'null value'\n",
    "# Column 'exercise' has 1 'null value'\n",
    "# Column 'smoking' has 1 'null value'\n",
    "# Column 'alcohol' has 1 'null value'"
   ]
  },
  {
   "cell_type": "code",
   "execution_count": null,
   "id": "f12232ca-431e-414c-ae17-436fe22c893f",
   "metadata": {},
   "outputs": [],
   "source": []
  },
  {
   "cell_type": "markdown",
   "id": "87783011-833d-43b8-9bff-0d1efed16216",
   "metadata": {},
   "source": [
    "<H3><B>Step 2</B>&nbsp;&nbsp;&nbsp; Apply the different techniques to clean the dataset</H3>"
   ]
  },
  {
   "cell_type": "markdown",
   "id": "43ffc9e3-a9d6-4ca4-a0a3-9c527415f606",
   "metadata": {},
   "source": [
    "<H4><B>Cleaning Data</B></H4><a href=\"https://www.w3schools.com/python/pandas/pandas_cleaning_empty_cells.asp\">Pandas - Cleaning Empty Cells: w3schools.com</a>\n",
    "<br>&nbsp;\n",
    "Data cleaning means fixing bad data in your data set. Bad data could be:<br>\n",
    "• Empty cells<br>\n",
    "• Data in wrong format<br>\n",
    "• Wrong data<br>\n",
    "• Duplicates<br>"
   ]
  },
  {
   "cell_type": "code",
   "execution_count": 13,
   "id": "134067e9-ae4b-44b8-9381-0f672c203992",
   "metadata": {
    "tags": []
   },
   "outputs": [
    {
     "name": "stdout",
     "output_type": "stream",
     "text": [
      "<class 'pandas.core.frame.DataFrame'>\n",
      "Int64Index: 8185 entries, 0 to 8191\n",
      "Data columns (total 9 columns):\n",
      " #   Column    Non-Null Count  Dtype  \n",
      "---  ------    --------------  -----  \n",
      " 0   id        8185 non-null   int64  \n",
      " 1   genetic   8185 non-null   float64\n",
      " 2   length    8185 non-null   float64\n",
      " 3   mass      8185 non-null   float64\n",
      " 4   exercise  8185 non-null   float64\n",
      " 5   smoking   8185 non-null   float64\n",
      " 6   alcohol   8185 non-null   float64\n",
      " 7   sugar     8185 non-null   int64  \n",
      " 8   lifespan  8185 non-null   int64  \n",
      "dtypes: float64(6), int64(3)\n",
      "memory usage: 639.5 KB\n",
      "None\n"
     ]
    }
   ],
   "source": [
    "# Cleaning Empty Cells by Removing Rows.\n",
    "# One way to deal with empty cells is to remove rows that contain empty cells.\n",
    "# This is usually OK, since data sets can be very big, and removing a few rows will not have a big impact on the result.\n",
    "# Return a new DataFrame with no empty cells:\n",
    "import pandas as pd\n",
    "df = pd.read_csv('csv/medisch_centrum_randstad.csv')\n",
    "new_df = df.dropna()\n",
    "# print(new_df.to_string())\n",
    "print(new_df.info())\n",
    "\n",
    "# Note: By default, the dropna() method returns a new DataFrame, and will not change the original.\n",
    "# Note: All null-values are gone and 7 rows are deleted: 8185 entries (rows) left to work with."
   ]
  },
  {
   "cell_type": "markdown",
   "id": "6f984803-efc5-4ce1-9a63-407b91ecdf01",
   "metadata": {},
   "source": [
    "<H4><B>Replace Using Mean</B></H4>"
   ]
  },
  {
   "cell_type": "code",
   "execution_count": 15,
   "id": "851b5a07-48c1-4c8d-bafb-14bd297f7d0a",
   "metadata": {
    "tags": []
   },
   "outputs": [
    {
     "name": "stdout",
     "output_type": "stream",
     "text": [
      "<class 'pandas.core.frame.DataFrame'>\n",
      "RangeIndex: 8192 entries, 0 to 8191\n",
      "Data columns (total 9 columns):\n",
      " #   Column    Non-Null Count  Dtype  \n",
      "---  ------    --------------  -----  \n",
      " 0   id        8192 non-null   int64  \n",
      " 1   genetic   8192 non-null   float64\n",
      " 2   length    8190 non-null   float64\n",
      " 3   mass      8191 non-null   float64\n",
      " 4   exercise  8191 non-null   float64\n",
      " 5   smoking   8191 non-null   float64\n",
      " 6   alcohol   8191 non-null   float64\n",
      " 7   sugar     8192 non-null   int64  \n",
      " 8   lifespan  8192 non-null   int64  \n",
      "dtypes: float64(6), int64(3)\n",
      "memory usage: 576.1 KB\n",
      "None\n"
     ]
    }
   ],
   "source": [
    "# Replace Using Mean, Median, or Mode\n",
    "# A common way to replace empty cells, is to calculate the mean, median or mode value of the column.\n",
    "# Pandas uses the mean() median() and mode() methods to calculate the respective values for a specified column.\n",
    "\n",
    "# Calculate the MEAN, and replace any empty values with it:\n",
    "df = pd.read_csv('csv/medisch_centrum_randstad.csv')\n",
    "x = df['genetic'].mean()\n",
    "df['genetic'].fillna(x, inplace = True)\n",
    "# print(df.to_string())\n",
    "print(df.info())\n",
    "\n",
    "# Mean = the average value (the sum of all values divided by number of values).\n",
    "# NOTE: R&D automated code for all other columns with 'null-values'. Now only column 'genetic' was fixed."
   ]
  },
  {
   "cell_type": "markdown",
   "id": "8528c2b1-60dd-4eb0-b1ba-0588ed703f6c",
   "metadata": {
    "tags": []
   },
   "source": [
    "<H4><B>Replace Using Median</B></H4>"
   ]
  },
  {
   "cell_type": "code",
   "execution_count": 18,
   "id": "ec95b3c9-a290-4f15-b5ef-2d37ddc5fa1f",
   "metadata": {
    "tags": []
   },
   "outputs": [
    {
     "name": "stdout",
     "output_type": "stream",
     "text": [
      "<class 'pandas.core.frame.DataFrame'>\n",
      "RangeIndex: 8192 entries, 0 to 8191\n",
      "Data columns (total 9 columns):\n",
      " #   Column    Non-Null Count  Dtype  \n",
      "---  ------    --------------  -----  \n",
      " 0   id        8192 non-null   int64  \n",
      " 1   genetic   8191 non-null   float64\n",
      " 2   length    8192 non-null   float64\n",
      " 3   mass      8191 non-null   float64\n",
      " 4   exercise  8191 non-null   float64\n",
      " 5   smoking   8191 non-null   float64\n",
      " 6   alcohol   8191 non-null   float64\n",
      " 7   sugar     8192 non-null   int64  \n",
      " 8   lifespan  8192 non-null   int64  \n",
      "dtypes: float64(6), int64(3)\n",
      "memory usage: 576.1 KB\n",
      "None\n"
     ]
    }
   ],
   "source": [
    "# Calculate the MEDIAN, and replace any empty values with it:\n",
    "df = pd.read_csv('csv/medisch_centrum_randstad.csv')\n",
    "x = df['length'].median()\n",
    "df['length'].fillna(x, inplace = True)\n",
    "# print(df.to_string())\n",
    "print(df.info())\n",
    "\n",
    "# Median = the value in the middle, after you have sorted all values ascending.\n",
    "# NOTE: R&D automated code for all other columns with 'null-values'. Now only column 'length' was fixed."
   ]
  },
  {
   "cell_type": "markdown",
   "id": "0bf5cea6-6d3e-48c7-8dcc-a8290965edc7",
   "metadata": {},
   "source": [
    "<H4><B>Replace Using Mode</B></H4>"
   ]
  },
  {
   "cell_type": "code",
   "execution_count": 20,
   "id": "c4b081dd-3235-42da-b00a-81240206d8b4",
   "metadata": {
    "tags": []
   },
   "outputs": [
    {
     "name": "stdout",
     "output_type": "stream",
     "text": [
      "<class 'pandas.core.frame.DataFrame'>\n",
      "RangeIndex: 8192 entries, 0 to 8191\n",
      "Data columns (total 9 columns):\n",
      " #   Column    Non-Null Count  Dtype  \n",
      "---  ------    --------------  -----  \n",
      " 0   id        8192 non-null   int64  \n",
      " 1   genetic   8191 non-null   float64\n",
      " 2   length    8190 non-null   float64\n",
      " 3   mass      8191 non-null   float64\n",
      " 4   exercise  8191 non-null   float64\n",
      " 5   smoking   8191 non-null   float64\n",
      " 6   alcohol   8191 non-null   float64\n",
      " 7   sugar     8192 non-null   int64  \n",
      " 8   lifespan  8192 non-null   int64  \n",
      "dtypes: float64(6), int64(3)\n",
      "memory usage: 576.1 KB\n",
      "None\n"
     ]
    }
   ],
   "source": [
    "# Calculate the MODE, and replace any empty values with it:\n",
    "df = pd.read_csv('csv/medisch_centrum_randstad.csv')\n",
    "x = df['mass'].mode()\n",
    "df['mass'].fillna(x, inplace = True)\n",
    "# print(df.to_string())\n",
    "print(df.info())\n",
    "\n",
    "# Mode = the value that appears most frequently.\n",
    "# NOTE: R&D automated code for all other columns with 'null-values'. However column 'mass' was NOT fixed using 'mode' method."
   ]
  },
  {
   "cell_type": "markdown",
   "id": "2f4a4a6e-5eff-4483-9c3c-a8ef5e0791e0",
   "metadata": {},
   "source": [
    "<H4><B>Discover Duplicates</B></H4><a href=\"https://www.w3schools.com/python/pandas/pandas_cleaning_duplicates.asp\">Pandas - Removing Duplicates: w3schools.com</a><br>&nbsp;"
   ]
  },
  {
   "cell_type": "code",
   "execution_count": 21,
   "id": "cf5ff418-4121-4e0b-ab36-969cb1b5283b",
   "metadata": {
    "tags": []
   },
   "outputs": [
    {
     "name": "stdout",
     "output_type": "stream",
     "text": [
      "0       False\n",
      "1       False\n",
      "2       False\n",
      "3       False\n",
      "4       False\n",
      "        ...  \n",
      "8187    False\n",
      "8188    False\n",
      "8189    False\n",
      "8190    False\n",
      "8191    False\n",
      "Length: 8192, dtype: bool\n"
     ]
    }
   ],
   "source": [
    "# To discover duplicates, we can use the duplicated() method.\n",
    "# The duplicated() method returns a Boolean values for each row:\n",
    "\n",
    "print(df.duplicated())\n",
    "# NOTE: There seems to be no duplicates at all."
   ]
  },
  {
   "cell_type": "markdown",
   "id": "7dee8542-585a-4e21-bc00-a02e399b8b5e",
   "metadata": {
    "tags": []
   },
   "source": [
    "<H3><B>Step 3</B>&nbsp;&nbsp;&nbsp; Think about how to automate the usage of the techniques/build a pipeline</H3><br>&nbsp;<i>This paragraph still needs attention and explanation.</i>"
   ]
  },
  {
   "cell_type": "code",
   "execution_count": null,
   "id": "2d5bf99e-3aaf-4fb8-842c-aaa3faba8c89",
   "metadata": {},
   "outputs": [],
   "source": []
  }
 ],
 "metadata": {
  "kernelspec": {
   "display_name": "Python 3 (ipykernel)",
   "language": "python",
   "name": "python3"
  },
  "language_info": {
   "codemirror_mode": {
    "name": "ipython",
    "version": 3
   },
   "file_extension": ".py",
   "mimetype": "text/x-python",
   "name": "python",
   "nbconvert_exporter": "python",
   "pygments_lexer": "ipython3",
   "version": "3.10.9"
  }
 },
 "nbformat": 4,
 "nbformat_minor": 5
}
