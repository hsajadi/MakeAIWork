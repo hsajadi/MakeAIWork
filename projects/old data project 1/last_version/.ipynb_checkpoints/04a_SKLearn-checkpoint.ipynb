{
 "cells": [
  {
   "cell_type": "markdown",
   "id": "af086225-73d1-4138-937f-462b29289440",
   "metadata": {},
   "source": [
    "<H1><B>04a SKLearn REGRESSION</B></H1>"
   ]
  },
  {
   "cell_type": "code",
   "execution_count": 30,
   "id": "7795ed57-8e93-4b84-822e-207495e208e4",
   "metadata": {
    "tags": []
   },
   "outputs": [],
   "source": [
    "import pandas as pd\n",
    "\n",
    "from sklearn import preprocessing, svm\n",
    "from sklearn.model_selection import train_test_split\n",
    "from sklearn.linear_model import LinearRegression\n",
    "from sklearn.metrics import mean_squared_error, mean_absolute_error"
   ]
  },
  {
   "cell_type": "code",
   "execution_count": 1,
   "id": "eda387e0-7196-4a86-a0ca-055d83a95693",
   "metadata": {
    "tags": []
   },
   "outputs": [
    {
     "name": "stdout",
     "output_type": "stream",
     "text": [
      "# Reading \"medisch_centrum_randstad_BMI.csv\"\n",
      "patient_DF = pd.read_csv(\"data/medisch_centrum_randstad_BMI.csv\")\n",
      "X = patient_DF[[\"genetic\", \"exercise\", \"smoking\", \"alcohol\", \"sugar\", \"BMI\"]]\n",
      "y = patient_DF[\"lifespan\"]\n",
      "\n",
      "# Training the model\n",
      "X_train, X_test, y_train, y_test = train_test_split(X, y, test_size = 0.25)\n",
      "\n",
      "# Fitting\n",
      "regr = LinearRegression()\n",
      "regr.fit(X_train, y_train)\n",
      "\n",
      "print(\"regr.score(X_test, y_test): \", regr.score(X_test, y_test))\n",
      "\n",
      "# Data scatter of predicted values\n",
      "y_pred = regr.predict(X_test)\n",
      "print(\"y_pred: \", y_pred)\n",
      "\n",
      "# Calculating \"mean_squared_error\" and its root.\n",
      "sq = (mean_squared_error(y_test, y_pred))**0.5\n",
      "print(\"BMI\")\n",
      "print(\"mean_squared_error : \", mean_squared_error(y_test, y_pred))\n",
      "print(\"Root of mean_squared_error : \", sq)\n",
      "print(\"Mean_absolute_error : \", mean_absolute_error(y_test, y_pred))\n",
      "mae = round((mean_absolute_error(y_test, y_pred)),2)\n"
     ]
    }
   ],
   "source": [
    "# Reading \"medisch_centrum_randstad_BMI.csv\"\n",
    "patient_DF = pd.read_csv(\"data/medisch_centrum_randstad_BMI.csv\")\n",
    "X = patient_DF[[\"genetic\", \"exercise\", \"smoking\", \"alcohol\", \"sugar\", \"BMI\"]]\n",
    "y = patient_DF[\"lifespan\"]\n",
    "\n",
    "# Training the model\n",
    "X_train, X_test, y_train, y_test = train_test_split(X, y, test_size = 0.25)\n",
    "\n",
    "# Fitting\n",
    "regr = LinearRegression()\n",
    "regr.fit(X_train, y_train)\n",
    "\n",
    "print(\"regr.score(X_test, y_test): \", regr.score(X_test, y_test))\n",
    "\n",
    "# Data scatter of predicted values\n",
    "y_pred = regr.predict(X_test)\n",
    "print(\"y_pred: \", y_pred)\n",
    "\n",
    "# Calculating \"mean_squared_error\" and its root.\n",
    "sq = (mean_squared_error(y_test, y_pred))**0.5\n",
    "print(\"BMI\")\n",
    "print(\"mean_squared_error : \", mean_squared_error(y_test, y_pred))\n",
    "print(\"Root of mean_squared_error : \", sq)\n",
    "print(\"Mean_absolute_error : \", mean_absolute_error(y_test, y_pred))\n",
    "mae = round((mean_absolute_error(y_test, y_pred)),2)"
   ]
  },
  {
   "cell_type": "markdown",
   "id": "8302d41f-3140-4e8a-a752-c1083aeb9d8d",
   "metadata": {},
   "source": [
    "<H1>INPUT TRIAL</H1>"
   ]
  },
  {
   "cell_type": "code",
   "execution_count": 2,
   "id": "768e0ca2-87b1-46f2-98f8-897f858ceafb",
   "metadata": {
    "tags": []
   },
   "outputs": [
    {
     "name": "stdout",
     "output_type": "stream",
     "text": [
      "# INPUT TRIAL nr.1\n",
      "patient_DF7 = pd.read_csv(\"data/medisch_centrum_randstad_BMI.csv\")\n",
      "X = patient_DF7[[\"genetic\", \"exercise\", \"smoking\", \"alcohol\", \"sugar\", \"BMI\"]]\n",
      "y = patient_DF7[\"lifespan\"]\n",
      "\n",
      "X_train, X_test, y_train, y_test = train_test_split(X, y, test_size = 0.25)\n",
      "\n",
      "regr = LinearRegression()\n",
      "regr.fit(X_train, y_train)\n",
      "\n",
      "# Data scatter of predicted values\n",
      "y_pred = regr.predict(X_test)\n",
      "\n",
      "sq8 = (mean_squared_error(y_test, y_pred))**0.5\n",
      "mae8 = round((mean_absolute_error(y_test, y_pred)),2)\n",
      "\n",
      "# Storing Regression Coefficients into Lists \"regCoef\" and \"regInter\"\n",
      "regCoef = regr.coef_\n",
      "regInter = regr.intercept_\n",
      "\n",
      "# This input is limited to \"genetic\", BMI and the daily intake of \"exercise\", \"smoking\", \"alcohol\" and \"sugar\".\n",
      "# gen = float(input(\"Please input your genetic: \"))\n",
      "# bmi = float(input(\"Please input your BMI: \"))\n",
      "# exer = float(input(\"Please input your daily exercise: \"))\n",
      "# smok = float(input(\"Please input your daily smoking habit: \"))\n",
      "# alco = float(input(\"Please input your daily alcohol intake: \"))\n",
      "# sug = float(input(\"Please input your daily sugar intake: \"))\n",
      "\n",
      "# lifespan_prog = (regCoef[0]*gen)+(regCoef[1]*exer)+(regCoef[2]*smok)+(regCoef[3]*alco)+(regCoef[4]*sug)+(regCoef[5]*bmi)+regInter\n",
      "# print(f\"Your Lifespan Prognosis: \",lifespan_prog)\n"
     ]
    }
   ],
   "source": [
    "# INPUT TRIAL nr.1\n",
    "patient_DF7 = pd.read_csv(\"data/medisch_centrum_randstad_BMI.csv\")\n",
    "X = patient_DF7[[\"genetic\", \"exercise\", \"smoking\", \"alcohol\", \"sugar\", \"BMI\"]]\n",
    "y = patient_DF7[\"lifespan\"]\n",
    "\n",
    "X_train, X_test, y_train, y_test = train_test_split(X, y, test_size = 0.25)\n",
    "\n",
    "regr = LinearRegression()\n",
    "regr.fit(X_train, y_train)\n",
    "\n",
    "# Data scatter of predicted values\n",
    "y_pred = regr.predict(X_test)\n",
    "\n",
    "sq8 = (mean_squared_error(y_test, y_pred))**0.5\n",
    "mae8 = round((mean_absolute_error(y_test, y_pred)),2)\n",
    "\n",
    "# Storing Regression Coefficients into Lists \"regCoef\" and \"regInter\"\n",
    "regCoef = regr.coef_\n",
    "regInter = regr.intercept_\n",
    "\n",
    "# This input is limited to \"genetic\", BMI and the daily intake of \"exercise\", \"smoking\", \"alcohol\" and \"sugar\".\n",
    "# gen = float(input(\"Please input your genetic: \"))\n",
    "# bmi = float(input(\"Please input your BMI: \"))\n",
    "# exer = float(input(\"Please input your daily exercise: \"))\n",
    "# smok = float(input(\"Please input your daily smoking habit: \"))\n",
    "# alco = float(input(\"Please input your daily alcohol intake: \"))\n",
    "# sug = float(input(\"Please input your daily sugar intake: \"))\n",
    "\n",
    "# lifespan_prog = (regCoef[0]*gen)+(regCoef[1]*exer)+(regCoef[2]*smok)+(regCoef[3]*alco)+(regCoef[4]*sug)+(regCoef[5]*bmi)+regInter\n",
    "# print(f\"Your Lifespan Prognosis: \",lifespan_prog)"
   ]
  },
  {
   "cell_type": "markdown",
   "id": "d9fea3f1-b72c-4fc7-8554-a94a8f6c1f9e",
   "metadata": {},
   "source": [
    "<H3><B>Pickle DUMP</B></H3>"
   ]
  },
  {
   "cell_type": "code",
   "execution_count": 33,
   "id": "f22bd67c-31f2-4d43-90da-2b961090b233",
   "metadata": {},
   "outputs": [],
   "source": [
    "# Imports\n",
    "import pickle\n",
    "\n",
    "# create an iterator object with write permission - model.pkl\n",
    "with open(\"regModel\", \"wb\") as files:\n",
    "    pickle.dump(regr, files)"
   ]
  }
 ],
 "metadata": {
  "kernelspec": {
   "display_name": "Python 3 (ipykernel)",
   "language": "python",
   "name": "python3"
  },
  "language_info": {
   "codemirror_mode": {
    "name": "ipython",
    "version": 3
   },
   "file_extension": ".py",
   "mimetype": "text/x-python",
   "name": "python",
   "nbconvert_exporter": "python",
   "pygments_lexer": "ipython3",
   "version": "3.10.9"
  }
 },
 "nbformat": 4,
 "nbformat_minor": 5
}
