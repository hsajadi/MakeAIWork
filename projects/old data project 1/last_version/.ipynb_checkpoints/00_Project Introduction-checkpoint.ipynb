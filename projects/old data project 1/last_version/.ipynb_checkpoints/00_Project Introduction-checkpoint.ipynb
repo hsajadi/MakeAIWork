{
 "cells": [
  {
   "cell_type": "markdown",
   "id": "e95fe3de-5017-4223-a048-b8c4b593d382",
   "metadata": {},
   "source": [
    "<H1><B>INTRODUCTION</B></H1>"
   ]
  },
  {
   "cell_type": "markdown",
   "id": "47c1c520-17fd-40ff-bf00-89d20478ada5",
   "metadata": {
    "tags": []
   },
   "source": [
    "<H3>Group: AI ONDERZOEKERS</H3>7 MARCH 2023<br>   Hossein, Hans, Kajal and Peter"
   ]
  },
  {
   "cell_type": "markdown",
   "id": "1e6b6045-86fb-4656-ac12-f82523074c97",
   "metadata": {},
   "source": [
    "<B>Project information given by professor Jeroen:</B> <br>From a fictive site at Medical Center Randstad we can find data belonging to fictive patients regarding life expectancy and lifestyle.<br>Our job is to 'scrape' that DataFrame."
   ]
  },
  {
   "cell_type": "markdown",
   "id": "0ae71eda-e7d7-40b1-8e16-0397cce40c58",
   "metadata": {},
   "source": [
    "<H3>The first goal</H3>Develop a qualitative model that describes the relationship between lifestyle and age.<br>If new data becomes available, the model must be easy to update. So an automatic data pipeline has to be built.<br>\n",
    "\n",
    "A modular application is built around this model that is suitable enough to be used in a doctor's practice or hospital.<br>The application must therefore be able to run independently on a PC or laptop.<br>\n",
    "\n",
    "The doctor can enter the necessary data via a console application, and then see the results. <br>The results are:\n",
    "the life expectancy that is predicted based on the behavior of certain variables.<br>These variables/data are:\n",
    "\n",
    "• Genetic is the genetic age in years (not affected by lifestyle)<br>\n",
    "• Length is the height in centimeters<br>\n",
    "• Mass is the mass in kilograms<br>\n",
    "• Exercise is the amount of exercise in hours per day<br>\n",
    "• Smoking describes the number of cigarettes per day<br>\n",
    "• Alcohol describes the number of glasses of alcoholic drink per day<br>\n",
    "• Sugar describes the amount of sugar in lumps per day<br>\n",
    "\n",
    "Lifespan, age depends on the influence of lifestyle. To give the patient insight into a change of lifestyle, the doctor can adjust the style, for example adjusting the number of cigarettes per day. The patient is then shown how much influence this has on life expectancy. In addition, the patient is shown what the \"predicted\" influence will be on the insurance premium. After a session, the doctor can use the escape key to return to the starting point."
   ]
  },
  {
   "cell_type": "markdown",
   "id": "c6659c15-ec21-4e3f-a9eb-3657f3ddf198",
   "metadata": {
    "tags": []
   },
   "source": [
    "<H2>Our preliminary thoughts and specifications</H2>"
   ]
  },
  {
   "cell_type": "markdown",
   "id": "73e57233-322a-4cb2-a92c-ad8485800075",
   "metadata": {},
   "source": [
    "• Establish if the program will run on different OS platforms"
   ]
  },
  {
   "cell_type": "markdown",
   "id": "f34e3642-2e09-45c7-bc77-20ddf51289d4",
   "metadata": {},
   "source": [
    "• Determine the software quality criteria: uptime, privacy"
   ]
  },
  {
   "cell_type": "markdown",
   "id": "b5064721-ac96-4517-9f8d-6e1e02ab4076",
   "metadata": {},
   "source": [
    "• Determine the output that needs to be delivered: web-based interface"
   ]
  },
  {
   "cell_type": "markdown",
   "id": "a667096d-3e1b-4dc9-a953-d85498ae0d6f",
   "metadata": {
    "tags": []
   },
   "source": [
    "<H2>R&D</H2>"
   ]
  },
  {
   "cell_type": "markdown",
   "id": "8625c54a-b591-485a-bb20-9e137d3961b8",
   "metadata": {},
   "source": [
    "• Determine the key criteria upon which a choice can be made which tool(s) for data analyses to use: pandas"
   ]
  },
  {
   "cell_type": "markdown",
   "id": "f9502155-84e3-42f1-8e78-350aed7eacac",
   "metadata": {},
   "source": [
    "• What are the different parts of the code in KATA: analysis, AI modelling, interface"
   ]
  },
  {
   "cell_type": "markdown",
   "id": "d4508a0d-19db-42fb-b2d0-51e8a5372386",
   "metadata": {},
   "source": [
    "• Understand how the outcome of the model will be used: enduser input, adding patient records?"
   ]
  },
  {
   "cell_type": "markdown",
   "id": "21cab2b4-dd23-4c81-8178-15d21303541b",
   "metadata": {},
   "source": [
    "• Establish suitable naming convention for different files in the different phases"
   ]
  }
 ],
 "metadata": {
  "kernelspec": {
   "display_name": "Python 3 (ipykernel)",
   "language": "python",
   "name": "python3"
  },
  "language_info": {
   "codemirror_mode": {
    "name": "ipython",
    "version": 3
   },
   "file_extension": ".py",
   "mimetype": "text/x-python",
   "name": "python",
   "nbconvert_exporter": "python",
   "pygments_lexer": "ipython3",
   "version": "3.11.1"
  }
 },
 "nbformat": 4,
 "nbformat_minor": 5
}
