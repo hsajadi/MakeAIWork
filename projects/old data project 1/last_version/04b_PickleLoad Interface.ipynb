{
 "cells": [
  {
   "cell_type": "markdown",
   "id": "7fc65928-98d9-40a4-85e0-cff3b5d2a3ff",
   "metadata": {
    "tags": []
   },
   "source": [
    "<H1><B>PICKLE LOAD</B></H1>"
   ]
  },
  {
   "cell_type": "code",
   "execution_count": 19,
   "id": "79796f28-9152-4bc2-89b6-0c68ea8c9b2d",
   "metadata": {},
   "outputs": [],
   "source": [
    "# Imports\n",
    "import pickle\n",
    "\n",
    "with open(\"regModel\" , \"rb\") as f:\n",
    "    lr = pickle.load(f)"
   ]
  },
  {
   "cell_type": "code",
   "execution_count": 20,
   "id": "a08a5d55-efb5-4363-82fb-d270b67e69d2",
   "metadata": {
    "tags": []
   },
   "outputs": [],
   "source": [
    "#!/usr/bin/env python\n",
    "\n",
    "import logging\n",
    "import pandas as pd\n",
    "import pickle\n",
    "import statsmodels as sm\n",
    "import statsmodels.formula.api as smf\n",
    "import sqlite3\n",
    "\n",
    "# Global configuration\n",
    "logging.basicConfig(level=logging.DEBUG)\n",
    "regModel = \"../models/regModel\"\n",
    "\n",
    "def predict(inputData):\n",
    "    logging.info(\"Load model\")\n",
    "    \n",
    "    with open(regModel , \"rb\") as f:\n",
    "        regressor = pickle.load(f)\n",
    "    \n",
    "    # Predict lifespan with regressor and inputData\n",
    "    return predict\n",
    "\n",
    "# TODO Create an interface for all input variables\n",
    "# def interface():\n",
    "    \n",
    "def inputDigit(message, acceptableRange):\n",
    "    inputStr = str()\n",
    "    withinRange = False\n",
    "    numberOfTries = 3\n",
    "    i = 0\n",
    "\n",
    "    while not (inputStr.isdigit() and withinRange) and i < numberOfTries:\n",
    "        inputStr = input(message)\n",
    "\n",
    "        if inputStr.isdigit():\n",
    "            inputNum = float(inputStr)\n",
    "\n",
    "            if inputNum in acceptableRange:\n",
    "                return inputNum\n",
    "\n",
    "        i += 1\n",
    "\n",
    "# acceptableRange = range(18, 118)\n",
    "# age = int(inputDigit(\"Age [18 - 118]: \", acceptableRange))\n",
    "# logging.debug(f\"age : {age}\")"
   ]
  }
 ],
 "metadata": {
  "kernelspec": {
   "display_name": "Python 3 (ipykernel)",
   "language": "python",
   "name": "python3"
  },
  "language_info": {
   "codemirror_mode": {
    "name": "ipython",
    "version": 3
   },
   "file_extension": ".py",
   "mimetype": "text/x-python",
   "name": "python",
   "nbconvert_exporter": "python",
   "pygments_lexer": "ipython3",
   "version": "3.10.9"
  }
 },
 "nbformat": 4,
 "nbformat_minor": 5
}
