{
 "cells": [
  {
   "cell_type": "markdown",
   "id": "dbef7ad4-981d-43e4-9fd1-cc8fc41aa499",
   "metadata": {
    "tags": []
   },
   "source": [
    "<H1><B>02  DATA CLEANING</B></H1>"
   ]
  },
  {
   "cell_type": "markdown",
   "id": "cfdb0cd6-0596-41b7-92e9-ad1ae5575e34",
   "metadata": {},
   "source": [
    "<H3><B>Step 1</B>&nbsp;&nbsp;&nbsp;Use different techniques to identify mistakes and omissions</H3>"
   ]
  },
  {
   "cell_type": "code",
   "execution_count": 1,
   "id": "428c3619-5248-4e21-9933-13c523492faf",
   "metadata": {
    "tags": []
   },
   "outputs": [],
   "source": [
    "import csv\n",
    "import json\n",
    "import os\n",
    "\n",
    "import pandas as pd\n",
    "import sqlite3\n",
    "\n",
    "import matplotlib.pyplot as plt\n",
    "import numpy as np\n",
    "import scipy as cp"
   ]
  },
  {
   "cell_type": "code",
   "execution_count": 2,
   "id": "599e0b20-5861-4679-855a-1918ab45b09b",
   "metadata": {
    "tags": []
   },
   "outputs": [
    {
     "name": "stdout",
     "output_type": "stream",
     "text": [
      "   id  genetic  length   mass  exercise  smoking  alcohol  lifespan  sugar\n",
      "0   1     73.9   185.0   99.7       0.9      0.0      2.4      73.1    6.9\n",
      "1   2     86.0   172.0  105.4       1.8      8.1      0.4      85.0    4.2\n",
      "2   3     83.3   176.0  111.4       1.1      0.8      4.6      81.6    7.5\n",
      "3   4     82.8   164.0  111.4       4.7     11.8      1.0      81.0    2.9\n",
      "4   5     78.7   178.0   71.6       1.5      8.3      4.9      75.0    5.5\n",
      "5   6     88.2   192.0   54.3       1.8      0.4      2.1      87.5    8.0\n",
      "6   7     84.1   180.0   91.6       4.3      2.2      0.2      86.8    6.0\n",
      "7   8     76.8   185.0  127.9       2.6     21.0      1.7      69.4    3.7\n",
      "8   9     92.1   191.0   68.0       1.9     17.8      5.1      86.1    7.1\n",
      "9  10     79.0   164.0  118.1       3.7      0.5      1.2      77.8    6.1\n"
     ]
    }
   ],
   "source": [
    "# 1. Analyzing DataFrames and Viewing the Data.\n",
    "# One of the most used method for getting a quick overview of the DataFrame, is the head() method.\n",
    "# The head() method returns the headers and a specified number of rows, starting from the top.\n",
    "# Get a quick overview by printing the first 10 rows of the DataFrame:\n",
    "\n",
    "df = pd.read_csv('data/data_cleaned1.csv')\n",
    "print(df.head(10))"
   ]
  },
  {
   "cell_type": "code",
   "execution_count": 3,
   "id": "ee32ae18-b0a7-43b2-8fd7-4c909ca6b7ff",
   "metadata": {
    "tags": []
   },
   "outputs": [
    {
     "name": "stdout",
     "output_type": "stream",
     "text": [
      "<class 'pandas.core.frame.DataFrame'>\n",
      "RangeIndex: 4084 entries, 0 to 4083\n",
      "Data columns (total 9 columns):\n",
      " #   Column    Non-Null Count  Dtype  \n",
      "---  ------    --------------  -----  \n",
      " 0   id        4084 non-null   int64  \n",
      " 1   genetic   4084 non-null   float64\n",
      " 2   length    4084 non-null   float64\n",
      " 3   mass      4084 non-null   float64\n",
      " 4   exercise  4084 non-null   float64\n",
      " 5   smoking   4084 non-null   float64\n",
      " 6   alcohol   4084 non-null   float64\n",
      " 7   lifespan  4084 non-null   float64\n",
      " 8   sugar     4084 non-null   float64\n",
      "dtypes: float64(8), int64(1)\n",
      "memory usage: 287.3 KB\n",
      "None\n"
     ]
    },
    {
     "data": {
      "text/plain": [
       "(4084, 9)"
      ]
     },
     "execution_count": 3,
     "metadata": {},
     "output_type": "execute_result"
    }
   ],
   "source": [
    "# 2. Info About the Data\n",
    "# The DataFrames object has a method called info(), that gives you more information about the data set.\n",
    "\n",
    "df = pd.read_csv('data/data_cleaned1.csv')\n",
    "print(df.info())\n",
    "df.shape\n",
    "# Result explained in short:\n",
    "# The result tells us there are 4096 rows and 8 columns with the names of each column and their data type.\n",
    "# The info() method also is telling us how many Non-Null values there are present in each column.\n",
    "# In this DatFrame ZERO null-values."
   ]
  },
  {
   "cell_type": "code",
   "execution_count": null,
   "id": "f12232ca-431e-414c-ae17-436fe22c893f",
   "metadata": {},
   "outputs": [],
   "source": []
  },
  {
   "cell_type": "markdown",
   "id": "87783011-833d-43b8-9bff-0d1efed16216",
   "metadata": {},
   "source": [
    "<H3><B>Step 2</B>&nbsp;&nbsp;&nbsp; Apply the different techniques to clean the dataset</H3>"
   ]
  },
  {
   "cell_type": "markdown",
   "id": "43ffc9e3-a9d6-4ca4-a0a3-9c527415f606",
   "metadata": {},
   "source": [
    "<H4><B>Cleaning Data</B></H4>\n",
    "Data cleaning means fixing bad data in your data set. Bad data could be:<br>\n",
    "• Empty cells<br>\n",
    "• Data in wrong format<br>\n",
    "• Wrong data<br>\n",
    "• Duplicates<br>\n"
   ]
  },
  {
   "cell_type": "markdown",
   "id": "8528c2b1-60dd-4eb0-b1ba-0588ed703f6c",
   "metadata": {
    "tags": []
   },
   "source": [
    "<br><H4><B>Replace Wrong DataTypes</B></H4>"
   ]
  },
  {
   "cell_type": "code",
   "execution_count": 4,
   "id": "2d5bf99e-3aaf-4fb8-842c-aaa3faba8c89",
   "metadata": {},
   "outputs": [
    {
     "data": {
      "text/plain": [
       "(4084, 9)"
      ]
     },
     "execution_count": 4,
     "metadata": {},
     "output_type": "execute_result"
    }
   ],
   "source": [
    "df = df.apply(pd.to_numeric, errors='coerce')\n",
    "df.shape"
   ]
  },
  {
   "cell_type": "markdown",
   "id": "9c34b170-2ec7-482c-9e5f-041f08849feb",
   "metadata": {},
   "source": [
    "<br><H4><B>Replace NaN</B></H4>"
   ]
  },
  {
   "cell_type": "code",
   "execution_count": 5,
   "id": "0ab58f99-e794-47a8-9ffe-4325026a2561",
   "metadata": {
    "tags": []
   },
   "outputs": [
    {
     "data": {
      "text/html": [
       "<div>\n",
       "<style scoped>\n",
       "    .dataframe tbody tr th:only-of-type {\n",
       "        vertical-align: middle;\n",
       "    }\n",
       "\n",
       "    .dataframe tbody tr th {\n",
       "        vertical-align: top;\n",
       "    }\n",
       "\n",
       "    .dataframe thead th {\n",
       "        text-align: right;\n",
       "    }\n",
       "</style>\n",
       "<table border=\"1\" class=\"dataframe\">\n",
       "  <thead>\n",
       "    <tr style=\"text-align: right;\">\n",
       "      <th></th>\n",
       "      <th>id</th>\n",
       "      <th>genetic</th>\n",
       "      <th>length</th>\n",
       "      <th>mass</th>\n",
       "      <th>exercise</th>\n",
       "      <th>smoking</th>\n",
       "      <th>alcohol</th>\n",
       "      <th>lifespan</th>\n",
       "      <th>sugar</th>\n",
       "    </tr>\n",
       "  </thead>\n",
       "  <tbody>\n",
       "    <tr>\n",
       "      <th>0</th>\n",
       "      <td>1</td>\n",
       "      <td>73.9</td>\n",
       "      <td>185.0</td>\n",
       "      <td>99.7</td>\n",
       "      <td>0.9</td>\n",
       "      <td>0.0</td>\n",
       "      <td>2.4</td>\n",
       "      <td>73.1</td>\n",
       "      <td>6.9</td>\n",
       "    </tr>\n",
       "    <tr>\n",
       "      <th>1</th>\n",
       "      <td>2</td>\n",
       "      <td>86.0</td>\n",
       "      <td>172.0</td>\n",
       "      <td>105.4</td>\n",
       "      <td>1.8</td>\n",
       "      <td>8.1</td>\n",
       "      <td>0.4</td>\n",
       "      <td>85.0</td>\n",
       "      <td>4.2</td>\n",
       "    </tr>\n",
       "    <tr>\n",
       "      <th>2</th>\n",
       "      <td>3</td>\n",
       "      <td>83.3</td>\n",
       "      <td>176.0</td>\n",
       "      <td>111.4</td>\n",
       "      <td>1.1</td>\n",
       "      <td>0.8</td>\n",
       "      <td>4.6</td>\n",
       "      <td>81.6</td>\n",
       "      <td>7.5</td>\n",
       "    </tr>\n",
       "    <tr>\n",
       "      <th>3</th>\n",
       "      <td>4</td>\n",
       "      <td>82.8</td>\n",
       "      <td>164.0</td>\n",
       "      <td>111.4</td>\n",
       "      <td>4.7</td>\n",
       "      <td>11.8</td>\n",
       "      <td>1.0</td>\n",
       "      <td>81.0</td>\n",
       "      <td>2.9</td>\n",
       "    </tr>\n",
       "    <tr>\n",
       "      <th>4</th>\n",
       "      <td>5</td>\n",
       "      <td>78.7</td>\n",
       "      <td>178.0</td>\n",
       "      <td>71.6</td>\n",
       "      <td>1.5</td>\n",
       "      <td>8.3</td>\n",
       "      <td>4.9</td>\n",
       "      <td>75.0</td>\n",
       "      <td>5.5</td>\n",
       "    </tr>\n",
       "    <tr>\n",
       "      <th>...</th>\n",
       "      <td>...</td>\n",
       "      <td>...</td>\n",
       "      <td>...</td>\n",
       "      <td>...</td>\n",
       "      <td>...</td>\n",
       "      <td>...</td>\n",
       "      <td>...</td>\n",
       "      <td>...</td>\n",
       "      <td>...</td>\n",
       "    </tr>\n",
       "    <tr>\n",
       "      <th>4079</th>\n",
       "      <td>4092</td>\n",
       "      <td>80.3</td>\n",
       "      <td>176.0</td>\n",
       "      <td>115.9</td>\n",
       "      <td>3.7</td>\n",
       "      <td>0.1</td>\n",
       "      <td>5.6</td>\n",
       "      <td>80.7</td>\n",
       "      <td>5.8</td>\n",
       "    </tr>\n",
       "    <tr>\n",
       "      <th>4080</th>\n",
       "      <td>4093</td>\n",
       "      <td>75.3</td>\n",
       "      <td>162.0</td>\n",
       "      <td>129.6</td>\n",
       "      <td>3.6</td>\n",
       "      <td>6.2</td>\n",
       "      <td>5.6</td>\n",
       "      <td>71.1</td>\n",
       "      <td>7.6</td>\n",
       "    </tr>\n",
       "    <tr>\n",
       "      <th>4081</th>\n",
       "      <td>4094</td>\n",
       "      <td>93.1</td>\n",
       "      <td>189.0</td>\n",
       "      <td>115.3</td>\n",
       "      <td>2.7</td>\n",
       "      <td>9.4</td>\n",
       "      <td>4.9</td>\n",
       "      <td>90.0</td>\n",
       "      <td>6.6</td>\n",
       "    </tr>\n",
       "    <tr>\n",
       "      <th>4082</th>\n",
       "      <td>4095</td>\n",
       "      <td>77.9</td>\n",
       "      <td>170.0</td>\n",
       "      <td>90.8</td>\n",
       "      <td>2.3</td>\n",
       "      <td>13.2</td>\n",
       "      <td>0.8</td>\n",
       "      <td>75.9</td>\n",
       "      <td>6.2</td>\n",
       "    </tr>\n",
       "    <tr>\n",
       "      <th>4083</th>\n",
       "      <td>4096</td>\n",
       "      <td>101.3</td>\n",
       "      <td>188.0</td>\n",
       "      <td>129.2</td>\n",
       "      <td>1.2</td>\n",
       "      <td>8.2</td>\n",
       "      <td>6.0</td>\n",
       "      <td>96.9</td>\n",
       "      <td>6.2</td>\n",
       "    </tr>\n",
       "  </tbody>\n",
       "</table>\n",
       "<p>4084 rows × 9 columns</p>\n",
       "</div>"
      ],
      "text/plain": [
       "        id  genetic  length   mass  exercise  smoking  alcohol  lifespan  \\\n",
       "0        1     73.9   185.0   99.7       0.9      0.0      2.4      73.1   \n",
       "1        2     86.0   172.0  105.4       1.8      8.1      0.4      85.0   \n",
       "2        3     83.3   176.0  111.4       1.1      0.8      4.6      81.6   \n",
       "3        4     82.8   164.0  111.4       4.7     11.8      1.0      81.0   \n",
       "4        5     78.7   178.0   71.6       1.5      8.3      4.9      75.0   \n",
       "...    ...      ...     ...    ...       ...      ...      ...       ...   \n",
       "4079  4092     80.3   176.0  115.9       3.7      0.1      5.6      80.7   \n",
       "4080  4093     75.3   162.0  129.6       3.6      6.2      5.6      71.1   \n",
       "4081  4094     93.1   189.0  115.3       2.7      9.4      4.9      90.0   \n",
       "4082  4095     77.9   170.0   90.8       2.3     13.2      0.8      75.9   \n",
       "4083  4096    101.3   188.0  129.2       1.2      8.2      6.0      96.9   \n",
       "\n",
       "      sugar  \n",
       "0       6.9  \n",
       "1       4.2  \n",
       "2       7.5  \n",
       "3       2.9  \n",
       "4       5.5  \n",
       "...     ...  \n",
       "4079    5.8  \n",
       "4080    7.6  \n",
       "4081    6.6  \n",
       "4082    6.2  \n",
       "4083    6.2  \n",
       "\n",
       "[4084 rows x 9 columns]"
      ]
     },
     "metadata": {},
     "output_type": "display_data"
    },
    {
     "data": {
      "text/plain": [
       "(4084, 9)"
      ]
     },
     "execution_count": 5,
     "metadata": {},
     "output_type": "execute_result"
    }
   ],
   "source": [
    "display(df[df.select_dtypes(include=[np.number]).ge(0).all(1)])\n",
    "df2=(df[df.select_dtypes(include=[np.number]).ge(0).all(1)])\n",
    "df2.shape"
   ]
  },
  {
   "cell_type": "markdown",
   "id": "2f4a4a6e-5eff-4483-9c3c-a8ef5e0791e0",
   "metadata": {},
   "source": [
    "<br><H4><B>Discover Duplicates</B></H4>"
   ]
  },
  {
   "cell_type": "code",
   "execution_count": 6,
   "id": "cf5ff418-4121-4e0b-ab36-969cb1b5283b",
   "metadata": {
    "tags": []
   },
   "outputs": [
    {
     "name": "stdout",
     "output_type": "stream",
     "text": [
      "0       False\n",
      "1       False\n",
      "2       False\n",
      "3       False\n",
      "4       False\n",
      "        ...  \n",
      "4079    False\n",
      "4080    False\n",
      "4081    False\n",
      "4082    False\n",
      "4083    False\n",
      "Length: 4084, dtype: bool\n"
     ]
    }
   ],
   "source": [
    "# To discover duplicates, we can use the duplicated() method.\n",
    "# The duplicated() method returns a Boolean values for each row:\n",
    "print(df2.duplicated())\n",
    "# NOTE: There seems to be no duplicates at all."
   ]
  },
  {
   "cell_type": "markdown",
   "id": "05181c5e-41de-45df-951f-926a4c853bf8",
   "metadata": {},
   "source": [
    "<br><H4><B>Print INFO</B></H4>"
   ]
  },
  {
   "cell_type": "code",
   "execution_count": 7,
   "id": "e1d2760e-06e5-4eeb-ac09-27d02ab46883",
   "metadata": {},
   "outputs": [
    {
     "data": {
      "text/plain": [
       "<bound method DataFrame.info of         id  genetic  length   mass  exercise  smoking  alcohol  lifespan  \\\n",
       "0        1     73.9   185.0   99.7       0.9      0.0      2.4      73.1   \n",
       "1        2     86.0   172.0  105.4       1.8      8.1      0.4      85.0   \n",
       "2        3     83.3   176.0  111.4       1.1      0.8      4.6      81.6   \n",
       "3        4     82.8   164.0  111.4       4.7     11.8      1.0      81.0   \n",
       "4        5     78.7   178.0   71.6       1.5      8.3      4.9      75.0   \n",
       "...    ...      ...     ...    ...       ...      ...      ...       ...   \n",
       "4079  4092     80.3   176.0  115.9       3.7      0.1      5.6      80.7   \n",
       "4080  4093     75.3   162.0  129.6       3.6      6.2      5.6      71.1   \n",
       "4081  4094     93.1   189.0  115.3       2.7      9.4      4.9      90.0   \n",
       "4082  4095     77.9   170.0   90.8       2.3     13.2      0.8      75.9   \n",
       "4083  4096    101.3   188.0  129.2       1.2      8.2      6.0      96.9   \n",
       "\n",
       "      sugar  \n",
       "0       6.9  \n",
       "1       4.2  \n",
       "2       7.5  \n",
       "3       2.9  \n",
       "4       5.5  \n",
       "...     ...  \n",
       "4079    5.8  \n",
       "4080    7.6  \n",
       "4081    6.6  \n",
       "4082    6.2  \n",
       "4083    6.2  \n",
       "\n",
       "[4084 rows x 9 columns]>"
      ]
     },
     "execution_count": 7,
     "metadata": {},
     "output_type": "execute_result"
    }
   ],
   "source": [
    "df2.info"
   ]
  },
  {
   "cell_type": "markdown",
   "id": "122480b2-e158-471a-8b91-ba738bb51d6f",
   "metadata": {},
   "source": [
    "<H3><B>Outliers</B></H3>&nbsp;&nbsp;&nbsp;"
   ]
  },
  {
   "cell_type": "code",
   "execution_count": 8,
   "id": "15d06071-f7ba-4947-b3e1-e64a2353e272",
   "metadata": {},
   "outputs": [
    {
     "data": {
      "image/png": "[encoded data removed]",
      "text/plain": [
       "<Figure size 640x480 with 1 Axes>"
      ]
     },
     "metadata": {},
     "output_type": "display_data"
    }
   ],
   "source": [
    "df3 = df2.boxplot(vert = False)\n",
    "plt.show()"
   ]
  },
  {
   "cell_type": "code",
   "execution_count": 9,
   "id": "39f01d06-3b79-4524-a9b0-32a2067da884",
   "metadata": {
    "tags": []
   },
   "outputs": [
    {
     "data": {
      "image/png": "[encoded data removed]",
      "text/plain": [
       "<Figure size 640x480 with 1 Axes>"
      ]
     },
     "metadata": {},
     "output_type": "display_data"
    }
   ],
   "source": [
    "plt.subplot(3, 1, 1)\n",
    "df3 = df2.boxplot(['lifespan'], vert = False)\n",
    "plt.show()"
   ]
  },
  {
   "cell_type": "code",
   "execution_count": 10,
   "id": "3694535c-cac0-4d4f-bfd5-f8b47c240d2e",
   "metadata": {
    "tags": []
   },
   "outputs": [
    {
     "data": {
      "image/png": "[encoded data removed]",
      "text/plain": [
       "<Figure size 640x480 with 1 Axes>"
      ]
     },
     "metadata": {},
     "output_type": "display_data"
    }
   ],
   "source": [
    "plt.subplot(3, 1, 2)\n",
    "df3 = df2.boxplot(['genetic'], vert = False)\n",
    "plt.show()"
   ]
  },
  {
   "cell_type": "code",
   "execution_count": 11,
   "id": "f2a0e000-ced9-4002-9612-702fda681ba5",
   "metadata": {
    "tags": []
   },
   "outputs": [
    {
     "data": {
      "image/png": "[encoded data removed]",
      "text/plain": [
       "<Figure size 640x480 with 1 Axes>"
      ]
     },
     "metadata": {},
     "output_type": "display_data"
    }
   ],
   "source": [
    "plt.subplot(3, 1, 3)\n",
    "df3 = df2.boxplot(['mass'], vert = False)\n",
    "plt.show()"
   ]
  },
  {
   "cell_type": "markdown",
   "id": "1a417fc6-15df-4815-9418-69fdbc0d6269",
   "metadata": {},
   "source": [
    "<br><i><B>NOTE:</B> There are not any outliers that require te be altered or delete its index (row). We left these in because we believe the outliers are not unrealistic.</i>"
   ]
  },
  {
   "cell_type": "markdown",
   "id": "b541cbfc-9cb7-4df9-9349-b9f8957cb5dc",
   "metadata": {},
   "source": [
    "<H4><B>Saving transformed DataFrame</B></H4>"
   ]
  },
  {
   "cell_type": "code",
   "execution_count": 13,
   "id": "dd614698-3769-43fa-a19c-0bac4e567833",
   "metadata": {},
   "outputs": [],
   "source": [
    "df2.to_csv('data/data_cleaned2.csv', header=True, index=False)"
   ]
  }
 ],
 "metadata": {
  "kernelspec": {
   "display_name": "Python 3 (ipykernel)",
   "language": "python",
   "name": "python3"
  },
  "language_info": {
   "codemirror_mode": {
    "name": "ipython",
    "version": 3
   },
   "file_extension": ".py",
   "mimetype": "text/x-python",
   "name": "python",
   "nbconvert_exporter": "python",
   "pygments_lexer": "ipython3",
   "version": "3.11.1"
  }
 },
 "nbformat": 4,
 "nbformat_minor": 5
}
