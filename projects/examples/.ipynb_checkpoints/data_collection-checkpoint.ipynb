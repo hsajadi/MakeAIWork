{
 "cells": [
  {
   "cell_type": "markdown",
   "id": "49c3dc29-66bf-4663-8439-08f1fa98f871",
   "metadata": {},
   "source": [
    "<div>\n",
    "    <img src='pics/banner.PNG'/>\n",
    "</div>\n",
    "<div>\n",
    "    <img width=\"10%\" height=\"10%\" src='pics/python-programming.png'/>\n",
    "    <img src='pics/miw.PNG'/>\n",
    "</div>\n",
    "<div>\n",
    "    <em>Author: Jeroen Boogaard</em>\n",
    "</div>"
   ]
  },
  {
   "cell_type": "markdown",
   "id": "2dead3f3-b6e8-4528-a00d-e53be157bf3e",
   "metadata": {},
   "source": [
    "<h2>Imports<h2>"
   ]
  },
  {
   "cell_type": "code",
   "execution_count": null,
   "id": "cb4ceef7-a3dd-4b2f-a57f-593190911236",
   "metadata": {
    "tags": []
   },
   "outputs": [
    {
     "name": "stdout",
     "output_type": "stream",
     "text": [
      "Requirement already satisfied: aiofiles==22.1.0 in /home/jaboo/miniconda3/lib/python3.9/site-packages (from -r requirements.txt (line 1)) (22.1.0)\n",
      "Requirement already satisfied: aiosqlite==0.18.0 in /home/jaboo/miniconda3/lib/python3.9/site-packages (from -r requirements.txt (line 2)) (0.18.0)\n",
      "Requirement already satisfied: anyio==3.6.2 in /home/jaboo/miniconda3/lib/python3.9/site-packages (from -r requirements.txt (line 3)) (3.6.2)\n",
      "Collecting appdirs==1.4.4\n",
      "  Using cached appdirs-1.4.4-py2.py3-none-any.whl (9.6 kB)\n",
      "Requirement already satisfied: argon2-cffi==21.3.0 in /home/jaboo/miniconda3/lib/python3.9/site-packages (from -r requirements.txt (line 5)) (21.3.0)\n",
      "Requirement already satisfied: argon2-cffi-bindings==21.2.0 in /home/jaboo/miniconda3/lib/python3.9/site-packages (from -r requirements.txt (line 6)) (21.2.0)\n",
      "Requirement already satisfied: arrow==1.2.3 in /home/jaboo/miniconda3/lib/python3.9/site-packages (from -r requirements.txt (line 7)) (1.2.3)\n",
      "Collecting asgiref==3.6.0\n",
      "  Downloading asgiref-3.6.0-py3-none-any.whl (23 kB)\n",
      "Requirement already satisfied: asttokens==2.2.1 in /home/jaboo/miniconda3/lib/python3.9/site-packages (from -r requirements.txt (line 9)) (2.2.1)\n",
      "Requirement already satisfied: attrs==22.2.0 in /home/jaboo/miniconda3/lib/python3.9/site-packages (from -r requirements.txt (line 10)) (22.2.0)\n",
      "Requirement already satisfied: Babel==2.12.1 in /home/jaboo/miniconda3/lib/python3.9/site-packages (from -r requirements.txt (line 11)) (2.12.1)\n",
      "Requirement already satisfied: backcall==0.2.0 in /home/jaboo/miniconda3/lib/python3.9/site-packages (from -r requirements.txt (line 12)) (0.2.0)\n",
      "Requirement already satisfied: beautifulsoup4==4.11.2 in /home/jaboo/miniconda3/lib/python3.9/site-packages (from -r requirements.txt (line 13)) (4.11.2)\n",
      "Requirement already satisfied: bleach==6.0.0 in /home/jaboo/miniconda3/lib/python3.9/site-packages (from -r requirements.txt (line 14)) (6.0.0)\n",
      "Collecting blosc2==2.0.0\n",
      "  Downloading blosc2-2.0.0-cp39-cp39-manylinux_2_17_aarch64.manylinux2014_aarch64.whl (3.8 MB)\n",
      "\u001b[2K     \u001b[38;2;114;156;31m━━━━━━━━━━━━━━━━━━━━━━━━━━━━━━━━━━━━━━━━\u001b[0m \u001b[32m3.8/3.8 MB\u001b[0m \u001b[31m4.0 MB/s\u001b[0m eta \u001b[36m0:00:00\u001b[0m[36m0:00:01\u001b[0mm eta \u001b[36m0:00:01\u001b[0mm\n",
      "\u001b[?25hRequirement already satisfied: certifi==2022.12.7 in /home/jaboo/miniconda3/lib/python3.9/site-packages (from -r requirements.txt (line 16)) (2022.12.7)\n",
      "Requirement already satisfied: cffi==1.15.1 in /home/jaboo/miniconda3/lib/python3.9/site-packages (from -r requirements.txt (line 17)) (1.15.1)\n",
      "Collecting charset-normalizer==3.0.1\n",
      "  Downloading charset_normalizer-3.0.1-cp39-cp39-manylinux_2_17_aarch64.manylinux2014_aarch64.whl (195 kB)\n",
      "\u001b[2K     \u001b[38;2;114;156;31m━━━━━━━━━━━━━━━━━━━━━━━━━━━━━━━━━━━━━━\u001b[0m \u001b[32m195.6/195.6 kB\u001b[0m \u001b[31m45.7 MB/s\u001b[0m eta \u001b[36m0:00:00\u001b[0m\n",
      "\u001b[?25hRequirement already satisfied: comm==0.1.2 in /home/jaboo/miniconda3/lib/python3.9/site-packages (from -r requirements.txt (line 19)) (0.1.2)\n",
      "Collecting contourpy==1.0.7\n",
      "  Downloading contourpy-1.0.7-cp39-cp39-manylinux_2_17_aarch64.manylinux2014_aarch64.whl (283 kB)\n",
      "\u001b[2K     \u001b[38;2;114;156;31m━━━━━━━━━━━━━━━━━━━━━━━━━━━━━━━━━━━━━━\u001b[0m \u001b[32m283.2/283.2 kB\u001b[0m \u001b[31m30.3 MB/s\u001b[0m eta \u001b[36m0:00:00\u001b[0m\n",
      "\u001b[?25hRequirement already satisfied: cycler==0.11.0 in /home/jaboo/miniconda3/lib/python3.9/site-packages (from -r requirements.txt (line 21)) (0.11.0)\n",
      "Collecting Cython==0.29.33\n",
      "  Downloading Cython-0.29.33-cp39-cp39-manylinux_2_17_aarch64.manylinux2014_aarch64.manylinux_2_24_aarch64.whl (1.8 MB)\n",
      "\u001b[2K     \u001b[38;2;114;156;31m━━━━━━━━━━━━━━━━━━━━━━━━━━━━━━━━━━━━━━━━\u001b[0m \u001b[32m1.8/1.8 MB\u001b[0m \u001b[31m24.9 MB/s\u001b[0m eta \u001b[36m0:00:00\u001b[0m31m26.3 MB/s\u001b[0m eta \u001b[36m0:00:01\u001b[0m\n",
      "\u001b[?25hRequirement already satisfied: debugpy==1.6.6 in /home/jaboo/miniconda3/lib/python3.9/site-packages (from -r requirements.txt (line 23)) (1.6.6)\n",
      "Requirement already satisfied: decorator==5.1.1 in /home/jaboo/miniconda3/lib/python3.9/site-packages (from -r requirements.txt (line 24)) (5.1.1)\n",
      "Requirement already satisfied: defusedxml==0.7.1 in /home/jaboo/miniconda3/lib/python3.9/site-packages (from -r requirements.txt (line 25)) (0.7.1)\n",
      "Collecting Django==4.1.7\n",
      "  Downloading Django-4.1.7-py3-none-any.whl (8.1 MB)\n",
      "\u001b[2K     \u001b[38;2;114;156;31m━━━━━━━━━━━━━━━━━━━━━━━━━━━━━━━━━━━━━━━━\u001b[0m \u001b[32m8.1/8.1 MB\u001b[0m \u001b[31m31.2 MB/s\u001b[0m eta \u001b[36m0:00:00\u001b[0mm eta \u001b[36m0:00:01\u001b[0m[36m0:00:01\u001b[0m\n",
      "\u001b[?25hCollecting djangorestframework==3.14.0\n",
      "  Downloading djangorestframework-3.14.0-py3-none-any.whl (1.1 MB)\n",
      "\u001b[2K     \u001b[38;2;114;156;31m━━━━━━━━━━━━━━━━━━━━━━━━━━━━━━━━━━━━━━━━\u001b[0m \u001b[32m1.1/1.1 MB\u001b[0m \u001b[31m28.4 MB/s\u001b[0m eta \u001b[36m0:00:00\u001b[0mm eta \u001b[36m0:00:01\u001b[0m\n",
      "\u001b[?25hRequirement already satisfied: executing==1.2.0 in /home/jaboo/miniconda3/lib/python3.9/site-packages (from -r requirements.txt (line 28)) (1.2.0)\n",
      "Requirement already satisfied: fastjsonschema==2.16.3 in /home/jaboo/miniconda3/lib/python3.9/site-packages (from -r requirements.txt (line 29)) (2.16.3)\n",
      "Collecting fonttools==4.38.0\n",
      "  Downloading fonttools-4.38.0-py3-none-any.whl (965 kB)\n",
      "\u001b[2K     \u001b[38;2;114;156;31m━━━━━━━━━━━━━━━━━━━━━━━━━━━━━━━━━━━━━━\u001b[0m \u001b[32m965.4/965.4 kB\u001b[0m \u001b[31m27.7 MB/s\u001b[0m eta \u001b[36m0:00:00\u001b[0mm eta \u001b[36m0:00:01\u001b[0m\n",
      "\u001b[?25hRequirement already satisfied: fqdn==1.5.1 in /home/jaboo/miniconda3/lib/python3.9/site-packages (from -r requirements.txt (line 31)) (1.5.1)\n",
      "Requirement already satisfied: idna==3.4 in /home/jaboo/miniconda3/lib/python3.9/site-packages (from -r requirements.txt (line 32)) (3.4)\n",
      "Collecting ipykernel==6.21.2\n",
      "  Using cached ipykernel-6.21.2-py3-none-any.whl (149 kB)\n",
      "Requirement already satisfied: ipython==8.11.0 in /home/jaboo/miniconda3/lib/python3.9/site-packages (from -r requirements.txt (line 34)) (8.11.0)\n",
      "Requirement already satisfied: ipython-genutils==0.2.0 in /home/jaboo/miniconda3/lib/python3.9/site-packages (from -r requirements.txt (line 35)) (0.2.0)\n",
      "Requirement already satisfied: isoduration==20.11.0 in /home/jaboo/miniconda3/lib/python3.9/site-packages (from -r requirements.txt (line 36)) (20.11.0)\n",
      "Requirement already satisfied: jedi==0.18.2 in /home/jaboo/miniconda3/lib/python3.9/site-packages (from -r requirements.txt (line 37)) (0.18.2)\n",
      "Requirement already satisfied: Jinja2==3.1.2 in /home/jaboo/miniconda3/lib/python3.9/site-packages (from -r requirements.txt (line 38)) (3.1.2)\n",
      "Requirement already satisfied: json5==0.9.11 in /home/jaboo/miniconda3/lib/python3.9/site-packages (from -r requirements.txt (line 39)) (0.9.11)\n",
      "Requirement already satisfied: jsonpointer==2.3 in /home/jaboo/miniconda3/lib/python3.9/site-packages (from -r requirements.txt (line 40)) (2.3)\n",
      "Requirement already satisfied: jsonschema==4.17.3 in /home/jaboo/miniconda3/lib/python3.9/site-packages (from -r requirements.txt (line 41)) (4.17.3)\n",
      "Requirement already satisfied: jupyter-events==0.6.3 in /home/jaboo/miniconda3/lib/python3.9/site-packages (from -r requirements.txt (line 42)) (0.6.3)\n",
      "Requirement already satisfied: jupyter-ydoc==0.2.2 in /home/jaboo/miniconda3/lib/python3.9/site-packages (from -r requirements.txt (line 43)) (0.2.2)\n",
      "Requirement already satisfied: jupyter_client==8.0.3 in /home/jaboo/miniconda3/lib/python3.9/site-packages (from -r requirements.txt (line 44)) (8.0.3)\n",
      "Requirement already satisfied: jupyter_core==5.2.0 in /home/jaboo/miniconda3/lib/python3.9/site-packages (from -r requirements.txt (line 45)) (5.2.0)\n",
      "Requirement already satisfied: jupyter_server==2.3.0 in /home/jaboo/miniconda3/lib/python3.9/site-packages (from -r requirements.txt (line 46)) (2.3.0)\n",
      "Requirement already satisfied: jupyter_server_fileid==0.8.0 in /home/jaboo/miniconda3/lib/python3.9/site-packages (from -r requirements.txt (line 47)) (0.8.0)\n",
      "Requirement already satisfied: jupyter_server_terminals==0.4.4 in /home/jaboo/miniconda3/lib/python3.9/site-packages (from -r requirements.txt (line 48)) (0.4.4)\n",
      "Requirement already satisfied: jupyter_server_ydoc==0.6.1 in /home/jaboo/miniconda3/lib/python3.9/site-packages (from -r requirements.txt (line 49)) (0.6.1)\n",
      "Requirement already satisfied: jupyterlab==3.6.1 in /home/jaboo/miniconda3/lib/python3.9/site-packages (from -r requirements.txt (line 50)) (3.6.1)\n",
      "Requirement already satisfied: jupyterlab-pygments==0.2.2 in /home/jaboo/miniconda3/lib/python3.9/site-packages (from -r requirements.txt (line 51)) (0.2.2)\n",
      "Collecting jupyterlab-widgets==3.0.5\n",
      "  Using cached jupyterlab_widgets-3.0.5-py3-none-any.whl (384 kB)\n",
      "Collecting jupyterlab_server==2.19.0\n",
      "  Using cached jupyterlab_server-2.19.0-py3-none-any.whl (56 kB)\n",
      "Requirement already satisfied: kiwisolver==1.4.4 in /home/jaboo/miniconda3/lib/python3.9/site-packages (from -r requirements.txt (line 54)) (1.4.4)\n",
      "Requirement already satisfied: MarkupSafe==2.1.2 in /home/jaboo/miniconda3/lib/python3.9/site-packages (from -r requirements.txt (line 55)) (2.1.2)\n",
      "Collecting matplotlib==3.7.1\n",
      "  Downloading matplotlib-3.7.1-cp39-cp39-manylinux_2_17_aarch64.manylinux2014_aarch64.whl (11.3 MB)\n",
      "\u001b[2K     \u001b[38;2;114;156;31m━━━━━━━━━━━━━━━━━━━━━━━━━━━━━━━━━━━━━━━━\u001b[0m \u001b[32m11.3/11.3 MB\u001b[0m \u001b[31m25.5 MB/s\u001b[0m eta \u001b[36m0:00:00\u001b[0mm eta \u001b[36m0:00:01\u001b[0m[36m0:00:01\u001b[0m\n",
      "\u001b[?25hRequirement already satisfied: matplotlib-inline==0.1.6 in /home/jaboo/miniconda3/lib/python3.9/site-packages (from -r requirements.txt (line 57)) (0.1.6)\n",
      "Collecting matplotlib-venn==0.11.9\n",
      "  Downloading matplotlib-venn-0.11.9.tar.gz (30 kB)\n",
      "  Installing build dependencies: started\n",
      "  Installing build dependencies: finished with status 'done'\n",
      "  Getting requirements to build wheel: started\n",
      "  Getting requirements to build wheel: finished with status 'done'\n",
      "  Installing backend dependencies: started\n",
      "  Installing backend dependencies: finished with status 'done'\n",
      "  Preparing metadata (pyproject.toml): started\n",
      "  Preparing metadata (pyproject.toml): finished with status 'done'\n",
      "Requirement already satisfied: mistune==2.0.5 in /home/jaboo/miniconda3/lib/python3.9/site-packages (from -r requirements.txt (line 59)) (2.0.5)\n",
      "Collecting mpmath==1.2.1\n",
      "  Downloading mpmath-1.2.1-py3-none-any.whl (532 kB)\n",
      "\u001b[2K     \u001b[38;2;114;156;31m━━━━━━━━━━━━━━━━━━━━━━━━━━━━━━━━━━━━━━\u001b[0m \u001b[32m532.6/532.6 kB\u001b[0m \u001b[31m27.6 MB/s\u001b[0m eta \u001b[36m0:00:00\u001b[0m\n",
      "\u001b[?25hCollecting msgpack==1.0.4\n",
      "  Downloading msgpack-1.0.4-cp39-cp39-manylinux_2_17_aarch64.manylinux2014_aarch64.whl (313 kB)\n",
      "\u001b[2K     \u001b[38;2;114;156;31m━━━━━━━━━━━━━━━━━━━━━━━━━━━━━━━━━━━━━━\u001b[0m \u001b[32m313.6/313.6 kB\u001b[0m \u001b[31m26.3 MB/s\u001b[0m eta \u001b[36m0:00:00\u001b[0m\n",
      "\u001b[?25hCollecting nbclassic==0.5.2\n",
      "  Using cached nbclassic-0.5.2-py3-none-any.whl (10.0 MB)\n",
      "Requirement already satisfied: nbclient==0.7.2 in /home/jaboo/miniconda3/lib/python3.9/site-packages (from -r requirements.txt (line 63)) (0.7.2)\n",
      "Requirement already satisfied: nbconvert==7.2.9 in /home/jaboo/miniconda3/lib/python3.9/site-packages (from -r requirements.txt (line 64)) (7.2.9)\n",
      "Requirement already satisfied: nbformat==5.7.3 in /home/jaboo/miniconda3/lib/python3.9/site-packages (from -r requirements.txt (line 65)) (5.7.3)\n",
      "Requirement already satisfied: nest-asyncio==1.5.6 in /home/jaboo/miniconda3/lib/python3.9/site-packages (from -r requirements.txt (line 66)) (1.5.6)\n",
      "Collecting notebook==6.5.2\n",
      "  Using cached notebook-6.5.2-py3-none-any.whl (439 kB)\n",
      "Requirement already satisfied: notebook_shim==0.2.2 in /home/jaboo/miniconda3/lib/python3.9/site-packages (from -r requirements.txt (line 68)) (0.2.2)\n",
      "Requirement already satisfied: numexpr==2.8.4 in /home/jaboo/miniconda3/lib/python3.9/site-packages (from -r requirements.txt (line 69)) (2.8.4)\n",
      "Requirement already satisfied: numpy==1.24.2 in /home/jaboo/miniconda3/lib/python3.9/site-packages (from -r requirements.txt (line 70)) (1.24.2)\n",
      "Collecting oauthlib==3.2.2\n",
      "  Downloading oauthlib-3.2.2-py3-none-any.whl (151 kB)\n",
      "\u001b[2K     \u001b[38;2;114;156;31m━━━━━━━━━━━━━━━━━━━━━━━━━━━━━━━━━━━━━━\u001b[0m \u001b[32m151.7/151.7 kB\u001b[0m \u001b[31m25.3 MB/s\u001b[0m eta \u001b[36m0:00:00\u001b[0m\n",
      "\u001b[?25hRequirement already satisfied: packaging==23.0 in /home/jaboo/miniconda3/lib/python3.9/site-packages (from -r requirements.txt (line 72)) (23.0)\n",
      "Requirement already satisfied: pandas==1.5.3 in /home/jaboo/miniconda3/lib/python3.9/site-packages (from -r requirements.txt (line 73)) (1.5.3)\n",
      "Requirement already satisfied: pandocfilters==1.5.0 in /home/jaboo/miniconda3/lib/python3.9/site-packages (from -r requirements.txt (line 74)) (1.5.0)\n",
      "Requirement already satisfied: parso==0.8.3 in /home/jaboo/miniconda3/lib/python3.9/site-packages (from -r requirements.txt (line 75)) (0.8.3)\n",
      "Collecting patsy==0.5.3\n",
      "  Downloading patsy-0.5.3-py2.py3-none-any.whl (233 kB)\n",
      "\u001b[2K     \u001b[38;2;114;156;31m━━━━━━━━━━━━━━━━━━━━━━━━━━━━━━━━━━━━━━\u001b[0m \u001b[32m233.8/233.8 kB\u001b[0m \u001b[31m14.9 MB/s\u001b[0m eta \u001b[36m0:00:00\u001b[0m\n",
      "\u001b[?25hRequirement already satisfied: pexpect==4.8.0 in /home/jaboo/miniconda3/lib/python3.9/site-packages (from -r requirements.txt (line 77)) (4.8.0)\n",
      "Requirement already satisfied: pickleshare==0.7.5 in /home/jaboo/miniconda3/lib/python3.9/site-packages (from -r requirements.txt (line 78)) (0.7.5)\n",
      "Requirement already satisfied: Pillow==9.4.0 in /home/jaboo/miniconda3/lib/python3.9/site-packages (from -r requirements.txt (line 79)) (9.4.0)\n",
      "Requirement already satisfied: platformdirs==3.1.0 in /home/jaboo/miniconda3/lib/python3.9/site-packages (from -r requirements.txt (line 80)) (3.1.0)\n",
      "Requirement already satisfied: prometheus-client==0.16.0 in /home/jaboo/miniconda3/lib/python3.9/site-packages (from -r requirements.txt (line 81)) (0.16.0)\n",
      "Requirement already satisfied: prompt-toolkit==3.0.38 in /home/jaboo/miniconda3/lib/python3.9/site-packages (from -r requirements.txt (line 82)) (3.0.38)\n",
      "Requirement already satisfied: psutil==5.9.4 in /home/jaboo/miniconda3/lib/python3.9/site-packages (from -r requirements.txt (line 83)) (5.9.4)\n",
      "Collecting ptpython==3.0.23\n",
      "  Using cached ptpython-3.0.23-py2.py3-none-any.whl (63 kB)\n",
      "Requirement already satisfied: ptyprocess==0.7.0 in /home/jaboo/miniconda3/lib/python3.9/site-packages (from -r requirements.txt (line 85)) (0.7.0)\n",
      "Requirement already satisfied: pure-eval==0.2.2 in /home/jaboo/miniconda3/lib/python3.9/site-packages (from -r requirements.txt (line 86)) (0.2.2)\n",
      "Collecting py-cpuinfo==9.0.0\n",
      "  Downloading py_cpuinfo-9.0.0-py3-none-any.whl (22 kB)\n",
      "Requirement already satisfied: pycparser==2.21 in /home/jaboo/miniconda3/lib/python3.9/site-packages (from -r requirements.txt (line 88)) (2.21)\n",
      "Requirement already satisfied: Pygments==2.14.0 in /home/jaboo/miniconda3/lib/python3.9/site-packages (from -r requirements.txt (line 89)) (2.14.0)\n",
      "Requirement already satisfied: pyparsing==3.0.9 in /home/jaboo/miniconda3/lib/python3.9/site-packages (from -r requirements.txt (line 90)) (3.0.9)\n",
      "Requirement already satisfied: pyrsistent==0.19.3 in /home/jaboo/miniconda3/lib/python3.9/site-packages (from -r requirements.txt (line 91)) (0.19.3)\n",
      "Collecting pysqlite3==0.5.0\n",
      "  Downloading pysqlite3-0.5.0.tar.gz (40 kB)\n",
      "\u001b[2K     \u001b[38;2;114;156;31m━━━━━━━━━━━━━━━━━━━━━━━━━━━━━━━━━━━━━━━━\u001b[0m \u001b[32m40.1/40.1 kB\u001b[0m \u001b[31m26.7 MB/s\u001b[0m eta \u001b[36m0:00:00\u001b[0m\n",
      "\u001b[?25h  Preparing metadata (setup.py): started\n",
      "  Preparing metadata (setup.py): finished with status 'done'\n",
      "Requirement already satisfied: python-dateutil==2.8.2 in /home/jaboo/miniconda3/lib/python3.9/site-packages (from -r requirements.txt (line 93)) (2.8.2)\n",
      "Requirement already satisfied: python-json-logger==2.0.7 in /home/jaboo/miniconda3/lib/python3.9/site-packages (from -r requirements.txt (line 94)) (2.0.7)\n",
      "Collecting Python-Rest-Framework==0.3.14\n",
      "  Downloading Python-Rest-Framework-0.3.14.tar.gz (28 kB)\n",
      "  Preparing metadata (setup.py): started\n",
      "  Preparing metadata (setup.py): finished with status 'done'\n",
      "Collecting pytz==2022.7.1\n",
      "  Downloading pytz-2022.7.1-py2.py3-none-any.whl (499 kB)\n",
      "\u001b[2K     \u001b[38;2;114;156;31m━━━━━━━━━━━━━━━━━━━━━━━━━━━━━━━━━━━━━━\u001b[0m \u001b[32m499.4/499.4 kB\u001b[0m \u001b[31m27.3 MB/s\u001b[0m eta \u001b[36m0:00:00\u001b[0m\n",
      "\u001b[?25hRequirement already satisfied: PyYAML==6.0 in /home/jaboo/miniconda3/lib/python3.9/site-packages (from -r requirements.txt (line 97)) (6.0)\n",
      "Requirement already satisfied: pyzmq==25.0.0 in /home/jaboo/miniconda3/lib/python3.9/site-packages (from -r requirements.txt (line 98)) (25.0.0)\n",
      "Collecting requests==2.28.2\n",
      "  Using cached requests-2.28.2-py3-none-any.whl (62 kB)\n",
      "Collecting requests-file==1.5.1\n",
      "  Downloading requests_file-1.5.1-py2.py3-none-any.whl (3.7 kB)\n",
      "Collecting requests-oauthlib==1.3.1\n",
      "  Downloading requests_oauthlib-1.3.1-py2.py3-none-any.whl (23 kB)\n",
      "Requirement already satisfied: rfc3339-validator==0.1.4 in /home/jaboo/miniconda3/lib/python3.9/site-packages (from -r requirements.txt (line 102)) (0.1.4)\n",
      "Requirement already satisfied: rfc3986-validator==0.1.1 in /home/jaboo/miniconda3/lib/python3.9/site-packages (from -r requirements.txt (line 103)) (0.1.1)\n",
      "Collecting scipy==1.10.1\n",
      "  Downloading scipy-1.10.1-cp39-cp39-manylinux_2_17_aarch64.manylinux2014_aarch64.whl (31.0 MB)\n",
      "\u001b[2K     \u001b[38;2;114;156;31m━━━━━━━━━━━━━━━━━━━━━━━━━━━━━━━━━━━━━━━━\u001b[0m \u001b[32m31.0/31.0 MB\u001b[0m \u001b[31m28.2 MB/s\u001b[0m eta \u001b[36m0:00:00\u001b[0mm eta \u001b[36m0:00:01\u001b[0m[36m0:00:01\u001b[0m\n",
      "\u001b[?25hCollecting seaborn==0.12.2\n",
      "  Downloading seaborn-0.12.2-py3-none-any.whl (293 kB)\n",
      "\u001b[2K     \u001b[38;2;114;156;31m━━━━━━━━━━━━━━━━━━━━━━━━━━━━━━━━━━━━━━\u001b[0m \u001b[32m293.3/293.3 kB\u001b[0m \u001b[31m20.1 MB/s\u001b[0m eta \u001b[36m0:00:00\u001b[0m\n",
      "\u001b[?25hRequirement already satisfied: Send2Trash==1.8.0 in /home/jaboo/miniconda3/lib/python3.9/site-packages (from -r requirements.txt (line 106)) (1.8.0)\n",
      "Requirement already satisfied: six==1.16.0 in /home/jaboo/miniconda3/lib/python3.9/site-packages (from -r requirements.txt (line 107)) (1.16.0)\n",
      "Requirement already satisfied: sniffio==1.3.0 in /home/jaboo/miniconda3/lib/python3.9/site-packages (from -r requirements.txt (line 108)) (1.3.0)\n",
      "Requirement already satisfied: soupsieve==2.4 in /home/jaboo/miniconda3/lib/python3.9/site-packages (from -r requirements.txt (line 109)) (2.4)\n",
      "Collecting sqlparse==0.4.3\n",
      "  Downloading sqlparse-0.4.3-py3-none-any.whl (42 kB)\n",
      "\u001b[2K     \u001b[38;2;114;156;31m━━━━━━━━━━━━━━━━━━━━━━━━━━━━━━━━━━━━━━━━\u001b[0m \u001b[32m42.8/42.8 kB\u001b[0m \u001b[31m30.6 MB/s\u001b[0m eta \u001b[36m0:00:00\u001b[0m\n",
      "\u001b[?25hRequirement already satisfied: stack-data==0.6.2 in /home/jaboo/miniconda3/lib/python3.9/site-packages (from -r requirements.txt (line 111)) (0.6.2)\n",
      "Collecting statsmodels==0.13.5\n",
      "  Downloading statsmodels-0.13.5-cp39-cp39-manylinux_2_17_aarch64.manylinux2014_aarch64.whl (9.6 MB)\n",
      "\u001b[2K     \u001b[38;2;249;38;114m━━━━━━━━\u001b[0m\u001b[38;2;249;38;114m╸\u001b[0m\u001b[38;5;237m━━━━━━━━━━━━━━━━━━━━━━━━━━━━━━━\u001b[0m \u001b[32m2.2/9.6 MB\u001b[0m \u001b[31m32.6 MB/s\u001b[0m eta \u001b[36m0:00:01\u001b[0m"
     ]
    }
   ],
   "source": [
    "from os import system as sys\n",
    "sys('pip list | grep django || pip install --upgrade -r requirements.txt')"
   ]
  },
  {
   "cell_type": "code",
   "execution_count": 59,
   "id": "aefe8f36-d422-4cb9-b302-882954032426",
   "metadata": {
    "tags": []
   },
   "outputs": [],
   "source": [
    "import pandas as pd\n",
    "import requests\n",
    "import sqlite3"
   ]
  },
  {
   "cell_type": "markdown",
   "id": "15e80288-e20d-4bbe-adf5-56f9ed9791f6",
   "metadata": {},
   "source": [
    "<h3>Global variables</h3>"
   ]
  },
  {
   "cell_type": "code",
   "execution_count": 60,
   "id": "955a3dce-30a3-4945-96d9-20472ed44e22",
   "metadata": {},
   "outputs": [],
   "source": [
    "dbName = \"rest_server/medisch_centrum_randstad/db.sqlite3\"\n",
    "tableName = \"rest_api_netlify\"\n",
    "url = \"http://localhost:8080/medish_centrum_randstad/api/netlify?page=1\"\n",
    "csvFile = \"rest_server/medisch_centrum_randstad/data/data.csv\""
   ]
  },
  {
   "cell_type": "markdown",
   "id": "0d63c78d-f840-4121-84b4-f933db4b8ca5",
   "metadata": {},
   "source": [
    "<h2>Data Collection</h2>\n",
    "<img width=\"30%\" height=\"30%\" src=\"../pics/collect.jpg\"/>\n",
    "<p>De data kan op 3 manieren verzameld worden, dat zijn (op volgorde van kwaliteit van de verzamelingsmethode):</p>"
   ]
  },
  {
   "cell_type": "markdown",
   "id": "445ee668-ee99-4807-b577-9e15eb5c3cfb",
   "metadata": {},
   "source": [
    "<h3>1. Query SQLite Database</h3>"
   ]
  },
  {
   "cell_type": "code",
   "execution_count": 67,
   "id": "3f768681-793a-40d2-a1c5-0b51e9e45e46",
   "metadata": {},
   "outputs": [],
   "source": [
    "dbConnection = sqlite3.connect(dbName)"
   ]
  },
  {
   "cell_type": "code",
   "execution_count": 68,
   "id": "3d106280-2e5b-4b80-9ca4-d03f180e5031",
   "metadata": {
    "tags": []
   },
   "outputs": [],
   "source": [
    "dfFromDB = pd.read_sql_query(f\"SELECT * FROM {tableName}\", dbConnection)\n",
    "pd.set_option('display.max_columns', 10)"
   ]
  },
  {
   "cell_type": "code",
   "execution_count": 69,
   "id": "7bad6aec-586a-47d2-9a46-a74f2f0f8b5b",
   "metadata": {
    "tags": []
   },
   "outputs": [],
   "source": [
    "dbConnection.close()"
   ]
  },
  {
   "cell_type": "markdown",
   "id": "2c8bb809-230b-4521-bc94-947a5fd27115",
   "metadata": {},
   "source": [
    "<h3>2. Collect Data from REST API Server</h3>"
   ]
  },
  {
   "cell_type": "code",
   "execution_count": 70,
   "id": "595dd943-520d-4d28-a6dc-9338f8cd4dae",
   "metadata": {},
   "outputs": [],
   "source": [
    "page1 = requests.get(url).json()"
   ]
  },
  {
   "cell_type": "code",
   "execution_count": 71,
   "id": "cf94655d-e309-4901-8a62-7956e5e015bd",
   "metadata": {
    "tags": []
   },
   "outputs": [],
   "source": [
    "dfFromAPI = pd.DataFrame(page1['data'])"
   ]
  },
  {
   "cell_type": "markdown",
   "id": "17dfd6a7-8733-4438-9193-5d0d49289ab0",
   "metadata": {},
   "source": [
    "<h3>3. Collect Data from CSV</h3>"
   ]
  },
  {
   "cell_type": "code",
   "execution_count": 72,
   "id": "50ef318a-742f-43f4-a1af-13a3d20ed262",
   "metadata": {
    "tags": []
   },
   "outputs": [],
   "source": [
    "dfFromCSV = pd.read_csv(csvFile)"
   ]
  }
 ],
 "metadata": {
  "kernelspec": {
   "display_name": "Python 3 (ipykernel)",
   "language": "python",
   "name": "python3"
  },
  "language_info": {
   "codemirror_mode": {
    "name": "ipython",
    "version": 3
   },
   "file_extension": ".py",
   "mimetype": "text/x-python",
   "name": "python",
   "nbconvert_exporter": "python",
   "pygments_lexer": "ipython3",
   "version": "3.9.16"
  }
 },
 "nbformat": 4,
 "nbformat_minor": 5
}
